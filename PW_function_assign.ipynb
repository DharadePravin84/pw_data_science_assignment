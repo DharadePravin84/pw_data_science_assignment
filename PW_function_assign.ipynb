{
 "cells": [
  {
   "cell_type": "code",
   "execution_count": 13,
   "id": "512f6a5b-4212-4736-aefb-74d55dd1ca89",
   "metadata": {},
   "outputs": [
    {
     "name": "stdout",
     "output_type": "stream",
     "text": [
      "List of odd numbers: [1, 3, 5, 7, 9, 11, 13, 15, 17, 19, 21, 23, 25]\n"
     ]
    }
   ],
   "source": [
    "# Q1. Which keyword is used to create a function? Create a function to return a list of odd numbers in the range of 1 to 25.\n",
    "\n",
    "# Ans: The keyword used to create a function in Python is def.\n",
    "def find_odd_numbers():\n",
    "    odd_numbers = []\n",
    "    for num in range(1, 26):\n",
    "        if num % 2 != 0:\n",
    "            odd_numbers.append(num)\n",
    "    return odd_numbers\n",
    "\n",
    "odd_numbers_list = find_odd_numbers()\n",
    "\n",
    "print(\"List of odd numbers:\", odd_numbers_list)\n",
    "# output : [1, 3, 5, 7, 9, 11, 13, 15, 17, 19, 21, 23, 25]"
   ]
  },
  {
   "cell_type": "code",
   "execution_count": 10,
   "id": "5bf9e18a-fac0-4722-a8c9-371035bacf62",
   "metadata": {},
   "outputs": [
    {
     "name": "stdout",
     "output_type": "stream",
     "text": [
      "1\n",
      "apple\n",
      "[3, 4, 5]\n",
      "banana\n",
      "\n",
      "details:  {'name': 'Pravin', 'Education': 'Engineer', 'age': '22'}\n"
     ]
    }
   ],
   "source": [
    "# Q2. Why *args and **kwargs is used in some functions? Create a function each for *args and **kwargs to\n",
    "# # demonstrate their use.\n",
    "# Ans:\n",
    "\"\"\" *args and **kwargs are special syntax in Python that allow functions to accept a variable number of positional and keyword arguments.\n",
    "They are commonly used in functions when you want to make the function more flexible and capable of handling different input scenarios.\n",
    "\n",
    "*args (Arbitrary Positional Arguments): The *args syntax allows a function to accept any number of positional arguments.\n",
    "These arguments are collected into a tuple within the function, making it possible to handle an arbitrary number of arguments in a function.\n",
    "\"\"\"\n",
    "def display_args(*args):\n",
    "    for arg in args:\n",
    "        print(arg)\n",
    "\n",
    "display_args(1, \"apple\", [3, 4, 5], \"banana\") # output: (1, 'apple', [3, 4, 5], 'banana')\n",
    "\n",
    "\n",
    "print( ) # for separate two different output.\n",
    "\n",
    "\"\"\"\n",
    "**kwargs (Arbitrary Keyword Arguments): The **kwargs syntax allows a function to accept any number of keyword arguments.\n",
    "These arguments are collected into a dictionary within the function, allowing you to handle an arbitrary number of keyword arguments.\n",
    "\"\"\"\n",
    "\n",
    "def display_kwargs(**kwargs):\n",
    "    return kwargs\n",
    "details = display_kwargs(name = 'Pravin',Education='Engineer',age='22')\n",
    "print(\"details: \",details) # output: details:  {'name': 'Pravin', 'Education': 'Engineer', 'age': '22'}\n"
   ]
  },
  {
   "cell_type": "code",
   "execution_count": 11,
   "id": "0529b732-54dc-42f5-affb-db82c70aebcd",
   "metadata": {},
   "outputs": [
    {
     "name": "stdout",
     "output_type": "stream",
     "text": [
      "2\n",
      "4\n",
      "6\n",
      "8\n",
      "10\n"
     ]
    }
   ],
   "source": [
    "# Q3. What is an iterator in python? Name the method used to initialise the iterator object and the method\n",
    "# used for iteration. Use these methods to print the first five elements of the given list [2, 4, 6, 8, 10, 12, 14, 16,\n",
    "# 18, 20].\n",
    "\n",
    "# Ans:\n",
    "\"\"\"\n",
    "The iter() function in Python is used to create an iterator object from an iterable.\n",
    "An iterable is an object that can be looped over, such as lists, tuples, strings, dictionaries, and more.\n",
    "The iter() function allows you to access the elements of an iterable one by one, and \n",
    "it's often used in conjunction with the next() function to iterate over the elements.\n",
    "\"\"\"\n",
    "def print_first_five_elements(lst):\n",
    "    my_iterator = iter(lst)\n",
    "    for _ in range(5):\n",
    "        element = next(my_iterator)\n",
    "        print(element)\n",
    "my_list = [2, 4, 6, 8, 10, 12, 14, 16, 18, 20]\n",
    "print_first_five_elements(my_list) # output: 2,4,6,8,10\n"
   ]
  },
  {
   "cell_type": "code",
   "execution_count": 12,
   "id": "48f24eb7-9191-4541-b603-7210f42bab47",
   "metadata": {},
   "outputs": [
    {
     "name": "stdout",
     "output_type": "stream",
     "text": [
      "1\n",
      "2\n",
      "3\n",
      "4\n",
      "5\n"
     ]
    }
   ],
   "source": [
    "# Q4. What is a generator function in python? Why yield keyword is used? Give an example of a generator function.\n",
    "# Ans :\n",
    "\"\"\"\n",
    "In Python, a generator function is a special type of function that allows you to create an iterator without having to \n",
    "create an iterable class. It is defined like a regular function but uses the yield keyword instead of return to produce a series of\n",
    "values.Generator functions are often used for lazy evaluation, enabling efficient processing of large datasets or infinite \n",
    "sequences because they generate values one at a time, as needed.\n",
    "\"\"\"\n",
    "\n",
    "def count_up_to(n):\n",
    "    i = 1\n",
    "    while i <= n:\n",
    "        yield i\n",
    "        i += 1\n",
    "\n",
    "# Create a generator object\n",
    "my_generator = count_up_to(5)\n",
    "\n",
    "# Use the generator in a for loop\n",
    "for num in my_generator:\n",
    "    print(num)  # output: 1 2 3 4 5\n"
   ]
  },
  {
   "cell_type": "code",
   "execution_count": 4,
   "id": "0ed363ea-46a1-4484-a631-5f5a5aba439f",
   "metadata": {},
   "outputs": [
    {
     "name": "stdout",
     "output_type": "stream",
     "text": [
      "2\n",
      "3\n",
      "5\n",
      "7\n",
      "11\n",
      "13\n",
      "17\n",
      "19\n",
      "23\n",
      "29\n",
      "31\n",
      "37\n",
      "41\n",
      "43\n",
      "47\n",
      "53\n",
      "59\n",
      "61\n",
      "67\n",
      "71\n"
     ]
    }
   ],
   "source": [
    "# Q5. Create a generator function for prime numbers less than 1000. Use the next() method to print the\n",
    "# first 20 prime numbers.\n",
    "\n",
    "# Ans:\n",
    "def is_prime(number):\n",
    "    if number <= 1:\n",
    "        return False\n",
    "    if number <= 3:\n",
    "        return True\n",
    "    if number % 2 == 0:\n",
    "        return False\n",
    "    for i in range(3, int(number**0.5) + 1, 2):\n",
    "        if number % i == 0:\n",
    "            return False\n",
    "    return True\n",
    "\n",
    "def prime_generator(limit):\n",
    "    count = 0\n",
    "    number = 2\n",
    "    while count < limit:\n",
    "        if is_prime(number):\n",
    "            yield number\n",
    "            count += 1\n",
    "        number += 1\n",
    "\n",
    "# Create a generator object for the first 20 prime numbers\n",
    "prime_gen = prime_generator(20)\n",
    "\n",
    "# Use the next() method to print the first 20 prime numbers\n",
    "for _ in range(20):\n",
    "    prime = next(prime_gen)\n",
    "    print(prime)\n",
    "\n",
    "# output : 2,3,5,7,11,13,17,19,23,29,31,37,41,43,47,53,59,61,67,71"
   ]
  },
  {
   "cell_type": "code",
   "execution_count": null,
   "id": "bc3c2537-2ef5-417c-a30c-97f0c72f8b0d",
   "metadata": {},
   "outputs": [],
   "source": []
  }
 ],
 "metadata": {
  "kernelspec": {
   "display_name": "Python 3 (ipykernel)",
   "language": "python",
   "name": "python3"
  },
  "language_info": {
   "codemirror_mode": {
    "name": "ipython",
    "version": 3
   },
   "file_extension": ".py",
   "mimetype": "text/x-python",
   "name": "python",
   "nbconvert_exporter": "python",
   "pygments_lexer": "ipython3",
   "version": "3.10.8"
  }
 },
 "nbformat": 4,
 "nbformat_minor": 5
}
