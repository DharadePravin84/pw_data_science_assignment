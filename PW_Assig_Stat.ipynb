{
  "nbformat": 4,
  "nbformat_minor": 0,
  "metadata": {
    "colab": {
      "provenance": []
    },
    "kernelspec": {
      "name": "python3",
      "display_name": "Python 3"
    },
    "language_info": {
      "name": "python"
    }
  },
  "cells": [
    {
      "cell_type": "markdown",
      "source": [
        "Q1. What is the Probability Density Function?\n",
        "- A Probability Density Function (PDF) is a function that describes the likelihood of a random variable to take on a particular value. For continuous random variables, the PDF is the derivative of the cumulative distribution function (CDF), and it integrates to 1 over the entire space of possible outcomes. The PDF is used to specify the probability of the random variable falling within a particular range of values, as opposed to taking on any one value.\n",
        "\n",
        "Q2. What are the types of Probability Distribution?\n",
        "\n",
        "Probability distributions can be categorized into two main types:\n",
        "\n",
        "1. Discrete Probability Distributions: These describe the probabilities of outcomes of a discrete random variable. Examples include:\n",
        "\n",
        "- Binomial Distribution\n",
        "\n",
        "- Poisson Distribution\n",
        "\n",
        "- Geometric Distribution\n",
        "\n",
        "2. Continuous Probability Distributions: These describe the probabilities of outcomes of a continuous random variable. Examples include:\n",
        "\n",
        "- Normal Distribution\n",
        "- Exponential Distribution\n",
        "- Uniform Distribution\n",
        "\n",
        "Q3. Write a Python function to calculate the probability density function of a normal distribution with given mean and standard deviation at a given point."
      ],
      "metadata": {
        "id": "OilrbZf0yKcX"
      }
    },
    {
      "cell_type": "code",
      "source": [
        "import math\n",
        "\n",
        "def normal_pdf(x, mean, std_dev):\n",
        "    coefficient = 1 / (std_dev * math.sqrt(2 * math.pi))\n",
        "    exponent = math.exp(-0.5 * ((x - mean) / std_dev) ** 2)\n",
        "    return coefficient * exponent\n",
        "\n",
        "# Example usage:\n",
        "mean = 0\n",
        "std_dev = 1\n",
        "x = 1\n",
        "pdf_value = normal_pdf(x, mean, std_dev)\n",
        "print(f\"PDF value at x={x} is {pdf_value}\")\n"
      ],
      "metadata": {
        "colab": {
          "base_uri": "https://localhost:8080/"
        },
        "id": "3pWRSeQ6zEEA",
        "outputId": "b07e3422-42ff-4fb5-ead1-208c211ec986"
      },
      "execution_count": 1,
      "outputs": [
        {
          "output_type": "stream",
          "name": "stdout",
          "text": [
            "PDF value at x=1 is 0.24197072451914337\n"
          ]
        }
      ]
    },
    {
      "cell_type": "markdown",
      "source": [
        "Q4. What are the properties of Binomial distribution? Give two examples of events where binomial distribution can be applied.\n",
        "\n",
        "Properties of Binomial Distribution:\n",
        "\n",
        "1. The number of trials,\n",
        "𝑛\n",
        "n, is fixed.\n",
        "2. Each trial is independent.\n",
        "3. Each trial has only two possible outcomes: success or failure.\n",
        "4. The probability of success,\n",
        "𝑝\n",
        "p, is the same for each trial.\n",
        "\n",
        "Examples:\n",
        "\n",
        "1. Flipping a coin\n",
        "𝑛\n",
        "n times and counting the number of heads.\n",
        "2. Conducting a survey where each respondent answers yes or no, and counting the number of yes responses.\n",
        "\n",
        "Q5. Generate a random sample of size 1000 from a binomial distribution with a probability of success 0.4 and plot a histogram of the results using matplotlib."
      ],
      "metadata": {
        "id": "Ej4BtZXJzP0K"
      }
    },
    {
      "cell_type": "code",
      "source": [
        "import numpy as np\n",
        "import matplotlib.pyplot as plt\n",
        "\n",
        "# Parameters\n",
        "n = 10  # number of trials\n",
        "p = 0.4  # probability of success\n",
        "size = 1000  # sample size\n",
        "\n",
        "# Generate random sample\n",
        "sample = np.random.binomial(n, p, size)\n",
        "\n",
        "# Plot histogram\n",
        "plt.hist(sample, bins=range(n+2), edgecolor='black', alpha=0.7)\n",
        "plt.title('Histogram of Binomial Distribution (n=10, p=0.4)')\n",
        "plt.xlabel('Number of Successes')\n",
        "plt.ylabel('Frequency')\n",
        "plt.show()\n"
      ],
      "metadata": {
        "colab": {
          "base_uri": "https://localhost:8080/",
          "height": 472
        },
        "id": "moOd1yL_zLmK",
        "outputId": "24354e4d-8f88-419b-a69a-b022864be3f2"
      },
      "execution_count": 2,
      "outputs": [
        {
          "output_type": "display_data",
          "data": {
            "text/plain": [
              "<Figure size 640x480 with 1 Axes>"
            ],
            "image/png": "[encoded data removed]"
          },
          "metadata": {}
        }
      ]
    },
    {
      "cell_type": "markdown",
      "source": [
        "Q6. Write a Python function to calculate the cumulative distribution function of a Poisson distribution with given mean at a given point.\n",
        "python\n"
      ],
      "metadata": {
        "id": "a50oCUl_zqUC"
      }
    },
    {
      "cell_type": "code",
      "source": [
        "import scipy.stats as stats\n",
        "\n",
        "def poisson_cdf(k, mean):\n",
        "    return stats.poisson.cdf(k, mean)\n",
        "\n",
        "# Example usage:\n",
        "mean = 5\n",
        "k = 3\n",
        "cdf_value = poisson_cdf(k, mean)\n",
        "print(f\"CDF value at k={k} is {cdf_value}\")\n"
      ],
      "metadata": {
        "colab": {
          "base_uri": "https://localhost:8080/"
        },
        "id": "5-GmYgSzzkjM",
        "outputId": "5300c1bb-7f8f-41e2-ed6f-9f00c1f198f4"
      },
      "execution_count": 3,
      "outputs": [
        {
          "output_type": "stream",
          "name": "stdout",
          "text": [
            "CDF value at k=3 is 0.2650259152973616\n"
          ]
        }
      ]
    },
    {
      "cell_type": "markdown",
      "source": [
        "Q7. How is Binomial distribution different from Poisson distribution?\n",
        "\n",
        "- Binomial Distribution: It describes the number of successes in a fixed number of independent trials with a constant probability of success. It is characterized by two parameters:\n",
        "𝑛\n",
        "n (number of trials) and\n",
        "𝑝\n",
        "p (probability of success).\n",
        "\n",
        "- Poisson Distribution: It describes the number of events occurring in a fixed interval of time or space with a constant mean rate of occurrence. It is characterized by one parameter:\n",
        "𝜆\n",
        "λ (mean number of events).\n",
        "\n",
        "The Poisson distribution can be seen as a limit of the binomial distribution for large\n",
        "𝑛\n",
        "n and small\n",
        "𝑝\n",
        "p such that\n",
        "𝑛\n",
        "𝑝\n",
        "=\n",
        "𝜆\n",
        "np=λ.\n",
        "\n",
        "Q8. Generate a random sample of size 1000 from a Poisson distribution with mean 5 and calculate the sample mean and variance."
      ],
      "metadata": {
        "id": "IzrPwYZkzvKG"
      }
    },
    {
      "cell_type": "code",
      "source": [
        "# Parameters\n",
        "mean = 5\n",
        "size = 1000\n",
        "\n",
        "# Generate random sample\n",
        "sample = np.random.poisson(mean, size)\n",
        "\n",
        "# Calculate sample mean and variance\n",
        "sample_mean = np.mean(sample)\n",
        "sample_variance = np.var(sample)\n",
        "\n",
        "print(f\"Sample Mean: {sample_mean}\")\n",
        "print(f\"Sample Variance: {sample_variance}\")\n"
      ],
      "metadata": {
        "colab": {
          "base_uri": "https://localhost:8080/"
        },
        "id": "eQG18GlyzsB6",
        "outputId": "d56f46f9-fb20-4fdf-fba9-5bde9d087f6d"
      },
      "execution_count": 4,
      "outputs": [
        {
          "output_type": "stream",
          "name": "stdout",
          "text": [
            "Sample Mean: 4.963\n",
            "Sample Variance: 4.939630999999999\n"
          ]
        }
      ]
    },
    {
      "cell_type": "markdown",
      "source": [
        "Q9. How are mean and variance related in Binomial distribution and Poisson distribution?\n",
        "\n",
        "- Binomial Distribution: The mean (\n",
        "𝜇\n",
        "μ) and variance (\n",
        "𝜎\n",
        "2\n",
        "σ\n",
        "2\n",
        " ) are given by:\n",
        "\n",
        "𝜇\n",
        "=\n",
        "𝑛\n",
        "𝑝\n",
        "μ=np\n",
        "\n",
        "𝜎\n",
        "2\n",
        "=\n",
        "𝑛\n",
        "𝑝\n",
        "(\n",
        "1\n",
        "−\n",
        "𝑝\n",
        ")\n",
        "σ\n",
        "2\n",
        " =np(1−p)\n",
        "- Poisson Distribution: The mean (\n",
        "𝜇\n",
        "μ) and variance (\n",
        "𝜎\n",
        "2\n",
        "σ\n",
        "2\n",
        " ) are both equal to\n",
        "𝜆\n",
        "λ:\n",
        "\n",
        "𝜇\n",
        "=\n",
        "𝜆\n",
        "μ=λ\n",
        "\n",
        "𝜎\n",
        "2\n",
        "=\n",
        "𝜆\n",
        "σ\n",
        "2\n",
        " =λ\n",
        "\n",
        "\n",
        "Q10. In a normal distribution with respect to mean position, where does the least frequent data appear?\n",
        "- In a normal distribution, the least frequent data appears in the tails, farthest from the mean. This corresponds to values that are several standard deviations away from the mean, either in the positive or negative direction."
      ],
      "metadata": {
        "id": "LoXOpqD2z-tc"
      }
    },
    {
      "cell_type": "code",
      "source": [],
      "metadata": {
        "id": "ODBEt9fxz70Y"
      },
      "execution_count": null,
      "outputs": []
    }
  ]
}