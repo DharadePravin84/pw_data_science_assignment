{
  "nbformat": 4,
  "nbformat_minor": 0,
  "metadata": {
    "colab": {
      "provenance": []
    },
    "kernelspec": {
      "name": "python3",
      "display_name": "Python 3"
    },
    "language_info": {
      "name": "python"
    }
  },
  "cells": [
    {
      "cell_type": "markdown",
      "source": [
        "Q1. List any five functions of the pandas library with execution.\n",
        "\n",
        "1. read_csv(): Reads a CSV file into a DataFrame.\n",
        "2. head(): Returns the first n rows of a DataFrame.\n",
        "3. describe(): Generates descriptive statistics.\n",
        "4. groupby(): Groups DataFrame using a mapper or by a Series of columns.\n",
        "5. merge(): Merges DataFrame or named Series objects with a database-style join."
      ],
      "metadata": {
        "id": "eGoyk-FN38Pa"
      }
    },
    {
      "cell_type": "code",
      "source": [
        "import pandas as pd\n",
        "from sklearn.datasets import load_iris\n",
        "\n",
        "# Load Iris dataset\n",
        "iris = load_iris()\n",
        "df = pd.DataFrame(data=iris.data, columns=iris.feature_names)\n",
        "df['species'] = iris.target\n",
        "\n",
        "# 1. head()\n",
        "print(\"First 5 rows of the DataFrame:\")\n",
        "print(df.head())\n",
        "\n",
        "# 2. describe()\n",
        "print(\"\\nDescriptive statistics:\")\n",
        "print(df.describe())\n",
        "\n",
        "# 3. groupby()\n",
        "grouped_df = df.groupby('species').mean()\n",
        "print(\"\\nGrouped DataFrame by 'species':\")\n",
        "print(grouped_df)\n",
        "\n",
        "# 4. merge()\n",
        "df1 = df[['sepal length (cm)', 'species']].iloc[:75]\n",
        "df2 = df[['sepal width (cm)', 'species']].iloc[75:]\n",
        "merged_df = pd.merge(df1, df2, on='species', how='inner')\n",
        "print(\"\\nMerged DataFrame:\")\n",
        "print(merged_df.head())\n"
      ],
      "metadata": {
        "colab": {
          "base_uri": "https://localhost:8080/"
        },
        "id": "_Tvnzk1s3-Uw",
        "outputId": "77bd9503-9db1-4fad-e3a3-8d59454f46f5"
      },
      "execution_count": 2,
      "outputs": [
        {
          "output_type": "stream",
          "name": "stdout",
          "text": [
            "First 5 rows of the DataFrame:\n",
            "   sepal length (cm)  sepal width (cm)  petal length (cm)  petal width (cm)  \\\n",
            "0                5.1               3.5                1.4               0.2   \n",
            "1                4.9               3.0                1.4               0.2   \n",
            "2                4.7               3.2                1.3               0.2   \n",
            "3                4.6               3.1                1.5               0.2   \n",
            "4                5.0               3.6                1.4               0.2   \n",
            "\n",
            "   species  \n",
            "0        0  \n",
            "1        0  \n",
            "2        0  \n",
            "3        0  \n",
            "4        0  \n",
            "\n",
            "Descriptive statistics:\n",
            "       sepal length (cm)  sepal width (cm)  petal length (cm)  \\\n",
            "count         150.000000        150.000000         150.000000   \n",
            "mean            5.843333          3.057333           3.758000   \n",
            "std             0.828066          0.435866           1.765298   \n",
            "min             4.300000          2.000000           1.000000   \n",
            "25%             5.100000          2.800000           1.600000   \n",
            "50%             5.800000          3.000000           4.350000   \n",
            "75%             6.400000          3.300000           5.100000   \n",
            "max             7.900000          4.400000           6.900000   \n",
            "\n",
            "       petal width (cm)     species  \n",
            "count        150.000000  150.000000  \n",
            "mean           1.199333    1.000000  \n",
            "std            0.762238    0.819232  \n",
            "min            0.100000    0.000000  \n",
            "25%            0.300000    0.000000  \n",
            "50%            1.300000    1.000000  \n",
            "75%            1.800000    2.000000  \n",
            "max            2.500000    2.000000  \n",
            "\n",
            "Grouped DataFrame by 'species':\n",
            "         sepal length (cm)  sepal width (cm)  petal length (cm)  \\\n",
            "species                                                           \n",
            "0                    5.006             3.428              1.462   \n",
            "1                    5.936             2.770              4.260   \n",
            "2                    6.588             2.974              5.552   \n",
            "\n",
            "         petal width (cm)  \n",
            "species                    \n",
            "0                   0.246  \n",
            "1                   1.326  \n",
            "2                   2.026  \n",
            "\n",
            "Merged DataFrame:\n",
            "   sepal length (cm)  species  sepal width (cm)\n",
            "0                7.0        1               3.0\n",
            "1                7.0        1               2.8\n",
            "2                7.0        1               3.0\n",
            "3                7.0        1               2.9\n",
            "4                7.0        1               2.6\n"
          ]
        }
      ]
    },
    {
      "cell_type": "markdown",
      "source": [
        "Q2. Given a Pandas DataFrame df with columns 'A', 'B', and 'C', write a Python function to re-index the\n",
        "DataFrame with a new index that starts from 1 and increments by 2 for each row."
      ],
      "metadata": {
        "id": "Jmlfik0i7edP"
      }
    },
    {
      "cell_type": "code",
      "source": [
        "def reindex_dataframe(df):\n",
        "    new_index = range(1, 2 * len(df) + 1, 2)\n",
        "    df_reindexed = df.set_index(pd.Index(new_index))\n",
        "    return df_reindexed\n",
        "\n",
        "# Example DataFrame\n",
        "df = pd.DataFrame({'A': [1, 2, 3], 'B': [4, 5, 6], 'C': [7, 8, 9]})\n",
        "print(\"Original DataFrame:\")\n",
        "print(df)\n",
        "\n",
        "# Reindexing DataFrame\n",
        "df_reindexed = reindex_dataframe(df)\n",
        "print(\"\\nReindexed DataFrame:\")\n",
        "print(df_reindexed)\n"
      ],
      "metadata": {
        "colab": {
          "base_uri": "https://localhost:8080/"
        },
        "id": "KXG0bcqQ4dlE",
        "outputId": "ebc7be82-687a-4844-e6a5-9552ac0507f8"
      },
      "execution_count": 3,
      "outputs": [
        {
          "output_type": "stream",
          "name": "stdout",
          "text": [
            "Original DataFrame:\n",
            "   A  B  C\n",
            "0  1  4  7\n",
            "1  2  5  8\n",
            "2  3  6  9\n",
            "\n",
            "Reindexed DataFrame:\n",
            "   A  B  C\n",
            "1  1  4  7\n",
            "3  2  5  8\n",
            "5  3  6  9\n"
          ]
        }
      ]
    },
    {
      "cell_type": "markdown",
      "source": [
        "Q3. You have a Pandas DataFrame df with a column named 'Values'. Write a Python function that\n",
        "iterates over the DataFrame and calculates the sum of the first three values in the 'Values' column. The\n",
        "function should print the sum to the console."
      ],
      "metadata": {
        "id": "0pvgDKoc7m9s"
      }
    },
    {
      "cell_type": "code",
      "source": [
        "def sum_first_three_values(df):\n",
        "    sum_values = df['Values'][:3].sum()\n",
        "    print(f\"Sum of the first three values: {sum_values}\")\n",
        "\n",
        "# Example DataFrame\n",
        "df = pd.DataFrame({'Values': [10, 20, 30, 40, 50]})\n",
        "print(\"Original DataFrame:\")\n",
        "print(df)\n",
        "\n",
        "# Calculating sum of the first three values\n",
        "sum_first_three_values(df)\n"
      ],
      "metadata": {
        "colab": {
          "base_uri": "https://localhost:8080/"
        },
        "id": "FER6EYe47h3A",
        "outputId": "f5705415-0dbc-40e7-dad0-3c40951d0b94"
      },
      "execution_count": 4,
      "outputs": [
        {
          "output_type": "stream",
          "name": "stdout",
          "text": [
            "Original DataFrame:\n",
            "   Values\n",
            "0      10\n",
            "1      20\n",
            "2      30\n",
            "3      40\n",
            "4      50\n",
            "Sum of the first three values: 60\n"
          ]
        }
      ]
    },
    {
      "cell_type": "markdown",
      "source": [
        "Q4. Given a Pandas DataFrame df with a column 'Text', write a Python function to create a new column\n",
        "'Word_Count' that contains the number of words in each row of the 'Text' column."
      ],
      "metadata": {
        "id": "mSM-gXiQ77xg"
      }
    },
    {
      "cell_type": "code",
      "source": [
        "def add_word_count_column(df):\n",
        "    df['Word_Count'] = df['Text'].apply(lambda x: len(str(x).split()))\n",
        "    return df\n",
        "\n",
        "# Example DataFrame\n",
        "df = pd.DataFrame({'Text': [\"Hello world\", \"Pandas is great\", \"This is a test\"]})\n",
        "print(\"Original DataFrame:\")\n",
        "print(df)\n",
        "\n",
        "# Adding Word_Count column\n",
        "df_with_word_count = add_word_count_column(df)\n",
        "print(\"\\nDataFrame with Word_Count column:\")\n",
        "print(df_with_word_count)\n"
      ],
      "metadata": {
        "colab": {
          "base_uri": "https://localhost:8080/"
        },
        "id": "S1SE7q837x30",
        "outputId": "604a6c75-1e9c-46c1-82b7-4eb121d4fb6a"
      },
      "execution_count": 5,
      "outputs": [
        {
          "output_type": "stream",
          "name": "stdout",
          "text": [
            "Original DataFrame:\n",
            "              Text\n",
            "0      Hello world\n",
            "1  Pandas is great\n",
            "2   This is a test\n",
            "\n",
            "DataFrame with Word_Count column:\n",
            "              Text  Word_Count\n",
            "0      Hello world           2\n",
            "1  Pandas is great           3\n",
            "2   This is a test           4\n"
          ]
        }
      ]
    },
    {
      "cell_type": "markdown",
      "source": [
        "Q5. How are DataFrame.size() and DataFrame.shape() different?\n",
        "\n",
        "- DataFrame.size: Returns the number of elements in the DataFrame (total number of cells).\n",
        "\n",
        "- DataFrame.shape: Returns a tuple representing the dimensionality of the DataFrame (number of rows and columns)."
      ],
      "metadata": {
        "id": "mFDbCDRa8H7Y"
      }
    },
    {
      "cell_type": "code",
      "source": [
        "# Example DataFrame\n",
        "df = pd.DataFrame({'A': [1, 2, 3], 'B': [4, 5, 6]})\n",
        "print(\"Original DataFrame:\")\n",
        "print(df)\n",
        "\n",
        "# Using size and shape\n",
        "print(\"\\nDataFrame size:\")\n",
        "print(df.size)  # Output: 6 (3 rows * 2 columns)\n",
        "\n",
        "print(\"\\nDataFrame shape:\")\n",
        "print(df.shape)  # Output: (3, 2) (3 rows, 2 columns)\n"
      ],
      "metadata": {
        "colab": {
          "base_uri": "https://localhost:8080/"
        },
        "id": "HP7C2kcd8AEs",
        "outputId": "a1c4e414-d4df-4ad7-e963-c38f4876ce3c"
      },
      "execution_count": 6,
      "outputs": [
        {
          "output_type": "stream",
          "name": "stdout",
          "text": [
            "Original DataFrame:\n",
            "   A  B\n",
            "0  1  4\n",
            "1  2  5\n",
            "2  3  6\n",
            "\n",
            "DataFrame size:\n",
            "6\n",
            "\n",
            "DataFrame shape:\n",
            "(3, 2)\n"
          ]
        }
      ]
    },
    {
      "cell_type": "markdown",
      "source": [
        "Q6. Which function of pandas do we use to read an excel file?\n",
        "\n",
        "The function used to read an Excel file in pandas is read_excel()."
      ],
      "metadata": {
        "id": "AVQ-ZKGF8pxf"
      }
    },
    {
      "cell_type": "code",
      "source": [
        "'''\n",
        "# Reading an Excel file\n",
        "df = pd.read_excel('data.xlsx')\n",
        "print(\"DataFrame from Excel file:\")\n",
        "print(df.head())\n",
        "'''"
      ],
      "metadata": {
        "colab": {
          "base_uri": "https://localhost:8080/",
          "height": 53
        },
        "id": "MFAc5Vik8aaa",
        "outputId": "fe843d6f-9bff-43ee-8eaf-8cf6561fe6a2"
      },
      "execution_count": 15,
      "outputs": [
        {
          "output_type": "execute_result",
          "data": {
            "text/plain": [
              "'\\n# Reading an Excel file\\ndf = pd.read_excel(\\'data.xlsx\\')  \\nprint(\"DataFrame from Excel file:\")\\nprint(df.head())\\n'"
            ],
            "application/vnd.google.colaboratory.intrinsic+json": {
              "type": "string"
            }
          },
          "metadata": {},
          "execution_count": 15
        }
      ]
    },
    {
      "cell_type": "markdown",
      "source": [
        "Q7. You have a Pandas DataFrame df that contains a column named 'Email' that contains email\n",
        "addresses in the format 'username@domain.com'. Write a Python function that creates a new column\n",
        "'Username' in df that contains only the username part of each email address.\n",
        "The username is the part of the email address that appears before the '@' symbol. For example, if the\n",
        "email address is 'john.doe@example.com', the 'Username' column should contain 'john.doe'. Your\n",
        "function should extract the username from each email address and store it in the new 'Username'\n",
        "column."
      ],
      "metadata": {
        "id": "0nCfblq79Plg"
      }
    },
    {
      "cell_type": "code",
      "source": [
        "def extract_usernames(df):\n",
        "    df['Username'] = df['Email'].apply(lambda x: x.split('@')[0])\n",
        "    return df\n",
        "\n",
        "# Example DataFrame\n",
        "df = pd.DataFrame({'Email': ['john.doe@example.com', 'jane.doe@example.com']})\n",
        "print(\"Original DataFrame:\")\n",
        "print(df)\n",
        "\n",
        "# Extracting usernames\n",
        "df_with_usernames = extract_usernames(df)\n",
        "print(\"\\nDataFrame with Username column:\")\n",
        "print(df_with_usernames)\n"
      ],
      "metadata": {
        "colab": {
          "base_uri": "https://localhost:8080/"
        },
        "id": "vyeymQtL82pd",
        "outputId": "71e1edb4-81a6-47f2-8d34-53e238cea2bd"
      },
      "execution_count": 8,
      "outputs": [
        {
          "output_type": "stream",
          "name": "stdout",
          "text": [
            "Original DataFrame:\n",
            "                  Email\n",
            "0  john.doe@example.com\n",
            "1  jane.doe@example.com\n",
            "\n",
            "DataFrame with Username column:\n",
            "                  Email  Username\n",
            "0  john.doe@example.com  john.doe\n",
            "1  jane.doe@example.com  jane.doe\n"
          ]
        }
      ]
    },
    {
      "cell_type": "markdown",
      "source": [
        "Q8. You have a Pandas DataFrame df with columns 'A', 'B', and 'C'. Write a Python function that selects\n",
        "all rows where the value in column 'A' is greater than 5 and the value in column 'B' is less than 10. The\n",
        "function should return a new DataFrame that contains only the selected rows."
      ],
      "metadata": {
        "id": "zLs3rnN69cDJ"
      }
    },
    {
      "cell_type": "code",
      "source": [
        "def select_rows(df):\n",
        "    selected_rows = df[(df['A'] > 5) & (df['B'] < 10)]\n",
        "    return selected_rows\n",
        "\n",
        "# Example DataFrame\n",
        "df = pd.DataFrame({'A': [3, 8, 6, 2, 9], 'B': [5, 2, 9, 3, 1], 'C': [1, 7, 4, 5, 2]})\n",
        "print(\"Original DataFrame:\")\n",
        "print(df)\n",
        "\n",
        "# Selecting rows\n",
        "selected_df = select_rows(df)\n",
        "print(\"\\nSelected rows:\")\n",
        "print(selected_df)\n"
      ],
      "metadata": {
        "colab": {
          "base_uri": "https://localhost:8080/"
        },
        "id": "u2t4znXj9SJV",
        "outputId": "4fd1c2a4-2c22-47a2-bc8f-1d38dcefa438"
      },
      "execution_count": 9,
      "outputs": [
        {
          "output_type": "stream",
          "name": "stdout",
          "text": [
            "Original DataFrame:\n",
            "   A  B  C\n",
            "0  3  5  1\n",
            "1  8  2  7\n",
            "2  6  9  4\n",
            "3  2  3  5\n",
            "4  9  1  2\n",
            "\n",
            "Selected rows:\n",
            "   A  B  C\n",
            "1  8  2  7\n",
            "2  6  9  4\n",
            "4  9  1  2\n"
          ]
        }
      ]
    },
    {
      "cell_type": "markdown",
      "source": [
        "Q9. Given a Pandas DataFrame df with a column 'Values', write a Python function to calculate the mean,\n",
        "median, and standard deviation of the values in the 'Values' column."
      ],
      "metadata": {
        "id": "f6AnLSiv9kPR"
      }
    },
    {
      "cell_type": "code",
      "source": [
        "def calculate_statistics(df):\n",
        "    mean_value = df['Values'].mean()\n",
        "    median_value = df['Values'].median()\n",
        "    std_dev = df['Values'].std()\n",
        "    return mean_value, median_value, std_dev\n",
        "\n",
        "# Example DataFrame\n",
        "df = pd.DataFrame({'Values': [10, 20, 30, 40, 50]})\n",
        "print(\"Original DataFrame:\")\n",
        "print(df)\n",
        "\n",
        "# Calculating statistics\n",
        "mean_value, median_value, std_dev = calculate_statistics(df)\n",
        "print(f\"\\nMean: {mean_value}, Median: {median_value}, Standard Deviation: {std_dev}\")\n"
      ],
      "metadata": {
        "colab": {
          "base_uri": "https://localhost:8080/"
        },
        "id": "v8RaxGip9Uky",
        "outputId": "289c016f-b8c7-4698-ada8-af28a9b22cc6"
      },
      "execution_count": 10,
      "outputs": [
        {
          "output_type": "stream",
          "name": "stdout",
          "text": [
            "Original DataFrame:\n",
            "   Values\n",
            "0      10\n",
            "1      20\n",
            "2      30\n",
            "3      40\n",
            "4      50\n",
            "\n",
            "Mean: 30.0, Median: 30.0, Standard Deviation: 15.811388300841896\n"
          ]
        }
      ]
    },
    {
      "cell_type": "markdown",
      "source": [
        "Q10. Given a Pandas DataFrame df with a column 'Sales' and a column 'Date', write a Python function to\n",
        "create a new column 'MovingAverage' that contains the moving average of the sales for the past 7 days\n",
        "for each row in the DataFrame. The moving average should be calculated using a window of size 7 and\n",
        "should include the current day."
      ],
      "metadata": {
        "id": "0Z_vfLoD9njl"
      }
    },
    {
      "cell_type": "code",
      "source": [
        "def add_moving_average(df):\n",
        "    df['MovingAverage'] = df['Sales'].rolling(window=7, min_periods=1).mean()\n",
        "    return df\n",
        "\n",
        "# Example DataFrame\n",
        "df = pd.DataFrame({\n",
        "    'Date': pd.date_range(start='2023-01-01', periods=10, freq='D'),\n",
        "    'Sales': [10, 20, 30, 40, 50, 60, 70, 80, 90, 100]\n",
        "})\n",
        "print(\"Original DataFrame:\")\n",
        "print(df)\n",
        "\n",
        "# Adding moving average\n",
        "df_with_moving_average = add_moving_average(df)\n",
        "print(\"\\nDataFrame with MovingAverage column:\")\n",
        "print(df_with_moving_average)\n"
      ],
      "metadata": {
        "colab": {
          "base_uri": "https://localhost:8080/"
        },
        "id": "ZBBYGaxH9Wvo",
        "outputId": "409a5551-d290-4dc6-d2b3-67e1dfe7bcb7"
      },
      "execution_count": 11,
      "outputs": [
        {
          "output_type": "stream",
          "name": "stdout",
          "text": [
            "Original DataFrame:\n",
            "        Date  Sales\n",
            "0 2023-01-01     10\n",
            "1 2023-01-02     20\n",
            "2 2023-01-03     30\n",
            "3 2023-01-04     40\n",
            "4 2023-01-05     50\n",
            "5 2023-01-06     60\n",
            "6 2023-01-07     70\n",
            "7 2023-01-08     80\n",
            "8 2023-01-09     90\n",
            "9 2023-01-10    100\n",
            "\n",
            "DataFrame with MovingAverage column:\n",
            "        Date  Sales  MovingAverage\n",
            "0 2023-01-01     10           10.0\n",
            "1 2023-01-02     20           15.0\n",
            "2 2023-01-03     30           20.0\n",
            "3 2023-01-04     40           25.0\n",
            "4 2023-01-05     50           30.0\n",
            "5 2023-01-06     60           35.0\n",
            "6 2023-01-07     70           40.0\n",
            "7 2023-01-08     80           50.0\n",
            "8 2023-01-09     90           60.0\n",
            "9 2023-01-10    100           70.0\n"
          ]
        }
      ]
    },
    {
      "cell_type": "markdown",
      "source": [
        "Q11. You have a Pandas DataFrame df with a column 'Date'. Write a Python function that creates a new\n",
        "column 'Weekday' in the DataFrame. The 'Weekday' column should contain the weekday name (e.g.\n",
        "Monday, Tuesday) corresponding to each date in the 'Date' column."
      ],
      "metadata": {
        "id": "b6pHwlnL9rVe"
      }
    },
    {
      "cell_type": "code",
      "source": [
        "def add_weekday_column(df):\n",
        "    df['Weekday'] = df['Date'].dt.day_name()\n",
        "    return df\n",
        "\n",
        "# Example DataFrame\n",
        "df = pd.DataFrame({'Date': pd.date_range(start='2023-01-01', periods=5, freq='D')})\n",
        "print(\"Original DataFrame:\")\n",
        "print(df)\n",
        "\n",
        "# Adding weekday column\n",
        "df_with_weekday = add_weekday_column(df)\n",
        "print(\"\\nDataFrame with Weekday column:\")\n",
        "print(df_with_weekday)\n"
      ],
      "metadata": {
        "colab": {
          "base_uri": "https://localhost:8080/"
        },
        "id": "ylISB0-l9ryP",
        "outputId": "4b2744f5-e4ba-4efa-e85a-068fe1c8faa2"
      },
      "execution_count": 12,
      "outputs": [
        {
          "output_type": "stream",
          "name": "stdout",
          "text": [
            "Original DataFrame:\n",
            "        Date\n",
            "0 2023-01-01\n",
            "1 2023-01-02\n",
            "2 2023-01-03\n",
            "3 2023-01-04\n",
            "4 2023-01-05\n",
            "\n",
            "DataFrame with Weekday column:\n",
            "        Date    Weekday\n",
            "0 2023-01-01     Sunday\n",
            "1 2023-01-02     Monday\n",
            "2 2023-01-03    Tuesday\n",
            "3 2023-01-04  Wednesday\n",
            "4 2023-01-05   Thursday\n"
          ]
        }
      ]
    },
    {
      "cell_type": "markdown",
      "source": [
        "Q12. Given a Pandas DataFrame df with a column 'Date' that contains timestamps, write a Python\n",
        "function to select all rows where the date is between '2023-01-01' and '2023-01-31'."
      ],
      "metadata": {
        "id": "IoYUuMIQ9uSS"
      }
    },
    {
      "cell_type": "code",
      "source": [
        "def select_rows_between_dates(df):\n",
        "    start_date = '2023-01-01'\n",
        "    end_date = '2023-01-31'\n",
        "    mask = (df['Date'] >= start_date) & (df['Date'] <= end_date)\n",
        "    return df.loc[mask]\n",
        "\n",
        "# Example DataFrame\n",
        "df = pd.DataFrame({\n",
        "    'Date': pd.date_range(start='2023-01-01', periods=60, freq='D'),\n",
        "    'Values': range(60)\n",
        "})\n",
        "print(\"Original DataFrame:\")\n",
        "print(df)\n",
        "\n",
        "# Selecting rows\n",
        "selected_df = select_rows_between_dates(df)\n",
        "print(\"\\nSelected rows:\")\n",
        "print(selected_df)\n"
      ],
      "metadata": {
        "colab": {
          "base_uri": "https://localhost:8080/"
        },
        "id": "1Hs5m61_9uvf",
        "outputId": "da610273-1c5e-4451-de15-3a253a27c5a7"
      },
      "execution_count": 13,
      "outputs": [
        {
          "output_type": "stream",
          "name": "stdout",
          "text": [
            "Original DataFrame:\n",
            "         Date  Values\n",
            "0  2023-01-01       0\n",
            "1  2023-01-02       1\n",
            "2  2023-01-03       2\n",
            "3  2023-01-04       3\n",
            "4  2023-01-05       4\n",
            "5  2023-01-06       5\n",
            "6  2023-01-07       6\n",
            "7  2023-01-08       7\n",
            "8  2023-01-09       8\n",
            "9  2023-01-10       9\n",
            "10 2023-01-11      10\n",
            "11 2023-01-12      11\n",
            "12 2023-01-13      12\n",
            "13 2023-01-14      13\n",
            "14 2023-01-15      14\n",
            "15 2023-01-16      15\n",
            "16 2023-01-17      16\n",
            "17 2023-01-18      17\n",
            "18 2023-01-19      18\n",
            "19 2023-01-20      19\n",
            "20 2023-01-21      20\n",
            "21 2023-01-22      21\n",
            "22 2023-01-23      22\n",
            "23 2023-01-24      23\n",
            "24 2023-01-25      24\n",
            "25 2023-01-26      25\n",
            "26 2023-01-27      26\n",
            "27 2023-01-28      27\n",
            "28 2023-01-29      28\n",
            "29 2023-01-30      29\n",
            "30 2023-01-31      30\n",
            "31 2023-02-01      31\n",
            "32 2023-02-02      32\n",
            "33 2023-02-03      33\n",
            "34 2023-02-04      34\n",
            "35 2023-02-05      35\n",
            "36 2023-02-06      36\n",
            "37 2023-02-07      37\n",
            "38 2023-02-08      38\n",
            "39 2023-02-09      39\n",
            "40 2023-02-10      40\n",
            "41 2023-02-11      41\n",
            "42 2023-02-12      42\n",
            "43 2023-02-13      43\n",
            "44 2023-02-14      44\n",
            "45 2023-02-15      45\n",
            "46 2023-02-16      46\n",
            "47 2023-02-17      47\n",
            "48 2023-02-18      48\n",
            "49 2023-02-19      49\n",
            "50 2023-02-20      50\n",
            "51 2023-02-21      51\n",
            "52 2023-02-22      52\n",
            "53 2023-02-23      53\n",
            "54 2023-02-24      54\n",
            "55 2023-02-25      55\n",
            "56 2023-02-26      56\n",
            "57 2023-02-27      57\n",
            "58 2023-02-28      58\n",
            "59 2023-03-01      59\n",
            "\n",
            "Selected rows:\n",
            "         Date  Values\n",
            "0  2023-01-01       0\n",
            "1  2023-01-02       1\n",
            "2  2023-01-03       2\n",
            "3  2023-01-04       3\n",
            "4  2023-01-05       4\n",
            "5  2023-01-06       5\n",
            "6  2023-01-07       6\n",
            "7  2023-01-08       7\n",
            "8  2023-01-09       8\n",
            "9  2023-01-10       9\n",
            "10 2023-01-11      10\n",
            "11 2023-01-12      11\n",
            "12 2023-01-13      12\n",
            "13 2023-01-14      13\n",
            "14 2023-01-15      14\n",
            "15 2023-01-16      15\n",
            "16 2023-01-17      16\n",
            "17 2023-01-18      17\n",
            "18 2023-01-19      18\n",
            "19 2023-01-20      19\n",
            "20 2023-01-21      20\n",
            "21 2023-01-22      21\n",
            "22 2023-01-23      22\n",
            "23 2023-01-24      23\n",
            "24 2023-01-25      24\n",
            "25 2023-01-26      25\n",
            "26 2023-01-27      26\n",
            "27 2023-01-28      27\n",
            "28 2023-01-29      28\n",
            "29 2023-01-30      29\n",
            "30 2023-01-31      30\n"
          ]
        }
      ]
    },
    {
      "cell_type": "markdown",
      "source": [
        "Q13. To use the basic functions of pandas, what is the first and foremost necessary library that needs to\n",
        "be imported?\n",
        "\n",
        "The first and foremost necessary library to be imported to use pandas is pandas"
      ],
      "metadata": {
        "id": "Cj2_LEDR9v_7"
      }
    },
    {
      "cell_type": "code",
      "source": [
        "import pandas as pd\n"
      ],
      "metadata": {
        "id": "uJ-ufwv19waZ"
      },
      "execution_count": 14,
      "outputs": []
    }
  ]
}