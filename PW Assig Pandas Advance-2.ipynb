{
 "cells": [
  {
   "cell_type": "code",
   "execution_count": 4,
   "id": "05b105c2-e791-4cb9-b2d1-0444e7326007",
   "metadata": {},
   "outputs": [],
   "source": [
    "import pandas as pd\n"
   ]
  },
  {
   "cell_type": "code",
   "execution_count": 8,
   "id": "db2c8ae4-4ba5-4d4f-b93e-0033a45d72cc",
   "metadata": {},
   "outputs": [
    {
     "data": {
      "text/html": [
       "<div>\n",
       "<style scoped>\n",
       "    .dataframe tbody tr th:only-of-type {\n",
       "        vertical-align: middle;\n",
       "    }\n",
       "\n",
       "    .dataframe tbody tr th {\n",
       "        vertical-align: top;\n",
       "    }\n",
       "\n",
       "    .dataframe thead th {\n",
       "        text-align: right;\n",
       "    }\n",
       "</style>\n",
       "<table border=\"1\" class=\"dataframe\">\n",
       "  <thead>\n",
       "    <tr style=\"text-align: right;\">\n",
       "      <th></th>\n",
       "      <th>course_name</th>\n",
       "      <th>duration</th>\n",
       "    </tr>\n",
       "  </thead>\n",
       "  <tbody>\n",
       "    <tr>\n",
       "      <th>0</th>\n",
       "      <td>Data Science</td>\n",
       "      <td>2</td>\n",
       "    </tr>\n",
       "    <tr>\n",
       "      <th>1</th>\n",
       "      <td>Machine Learning</td>\n",
       "      <td>3</td>\n",
       "    </tr>\n",
       "    <tr>\n",
       "      <th>2</th>\n",
       "      <td>Big Data</td>\n",
       "      <td>6</td>\n",
       "    </tr>\n",
       "    <tr>\n",
       "      <th>3</th>\n",
       "      <td>Data Engineer</td>\n",
       "      <td>4</td>\n",
       "    </tr>\n",
       "  </tbody>\n",
       "</table>\n",
       "</div>"
      ],
      "text/plain": [
       "        course_name  duration\n",
       "0      Data Science         2\n",
       "1  Machine Learning         3\n",
       "2          Big Data         6\n",
       "3     Data Engineer         4"
      ]
     },
     "execution_count": 8,
     "metadata": {},
     "output_type": "execute_result"
    }
   ],
   "source": [
    "course_name = ['Data Science', 'Machine Learning', 'Big Data', 'Data Engineer']\n",
    "duration = [2,3,6,4]\n",
    "df = pd.DataFrame(data = {'course_name':course_name, 'duration':duration})\n",
    "df"
   ]
  },
  {
   "cell_type": "markdown",
   "id": "b94b5615-0cd4-409e-99b1-8de28eb2e9ee",
   "metadata": {},
   "source": [
    "Q1. Write a code to print the data present in the second row of the dataframe, df."
   ]
  },
  {
   "cell_type": "code",
   "execution_count": 7,
   "id": "6cae9a6a-813f-4b1f-9775-c64ec0f61bee",
   "metadata": {},
   "outputs": [
    {
     "name": "stdout",
     "output_type": "stream",
     "text": [
      "course_name    Machine Learning\n",
      "duration                      3\n",
      "Name: 1, dtype: object\n"
     ]
    }
   ],
   "source": [
    "print(df.iloc[1])"
   ]
  },
  {
   "cell_type": "markdown",
   "id": "e9379829-5608-4bc2-ac03-e0a77aa440e0",
   "metadata": {},
   "source": [
    "Q2. What is the difference between the functions loc and iloc in pandas.DataFrame?\n",
    "\n",
    "Ans:\n",
    "- The loc[ ] function is used to access a group of rows and columns by labels or a boolean array, while iloc[ ] is used for integer-location based indexing."
   ]
  },
  {
   "cell_type": "markdown",
   "id": "e2187ad0-0a27-4996-8d7b-2534ea8a3a31",
   "metadata": {},
   "source": [
    "Q3. Reindex the given dataframe using a variable, reindex = [3,0,1,2] and store it in the variable, new_df then find the output for both new_df.loc[2] and new_df.iloc[2].\n",
    "\n",
    "Did you observe any difference in both the outputs? If so then explain it.\n"
   ]
  },
  {
   "cell_type": "code",
   "execution_count": 18,
   "id": "3dba910f-0d58-4ff1-a5c7-ec8fa7d44305",
   "metadata": {},
   "outputs": [
    {
     "name": "stdout",
     "output_type": "stream",
     "text": [
      "Output for new_df.loc[2]: course_name    Big Data\n",
      "duration              6\n",
      "Name: 2, dtype: object\n",
      "\n",
      "Output for new_df.iloc[2]: course_name    Machine Learning\n",
      "duration                      3\n",
      "Name: 1, dtype: object\n"
     ]
    }
   ],
   "source": [
    "reindex = [3,0,1,2]\n",
    "new_df = df.reindex(reindex)\n",
    "\n",
    "# Reindexing the dataframe\n",
    "print(f\"Output for new_df.loc[2]: {new_df.loc[2]}\")\n",
    "\n",
    "print(f\"\\nOutput for new_df.iloc[2]: {new_df.iloc[2]}\")"
   ]
  },
  {
   "cell_type": "markdown",
   "id": "6fe9f305-5b25-46eb-906b-47cdb6e8ed83",
   "metadata": {},
   "source": [
    "---------------------------------------------------------------------------\n",
    "Consider the below code to answer further questions:\n",
    "- import pandas as pd\n",
    "- import numpy as np\n",
    "- columns = ['column_1', 'column_2', 'column_3', 'column_4', 'column_5', 'column_6']\n",
    "- indices = [1,2,3,4,5,6]\n",
    "- #Creating a dataframe:\n",
    "- df1 = pd.DataFrame(np.random.rand(6,6), columns = columns, index = indices)"
   ]
  },
  {
   "cell_type": "code",
   "execution_count": 20,
   "id": "74ed1524-1b4c-4622-ad22-09ce6effabe5",
   "metadata": {},
   "outputs": [
    {
     "data": {
      "text/html": [
       "<div>\n",
       "<style scoped>\n",
       "    .dataframe tbody tr th:only-of-type {\n",
       "        vertical-align: middle;\n",
       "    }\n",
       "\n",
       "    .dataframe tbody tr th {\n",
       "        vertical-align: top;\n",
       "    }\n",
       "\n",
       "    .dataframe thead th {\n",
       "        text-align: right;\n",
       "    }\n",
       "</style>\n",
       "<table border=\"1\" class=\"dataframe\">\n",
       "  <thead>\n",
       "    <tr style=\"text-align: right;\">\n",
       "      <th></th>\n",
       "      <th>column_1</th>\n",
       "      <th>column_2</th>\n",
       "      <th>column_3</th>\n",
       "      <th>column_4</th>\n",
       "      <th>column_5</th>\n",
       "      <th>column_6</th>\n",
       "    </tr>\n",
       "  </thead>\n",
       "  <tbody>\n",
       "    <tr>\n",
       "      <th>1</th>\n",
       "      <td>0.537445</td>\n",
       "      <td>0.809222</td>\n",
       "      <td>0.737783</td>\n",
       "      <td>0.011433</td>\n",
       "      <td>0.161204</td>\n",
       "      <td>0.916959</td>\n",
       "    </tr>\n",
       "    <tr>\n",
       "      <th>2</th>\n",
       "      <td>0.787507</td>\n",
       "      <td>0.304012</td>\n",
       "      <td>0.376948</td>\n",
       "      <td>0.383014</td>\n",
       "      <td>0.398953</td>\n",
       "      <td>0.064485</td>\n",
       "    </tr>\n",
       "    <tr>\n",
       "      <th>3</th>\n",
       "      <td>0.486203</td>\n",
       "      <td>0.469885</td>\n",
       "      <td>0.635409</td>\n",
       "      <td>0.471006</td>\n",
       "      <td>0.491439</td>\n",
       "      <td>0.855625</td>\n",
       "    </tr>\n",
       "    <tr>\n",
       "      <th>4</th>\n",
       "      <td>0.950009</td>\n",
       "      <td>0.350586</td>\n",
       "      <td>0.512243</td>\n",
       "      <td>0.591386</td>\n",
       "      <td>0.690987</td>\n",
       "      <td>0.264680</td>\n",
       "    </tr>\n",
       "    <tr>\n",
       "      <th>5</th>\n",
       "      <td>0.236501</td>\n",
       "      <td>0.355526</td>\n",
       "      <td>0.664348</td>\n",
       "      <td>0.344356</td>\n",
       "      <td>0.301547</td>\n",
       "      <td>0.701956</td>\n",
       "    </tr>\n",
       "    <tr>\n",
       "      <th>6</th>\n",
       "      <td>0.199225</td>\n",
       "      <td>0.085377</td>\n",
       "      <td>0.515684</td>\n",
       "      <td>0.984096</td>\n",
       "      <td>0.574134</td>\n",
       "      <td>0.177759</td>\n",
       "    </tr>\n",
       "  </tbody>\n",
       "</table>\n",
       "</div>"
      ],
      "text/plain": [
       "   column_1  column_2  column_3  column_4  column_5  column_6\n",
       "1  0.537445  0.809222  0.737783  0.011433  0.161204  0.916959\n",
       "2  0.787507  0.304012  0.376948  0.383014  0.398953  0.064485\n",
       "3  0.486203  0.469885  0.635409  0.471006  0.491439  0.855625\n",
       "4  0.950009  0.350586  0.512243  0.591386  0.690987  0.264680\n",
       "5  0.236501  0.355526  0.664348  0.344356  0.301547  0.701956\n",
       "6  0.199225  0.085377  0.515684  0.984096  0.574134  0.177759"
      ]
     },
     "execution_count": 20,
     "metadata": {},
     "output_type": "execute_result"
    }
   ],
   "source": [
    "import pandas as pd\n",
    "import numpy as np\n",
    "columns = ['column_1', 'column_2', 'column_3', 'column_4', 'column_5', 'column_6']\n",
    "indices = [1,2,3,4,5,6]\n",
    "df1 = pd.DataFrame(np.random.rand(6,6),columns=columns, index = indices)\n",
    "df1"
   ]
  },
  {
   "cell_type": "markdown",
   "id": "a2cf0f62-31fe-4243-b06c-8f20238af012",
   "metadata": {},
   "source": [
    "Q4. Write a code to find the following statistical measurements for the above dataframe df1:\n",
    "(i) mean of each and every column present in the dataframe.\n",
    "(ii) standard deviation of column, ‘column_2’\n"
   ]
  },
  {
   "cell_type": "code",
   "execution_count": 21,
   "id": "ba2c99ed-cbae-4d4b-8acc-37e52b7d5063",
   "metadata": {},
   "outputs": [
    {
     "name": "stdout",
     "output_type": "stream",
     "text": [
      "column_1    0.532815\n",
      "column_2    0.395768\n",
      "column_3    0.573736\n",
      "column_4    0.464215\n",
      "column_5    0.436377\n",
      "column_6    0.496910\n",
      "dtype: float64\n"
     ]
    }
   ],
   "source": [
    "print(df1.mean())"
   ]
  },
  {
   "cell_type": "code",
   "execution_count": 22,
   "id": "775046e0-3fc3-4fe3-897c-3c40f63d8e66",
   "metadata": {},
   "outputs": [
    {
     "name": "stdout",
     "output_type": "stream",
     "text": [
      "0.23868816732775505\n"
     ]
    }
   ],
   "source": [
    "print(df1['column_2'].std())"
   ]
  },
  {
   "cell_type": "markdown",
   "id": "c8c95ae0-c736-4b68-8b33-894a0ed19ac1",
   "metadata": {},
   "source": [
    "Q5. Replace the data present in the second row of column, ‘column_2’ by a string variable then find the\n",
    "mean of column, column_2.\n",
    "If you are getting errors in executing it then explain why.\n",
    "[Hint: To replace the data use df1.loc[ ] and equate this to string data of your choice.]\n"
   ]
  },
  {
   "cell_type": "code",
   "execution_count": 25,
   "id": "b6ccf475-3fc8-463a-a7ad-4ab3a25fabcc",
   "metadata": {},
   "outputs": [],
   "source": [
    "# Replacing the data in the second row of 'column_2' with a string variable\n",
    "# df1.loc[2, 'column_2'] = 'string_data'\n",
    "\n",
    "# # Attempting to find the mean of column 'column_2'\n",
    "# mean_column_2 = df1['column_2'].mean()\n",
    "# print(\"Mean of column_2:\", mean_column_2)"
   ]
  },
  {
   "cell_type": "markdown",
   "id": "39fbd37a-3f04-40f8-ad09-4ca17e720db3",
   "metadata": {},
   "source": [
    " When we run this code, we will encounter an error similar to: TypeError: could not convert string to float: 'string_data'.\n",
    "\n",
    "This error occurs because the mean function is unable to calculate the mean of a column containing string data. To avoid this error, we should ensure that all values in the column are numeric before calculating the mean."
   ]
  },
  {
   "cell_type": "markdown",
   "id": "639b94c1-5a34-4ce1-b536-f4653af384d1",
   "metadata": {},
   "source": [
    "Q6. What do you understand about the windows function in pandas and list the types of windows\n",
    "functions?\n",
    "\n",
    "Ans:\n",
    "-  Windows functions in pandas allow you to perform calculations on a specific window or subset of your data. Types of windows functions include rolling window functions, expanding window functions, and exponential window functions.\n"
   ]
  },
  {
   "cell_type": "markdown",
   "id": "8b05550c-a1ce-496a-a06b-7364eaf10797",
   "metadata": {},
   "source": [
    "Q7. Write a code to print only the current month and year at the time of answering this question.\n",
    "[Hint: Use pandas.datetime function]"
   ]
  },
  {
   "cell_type": "code",
   "execution_count": 27,
   "id": "7e5e472e-263b-4b60-a496-e70c2d14022d",
   "metadata": {},
   "outputs": [
    {
     "name": "stdout",
     "output_type": "stream",
     "text": [
      "2024-03\n"
     ]
    },
    {
     "name": "stderr",
     "output_type": "stream",
     "text": [
      "/tmp/ipykernel_84/3878381392.py:2: FutureWarning: The pandas.datetime class is deprecated and will be removed from pandas in a future version. Import from datetime module instead.\n",
      "  print(pd.datetime.now().strftime('%Y-%m'))\n"
     ]
    }
   ],
   "source": [
    "import pandas as pd\n",
    "print(pd.datetime.now().strftime('%Y-%m'))"
   ]
  },
  {
   "cell_type": "markdown",
   "id": "c01e15fa-2c29-44ef-a64f-6e44d38c7d86",
   "metadata": {},
   "source": [
    "Q8. Write a Python program that takes in two dates as input (in the format YYYY-MM-DD) and calculates the difference between them in days, hours, and minutes using Pandas time delta. The program should prompt the user to enter the dates and display the result.\n"
   ]
  },
  {
   "cell_type": "code",
   "execution_count": 31,
   "id": "6cdf6be4-a1e4-4b46-8a6c-edb468178b58",
   "metadata": {},
   "outputs": [
    {
     "name": "stdin",
     "output_type": "stream",
     "text": [
      "Enter the first date (YYYY-MM-DD):  2024-02-20\n",
      "Enter the second date (YYYY-MM-DD):  2024-03-20\n"
     ]
    },
    {
     "name": "stdout",
     "output_type": "stream",
     "text": [
      "Difference:\n",
      "Days: 29\n",
      "Hours: 0\n",
      "Minutes: 0\n"
     ]
    }
   ],
   "source": [
    "import pandas as pd\n",
    "\n",
    "# Prompt the user to enter the dates\n",
    "date1 = input(\"Enter the first date (YYYY-MM-DD): \")\n",
    "date2 = input(\"Enter the second date (YYYY-MM-DD): \")\n",
    "\n",
    "# Convert the input strings to datetime objects\n",
    "date1 = pd.to_datetime(date1)\n",
    "date2 = pd.to_datetime(date2)\n",
    "\n",
    "# Calculate the difference between the two dates\n",
    "timedelta = date2 - date1\n",
    "\n",
    "# Display the result\n",
    "print(\"Difference:\")\n",
    "print(\"Days:\", timedelta.days)\n",
    "print(\"Hours:\", timedelta.components.hours)\n",
    "print(\"Minutes:\", timedelta.components.minutes)"
   ]
  },
  {
   "cell_type": "markdown",
   "id": "3b54b1f5-12d3-4919-90cd-504b1fe45b20",
   "metadata": {},
   "source": [
    "Q9. Write a Python program that reads a CSV file containing categorical data and converts a specified column to a categorical data type. The program should prompt the user to enter the file path, column name, and category order, and then display the sorted data."
   ]
  },
  {
   "cell_type": "code",
   "execution_count": null,
   "id": "63ba11ec-53c5-4a34-9ab2-af428ed88add",
   "metadata": {},
   "outputs": [
    {
     "name": "stdin",
     "output_type": "stream",
     "text": [
      "Enter the file path of the CSV file:  r\"C:\\Users\\lenovo\\Downloads\\Fraud.csv\"\n",
      "Enter the column name to convert to categorical data type:  type\n"
     ]
    }
   ],
   "source": [
    "import pandas as pd\n",
    "\n",
    "def convert_tocategorical(file_path, column_name, category_order):\n",
    "    df = pd.read_csv(file_path)\n",
    "    \n",
    "    df[column_name] = pd.Categorical(df[column_name], categories = category_order, ordered = True)\n",
    "    \n",
    "    sorted_data = df.sort_values(by=column_name)\n",
    "    print(sorted_data)\n",
    "    \n",
    "file_path = input(\"Enter the file path of the CSV file: \")\n",
    "column_name = input(\"Enter the column name to convert to categorical data type: \")\n",
    "category_order = input(\"Enter the category order separated by commas: \").split(',')\n",
    "\n",
    "# Call the function\n",
    "convert_to_categorical(file_path, column_name, category_order)"
   ]
  },
  {
   "cell_type": "markdown",
   "id": "ff3f0a75-c66d-4bca-8c4f-691cd445fc83",
   "metadata": {},
   "source": [
    "Q10. Write a Python program that reads a CSV file containing sales data for different products and visualizes the data using a stacked bar chart to show the sales of each product category over time. The program should prompt the user to enter the file path and display the chart."
   ]
  },
  {
   "cell_type": "code",
   "execution_count": null,
   "id": "5a3aa1b4-a0a0-4b08-b666-6f80453d17c9",
   "metadata": {},
   "outputs": [],
   "source": [
    "import pandas as pd\n",
    "import matplotlib.pyplot as plt\n",
    "\n",
    "# Function to visualize sales data using a stacked bar chart\n",
    "def visualize_sales(file_path):\n",
    "    # Read the CSV file into a DataFrame\n",
    "    df = pd.read_csv(file_path)\n",
    "    \n",
    "    # Assuming the CSV file contains sales data for different products over time\n",
    "    df.plot(kind='bar', stacked=True)\n",
    "    plt.xlabel('Time')\n",
    "    plt.ylabel('Sales')\n",
    "    plt.title('Sales of Each Product Category Over Time')\n",
    "    plt.show()\n",
    "\n",
    "# Prompt the user to enter the file path\n",
    "file_path = input(\"Enter the file path of the CSV file containing sales data: \")\n",
    "\n",
    "# Call the function\n",
    "visualize_sales(file_path)\n"
   ]
  },
  {
   "cell_type": "markdown",
   "id": "6e21fea8-8f65-4de6-9f76-82fa52ce8a61",
   "metadata": {},
   "source": [
    "Q11. You are given a CSV file containing student data that includes the student ID and their test score. Write a Python program that reads the CSV file, calculates the mean, median, and mode of the test scores, and displays the results in a table.\n",
    "The program should do the following.\n",
    "- Prompt the user to enter the file path of the CSV file containing the student dataR\n",
    "- Read the CSV file into a Pandas DataFrameR\n",
    "- Calculate the mean, median, and mode of the test scores using Pandas toolsR\n",
    "- Display the mean, median, and mode in a table."
   ]
  },
  {
   "cell_type": "code",
   "execution_count": null,
   "id": "8fadefd8-6820-45e1-b0c3-53ab3988b2bd",
   "metadata": {},
   "outputs": [],
   "source": [
    "import pandas as pd\n",
    "\n",
    "# Function to calculate mean, median, and mode of test scores and display the results in a table\n",
    "def analyze_test_scores(file_path):\n",
    "    # Read the CSV file into a DataFrame\n",
    "    df = pd.read_csv(file_path)\n",
    "    \n",
    "    # Calculate mean, median, and mode of test scores\n",
    "    mean_score = df['Test Score'].mean()\n",
    "    median_score = df['Test Score'].median()\n",
    "    mode_score = df['Test Score'].mode()\n",
    "    \n",
    "    # Display the results in a table\n",
    "    print(\"+-----------+--------+\")\n",
    "    print(\"| Statistic | Value  |\")\n",
    "    print(\"+-----------+--------+\")\n",
    "    print(f\"| Mean      | {mean_score:.1f}   |\")\n",
    "    print(f\"| Median    | {median_score}   |\")\n",
    "    print(f\"| Mode      | {', '.join(map(str, mode_score))}   |\")\n",
    "    print(\"+-----------+--------+\")\n",
    "\n",
    "# Prompt the user to enter the file path of the CSV file containing student data\n",
    "file_path = input(\"Enter the file path of the CSV file containing the student data: \")\n",
    "\n",
    "# Call the function\n",
    "analyze_test_scores(file_path)\n"
   ]
  },
  {
   "cell_type": "code",
   "execution_count": null,
   "id": "6dbdcad4-bd54-4f46-abb0-d1b99298ce87",
   "metadata": {},
   "outputs": [],
   "source": []
  }
 ],
 "metadata": {
  "kernelspec": {
   "display_name": "Python 3 (ipykernel)",
   "language": "python",
   "name": "python3"
  },
  "language_info": {
   "codemirror_mode": {
    "name": "ipython",
    "version": 3
   },
   "file_extension": ".py",
   "mimetype": "text/x-python",
   "name": "python",
   "nbconvert_exporter": "python",
   "pygments_lexer": "ipython3",
   "version": "3.10.8"
  }
 },
 "nbformat": 4,
 "nbformat_minor": 5
}
