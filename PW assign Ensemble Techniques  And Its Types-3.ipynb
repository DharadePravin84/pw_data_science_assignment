{
 "cells": [
  {
   "cell_type": "markdown",
   "id": "1eb586bd-5203-486d-9bd6-f6b8cf71df8c",
   "metadata": {},
   "source": [
    "### Q1. What is Random Forest Regressor?\n",
    "Ans:\n",
    "\n",
    " Random Forest Regressor is an ensemble learning method used for regression tasks. It consists of a collection of decision trees where each tree is trained on a subset of the training data and makes predictions independently. The final prediction is obtained by aggregating the predictions of all the trees.\n",
    " \n",
    " \n",
    "### Q2. How does Random Forest Regressor reduce the risk of overfitting?\n",
    "Ans:\n",
    "\n",
    "Random Forest Regressor reduces the risk of overfitting by training multiple decision trees on different subsets of the training data and combining their predictions. By averaging the predictions of multiple trees, the model becomes more robust to noise and outliers, reducing the likelihood of overfitting to the training data.\n",
    "\n",
    "### Q3. How does Random Forest Regressor aggregate the predictions of multiple decision trees?\n",
    "Ans:\n",
    "\n",
    "Random Forest Regressor aggregates the predictions of multiple decision trees by taking the average of their predictions. In regression tasks, the final prediction is typically the mean of the predictions from all the individual trees in the forest.\n",
    "\n",
    "\n",
    "### Q4. What are the hyperparameters of Random Forest Regressor?\n",
    "Ans:\n",
    "\n",
    " The hyperparameters of Random Forest Regressor include the number of trees in the forest, the maximum depth of each tree, the minimum number of samples required to split a node, and the maximum number of features to consider when looking for the best split.\n",
    " \n",
    "### Q5. What is the difference between Random Forest Regressor and Decision Tree Regressor?\n",
    "Ans:\n",
    "\n",
    "The main difference between Random Forest Regressor and Decision Tree Regressor lies in their approach to making predictions. While Decision Tree Regressor uses a single decision tree to make predictions, Random Forest Regressor aggregates the predictions of multiple decision trees, which helps to improve predictive accuracy and reduce overfitting.\n",
    "\n",
    "### Q6. What are the advantages and disadvantages of Random Forest Regressor?\n",
    "\n",
    "Ans:\n",
    "\n",
    "Advantages of Random Forest Regressor include its ability to handle high-dimensional data, handle missing values, and provide feature importances. Disadvantages may include increased computational complexity and potential difficulty in interpreting the model compared to a single decision tree.\n",
    "\n",
    "### Q7. What is the output of Random Forest Regressor?\n",
    "Ans:\n",
    "\n",
    "The output of Random Forest Regressor is a continuous numerical value, representing the predicted target variable for each input sample.\n",
    "\n",
    "### Q8. Can Random Forest Regressor be used for classification tasks?\n",
    "Ans:\n",
    "While Random Forest Regressor is primarily designed for regression tasks, it can also be used for classification tasks by converting the continuous output into discrete classes. However, other ensemble methods like Random Forest Classifier are specifically designed for classification tasks and may be more suitable in such cases."
   ]
  },
  {
   "cell_type": "code",
   "execution_count": null,
   "id": "9d855d81-e583-4f1e-8feb-1383263af9c6",
   "metadata": {},
   "outputs": [],
   "source": []
  }
 ],
 "metadata": {
  "kernelspec": {
   "display_name": "Python 3 (ipykernel)",
   "language": "python",
   "name": "python3"
  },
  "language_info": {
   "codemirror_mode": {
    "name": "ipython",
    "version": 3
   },
   "file_extension": ".py",
   "mimetype": "text/x-python",
   "name": "python",
   "nbconvert_exporter": "python",
   "pygments_lexer": "ipython3",
   "version": "3.10.8"
  }
 },
 "nbformat": 4,
 "nbformat_minor": 5
}
