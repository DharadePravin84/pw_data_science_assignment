{
 "cells": [
  {
   "cell_type": "markdown",
   "id": "29f6a7ea-a458-4bb9-8fa2-4dd5b3ef75dc",
   "metadata": {},
   "source": [
    "Q1. How can you create a Bokeh plot using Python code?\n",
    "\n",
    "Ans: \n",
    "- We can create a Bokeh plot using Python by first importing the necessary modules from Bokeh and then defining our plot, including its data, glyphs, and visual properties. Finally, we can display the plot using Bokeh's 'show()' function."
   ]
  },
  {
   "cell_type": "markdown",
   "id": "886234d5-35df-49e0-a21a-658c4457e24c",
   "metadata": {},
   "source": [
    "Q2. What are glyphs in Bokeh, and how can you add them to a Bokeh plot? Explain with an example.\n",
    "\n",
    "Ans:\n",
    "- Glyphs in Bokeh are the basic visual building blocks of plots, representing shapes, lines, and other graphical elements. We can add glyphs to a Bokeh plot using the 'figure()' function to create a figure object and then calling glyph methods such as 'circle()', 'line()', or 'square()' to add glyphs to the figure. "
   ]
  },
  {
   "cell_type": "markdown",
   "id": "386b93e1-b720-4dbc-a94e-347b59cb106b",
   "metadata": {},
   "source": [
    "Q3. How can you customize the appearance of a Bokeh plot, including the axes, title, and legend?\n",
    "\n",
    "Ans:\n",
    "- We can customize the appearance of a Bokeh plot using various attributes and methods provided by Bokeh's plotting interface. For example, we can set properties such as title, axis labels, axis ticks, and legend using methods like title, xaxis, yaxis, and legend. "
   ]
  },
  {
   "cell_type": "markdown",
   "id": "121b3699-8a33-4493-bc71-fdf620cd05f9",
   "metadata": {},
   "source": [
    "Q4. What is a Bokeh server, and how can you use it to create interactive plots that can be updated in real time?\n",
    "\n",
    "Ans:\n",
    "- Bokeh server is a Python library that allows you to create interactive web applications with Bokeh plots. You can use it to build web apps with live, reactive plots that update in real-time in response to user interactions or changes in data. To use Bokeh server, you create a Bokeh application using the 'curdoc()' function and define callback functions to handle events or updates. "
   ]
  },
  {
   "cell_type": "markdown",
   "id": "fc1fc51a-9a64-46da-99e0-f333ccfcf7e2",
   "metadata": {},
   "source": [
    "Q5. How can you embed a Bokeh plot into a web page or dashboard using Flask or Django?\n",
    "\n",
    "Ans:\n",
    "- You can embed a Bokeh plot into a web page or dashboard using either Flask or Django, two popular web frameworks for Python. With Flask or Django, you can create a web application that serves the Bokeh plot as part of its content. You can embed the Bokeh plot by including its HTML div and script tags in the web page template and then passing the plot object to the template when rendering the page."
   ]
  },
  {
   "cell_type": "code",
   "execution_count": null,
   "id": "ea685f60-1889-4e9b-ac8c-e0932f01e261",
   "metadata": {},
   "outputs": [],
   "source": []
  }
 ],
 "metadata": {
  "kernelspec": {
   "display_name": "Python 3 (ipykernel)",
   "language": "python",
   "name": "python3"
  },
  "language_info": {
   "codemirror_mode": {
    "name": "ipython",
    "version": 3
   },
   "file_extension": ".py",
   "mimetype": "text/x-python",
   "name": "python",
   "nbconvert_exporter": "python",
   "pygments_lexer": "ipython3",
   "version": "3.10.8"
  }
 },
 "nbformat": 4,
 "nbformat_minor": 5
}
