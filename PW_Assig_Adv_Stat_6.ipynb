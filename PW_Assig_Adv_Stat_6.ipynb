{
  "nbformat": 4,
  "nbformat_minor": 0,
  "metadata": {
    "colab": {
      "provenance": []
    },
    "kernelspec": {
      "name": "python3",
      "display_name": "Python 3"
    },
    "language_info": {
      "name": "python"
    }
  },
  "cells": [
    {
      "cell_type": "markdown",
      "source": [
        "### Q1. Explain the assumptions required to use ANOVA and provide examples of violations that could impact the validity of the results.\n",
        "\n",
        "#### Assumptions:\n",
        "1. Independence of Observations:\n",
        "\n",
        "Each group's samples must be independent of each other.\n",
        "\n",
        "Violation Example: Measuring the same subjects multiple times without considering repeated measures.\n",
        "\n",
        "2. Normality:\n",
        "The dependent variable should be approximately normally distributed for each group.\n",
        "\n",
        "Violation Example: Highly skewed data or presence of outliers.\n",
        "\n",
        "3. Homogeneity of Variances:\n",
        "The variance among the groups should be approximately equal.\n",
        "\n",
        "Violation Example: Variance differs significantly across groups.\n",
        "\n",
        "#### Impact of Violations:\n",
        "Violations of these assumptions can lead to inaccurate conclusions. For example, non-normality can make the ANOVA test less robust, while unequal variances can inflate Type I error rates."
      ],
      "metadata": {
        "id": "csclnBzMQqJ5"
      }
    },
    {
      "cell_type": "markdown",
      "source": [
        "### Q2. What are the three types of ANOVA, and in what situations would each be used?\n",
        "\n",
        "#### Types of ANOVA\n",
        "\n",
        "1. One-Way ANOVA:\n",
        "Used when comparing the means of three or more independent groups based on one factor.\n",
        "\n",
        "Example: Comparing the average scores of students from different teaching methods.\n",
        "\n",
        "2. Two-Way ANOVA:\n",
        "Used to evaluate the effect of two different categorical independent variables on a continuous dependent variable, including interaction effects.\n",
        "\n",
        "Example: Analyzing the impact of teaching method and gender on students' scores.\n",
        "\n",
        "3. Repeated Measures ANOVA:\n",
        "Used when the same subjects are measured multiple times under different conditions.\n",
        "\n",
        "Example: Measuring blood pressure of patients before, during, and after treatment."
      ],
      "metadata": {
        "id": "u9iN3NbpRJOP"
      }
    },
    {
      "cell_type": "markdown",
      "source": [
        "### Q3. What is the partitioning of variance in ANOVA, and why is it important to understand this concept?\n",
        "\n",
        "- ANOVA partitions the total variance observed in the data into components attributable to different sources:\n",
        "- Total Sum of Squares (SST): Total variance in the data.\n",
        "- Explained Sum of Squares (SSE): Variance explained by the model (between-group variance).\n",
        "- Residual Sum of Squares (SSR): Variance not explained by the model (within-group variance).\n",
        "\n",
        "#### Importance:\n",
        "- Understanding how variance is partitioned helps in determining the contribution of different factors to the total variability."
      ],
      "metadata": {
        "id": "khbd-Wa4T9f3"
      }
    },
    {
      "cell_type": "markdown",
      "source": [
        "### Q4. How would you calculate the total sum of squares (SST), explained sum of squares (SSE), and residual sum of squares (SSR) in a one-way ANOVA using Python?\n"
      ],
      "metadata": {
        "id": "fJZlX8i5UX-d"
      }
    },
    {
      "cell_type": "code",
      "source": [
        "import numpy as np\n",
        "import pandas as pd\n",
        "import scipy.stats as stats\n",
        "\n",
        "# Example data\n",
        "data = {'Group': np.repeat(['A', 'B', 'C'], 10),\n",
        "        'Value': np.random.normal(loc=50, scale=5, size=30)}\n",
        "df = pd.DataFrame(data)\n",
        "\n",
        "# One-way ANOVA\n",
        "anova_result = stats.f_oneway(df[df['Group'] == 'A']['Value'],\n",
        "                              df[df['Group'] == 'B']['Value'],\n",
        "                              df[df['Group'] == 'C']['Value'])\n",
        "\n",
        "# Calculate SST, SSE, and SSR\n",
        "grand_mean = df['Value'].mean()\n",
        "sst = np.sum((df['Value'] - grand_mean)**2)\n",
        "sse = np.sum(df.groupby('Group').apply(lambda x: len(x) * (x['Value'].mean() - grand_mean)**2))\n",
        "ssr = np.sum(df.groupby('Group').apply(lambda x: np.sum((x['Value'] - x['Value'].mean())**2)))\n",
        "\n",
        "print(f\"SST: {sst}, SSE: {sse}, SSR: {ssr}\")\n",
        "print(f\"F-statistic: {anova_result.statistic}, p-value: {anova_result.pvalue}\")\n"
      ],
      "metadata": {
        "colab": {
          "base_uri": "https://localhost:8080/"
        },
        "id": "lxFS7HdMRGR3",
        "outputId": "2cd8ea16-67ab-467d-e3cd-98b2724e82ec"
      },
      "execution_count": null,
      "outputs": [
        {
          "output_type": "stream",
          "name": "stdout",
          "text": [
            "SST: 502.08112942829115, SSE: 15.545814429242743, SSR: 486.5353149990484\n",
            "F-statistic: 0.4313530556259582, p-value: 0.6540280054434859\n"
          ]
        }
      ]
    },
    {
      "cell_type": "markdown",
      "source": [
        "### Q5. In a two-way ANOVA, how would you calculate the main effects and interaction effects using Python?\n",
        "\n"
      ],
      "metadata": {
        "id": "b4yrE_KyUy77"
      }
    },
    {
      "cell_type": "code",
      "source": [
        "import statsmodels.api as sm\n",
        "from statsmodels.formula.api import ols\n",
        "\n",
        "# Example data\n",
        "data = {'Factor1': np.repeat(['A', 'B'], 30),\n",
        "        'Factor2': np.tile(np.repeat(['X', 'Y'], 15), 2),\n",
        "        'Value': np.random.normal(loc=50, scale=5, size=60)}\n",
        "df = pd.DataFrame(data)\n",
        "\n",
        "# Two-way ANOVA\n",
        "model = ols('Value ~ C(Factor1) + C(Factor2) + C(Factor1):C(Factor2)', data=df).fit()\n",
        "anova_table = sm.stats.anova_lm(model, typ=2)\n",
        "print(anova_table)\n"
      ],
      "metadata": {
        "colab": {
          "base_uri": "https://localhost:8080/"
        },
        "id": "l2XHKH7ZU1R5",
        "outputId": "9b8df68c-c276-4f52-97a5-bdb2e24f2f8a"
      },
      "execution_count": null,
      "outputs": [
        {
          "output_type": "stream",
          "name": "stdout",
          "text": [
            "                            sum_sq    df         F    PR(>F)\n",
            "C(Factor1)                7.692084   1.0  0.388726  0.535501\n",
            "C(Factor2)                9.154745   1.0  0.462642  0.499194\n",
            "C(Factor1):C(Factor2)     1.251788   1.0  0.063260  0.802336\n",
            "Residual               1108.125230  56.0       NaN       NaN\n"
          ]
        }
      ]
    },
    {
      "cell_type": "markdown",
      "source": [
        "#### Q6. Suppose you conducted a one-way ANOVA and obtained an F-statistic of 5.23 and a p-value of 0.02. What can you conclude about the differences between the groups, and how would you interpret these results?\n",
        "\n",
        "#####  Interpretation of One-Way ANOVA Results\n",
        "\n",
        "Given an F-statistic of 5.23 and a p-value of 0.02:\n",
        "- Conclusion: Since the p-value (0.02) is less than the significance level (0.05), we reject the null hypothesis.\n",
        "- Interpretation: There are significant differences between the group means.\n"
      ],
      "metadata": {
        "id": "jxN_t7VmU34z"
      }
    },
    {
      "cell_type": "markdown",
      "source": [
        "#### Q7. In a repeated measures ANOVA, how would you handle missing data, and what are the potential consequences of using different methods to handle missing data?\n",
        "\n",
        "#### Handling Missing Data in Repeated Measures ANOVA Methods:\n",
        "\n",
        "1. Listwise Deletion: Removing any cases with missing data.\n",
        "\n",
        "- Consequence: Reduced sample size, potential bias.\n",
        "\n",
        "2. Mean Imputation: Replacing missing values with the mean of the observed values.\n",
        "\n",
        "- Consequence: Underestimates variability, can bias results.\n",
        "\n",
        "3. Multiple Imputation: Replacing missing values with multiple sets of simulated values.\n",
        "\n",
        "- Consequence: More accurate but complex."
      ],
      "metadata": {
        "id": "XsC0lavVVAra"
      }
    },
    {
      "cell_type": "markdown",
      "source": [
        "#### Q8. What are some common post-hoc tests used after ANOVA, and when would you use each one? Provide an example of a situation where a post-hoc test might be necessary.\n",
        "\n",
        "#### Common Post-Hoc Tests\n",
        "1. Tukey's HSD: Used for pairwise comparisons after ANOVA.\n",
        "- Example: Comparing all pairs of group means in a study with three diets.\n",
        "2. Bonferroni Correction: Adjusts the significance level to account for multiple comparisons.\n",
        "- Example: When performing multiple t-tests on the same data."
      ],
      "metadata": {
        "id": "8cDx80t_VF8l"
      }
    },
    {
      "cell_type": "markdown",
      "source": [
        "#### Q9. A researcher wants to compare the mean weight loss of three diets: A, B, and C. They collect data from 50 participants who were randomly assigned to one of the diets. Conduct a one-way ANOVA using Python to determine if there are any significant differences between the mean weight loss of the three diets. Report the F-statistic and p-value, and interpret the results.\n",
        "\n"
      ],
      "metadata": {
        "id": "0uBU23I8XDgn"
      }
    },
    {
      "cell_type": "code",
      "source": [
        "import numpy as np\n",
        "import pandas as pd\n",
        "import scipy.stats as stats\n",
        "\n",
        "# Example data\n",
        "np.random.seed(0)\n",
        "data = {'Diet': np.repeat(['A', 'B', 'C'], 50),\n",
        "        'WeightLoss': np.concatenate([\n",
        "            np.random.normal(loc=5, scale=1.5, size=50),  # Diet A\n",
        "            np.random.normal(loc=7, scale=1.5, size=50),  # Diet B\n",
        "            np.random.normal(loc=6, scale=1.5, size=50)   # Diet C\n",
        "        ])}\n",
        "\n",
        "df = pd.DataFrame(data)\n",
        "\n",
        "# One-way ANOVA\n",
        "anova_result = stats.f_oneway(\n",
        "    df[df['Diet'] == 'A']['WeightLoss'],\n",
        "    df[df['Diet'] == 'B']['WeightLoss'],\n",
        "    df[df['Diet'] == 'C']['WeightLoss'])\n",
        "\n",
        "print(f\"F-statistic: {anova_result.statistic}, p-value: {anova_result.pvalue}\")\n"
      ],
      "metadata": {
        "colab": {
          "base_uri": "https://localhost:8080/"
        },
        "id": "D2o5GrYwYufK",
        "outputId": "fa05bfd6-6225-44f3-cc94-8187930569f1"
      },
      "execution_count": 11,
      "outputs": [
        {
          "output_type": "stream",
          "name": "stdout",
          "text": [
            "F-statistic: 16.978550056714944, p-value: 2.3228194271141875e-07\n"
          ]
        }
      ]
    },
    {
      "cell_type": "markdown",
      "source": [
        " Q10. A company wants to know if there are any significant differences in the average time it takes to complete a task using three different software programs: Program A, Program B, and Program C. They randomly assign 30 employees to one of the programs and record the time it takes each employee to complete the task. Conduct a two-way ANOVA using Python to determine if there are any main effects or interaction effects between the software programs and employee experience level (novice vs. experienced). Report the F-statistics and p-values, and interpret the results.\n",
        "\n",
        "\n"
      ],
      "metadata": {
        "id": "KRKHlEXjXNNx"
      }
    },
    {
      "cell_type": "code",
      "source": [
        "import numpy as np\n",
        "import pandas as pd\n",
        "import statsmodels.api as sm\n",
        "from statsmodels.formula.api import ols\n",
        "\n",
        "# Example data\n",
        "np.random.seed(0)\n",
        "data = {'Program': np.repeat(['A', 'B', 'C'], 30),\n",
        "        'Experience': np.tile(np.repeat(['Novice', 'Experienced'], 15), 3)}\n",
        "\n",
        "# Generate random times for each combination of Program and Experience\n",
        "times = []\n",
        "for prog in ['A', 'B', 'C']:\n",
        "    for exp in ['Novice', 'Experienced']:\n",
        "        mean_time = np.random.normal(loc=[20, 18, 22, 19, 17, 21][0], scale=2, size=1)[0]\n",
        "        times.extend([mean_time] * 15)\n",
        "\n",
        "data['Time'] = times\n",
        "df = pd.DataFrame(data)\n",
        "\n",
        "# Two-way ANOVA\n",
        "model = ols('Time ~ C(Program) + C(Experience) + C(Program):C(Experience)', data=df).fit()\n",
        "anova_table = sm.stats.anova_lm(model, typ=2)\n",
        "print(anova_table)\n"
      ],
      "metadata": {
        "colab": {
          "base_uri": "https://localhost:8080/"
        },
        "id": "FrhwpthaZv4c",
        "outputId": "af03793c-3055-4713-c41a-cf5240adab32"
      },
      "execution_count": 12,
      "outputs": [
        {
          "output_type": "stream",
          "name": "stdout",
          "text": [
            "                                sum_sq    df             F  PR(>F)\n",
            "C(Program)                8.162687e+01   2.0  2.515002e+29     0.0\n",
            "C(Experience)             8.682309e+01   1.0  5.350204e+29     0.0\n",
            "C(Program):C(Experience)  2.595670e+02   2.0  7.997507e+29     0.0\n",
            "Residual                  1.363152e-26  84.0           NaN     NaN\n"
          ]
        }
      ]
    },
    {
      "cell_type": "markdown",
      "source": [
        "Q11. An educational researcher is interested in whether a new teaching method improves student test\n",
        "scores. They randomly assign 100 students to either the control group (traditional teaching method) or the\n",
        "experimental group (new teaching method) and administer a test at the end of the semester. Conduct a\n",
        "two-sample t-test using Python to determine if there are any significant differences in test scores\n",
        "between the two groups. If the results are significant, follow up with a post-hoc test to determine which\n",
        "group(s) differ significantly from each other."
      ],
      "metadata": {
        "id": "RD5w3SK7Y8HM"
      }
    },
    {
      "cell_type": "code",
      "source": [
        "import numpy as np\n",
        "import pandas as pd\n",
        "import scipy.stats as stats\n",
        "\n",
        "# Example data\n",
        "np.random.seed(0)\n",
        "control_group = np.random.normal(loc=75, scale=10, size=50)\n",
        "experimental_group = np.random.normal(loc=80, scale=10, size=50)\n",
        "\n",
        "# Two-sample t-test\n",
        "t_statistic, p_value = stats.ttest_ind(control_group, experimental_group)\n",
        "\n",
        "print(f\"T-statistic: {t_statistic}, p-value: {p_value}\")\n",
        "\n",
        "# Post-hoc test if significant\n",
        "if p_value < 0.05:\n",
        "    print(\"Follow-up with post-hoc test to determine specific differences between groups.\")\n"
      ],
      "metadata": {
        "colab": {
          "base_uri": "https://localhost:8080/"
        },
        "id": "XhI2fv9SY8wD",
        "outputId": "88d299c7-7334-409e-fcdf-e54ce4db8883"
      },
      "execution_count": null,
      "outputs": [
        {
          "output_type": "stream",
          "name": "stdout",
          "text": [
            "T-statistic: -1.6677351961320235, p-value: 0.09856078338184605\n"
          ]
        }
      ]
    },
    {
      "cell_type": "markdown",
      "source": [
        "Q12. A researcher wants to know if there are any significant differences in the average daily sales of three\n",
        "retail stores: Store A, Store B, and Store C. They randomly select 30 days and record the sales for each store\n",
        "on those days. Conduct a repeated measures ANOVA using Python to determine if there are any\n",
        "significant differences in sales between the three stores. If the results are significant, follow up with a posthoc test to determine which store(s) differ significantly from each other."
      ],
      "metadata": {
        "id": "z58rvhgWZBOU"
      }
    },
    {
      "cell_type": "code",
      "source": [
        "import pandas as pd\n",
        "import numpy as np\n",
        "import statsmodels.api as sm\n",
        "from statsmodels.formula.api import ols\n",
        "from statsmodels.stats.anova import AnovaRM\n",
        "\n",
        "# Generate data for each store\n",
        "np.random.seed(0)\n",
        "store_data = {\n",
        "    'Store': np.tile(['A', 'B', 'C'], 30),\n",
        "    'Day': np.repeat(np.arange(1, 31), 3),\n",
        "    'Sales': np.concatenate([\n",
        "        np.random.normal(loc=200, scale=10, size=30),  # Store A\n",
        "        np.random.normal(loc=210, scale=10, size=30),  # Store B\n",
        "        np.random.normal(loc=215, scale=10, size=30)   # Store C\n",
        "    ])\n",
        "}\n",
        "\n",
        "# Create DataFrame\n",
        "df = pd.DataFrame(store_data)\n",
        "\n",
        "# Repeated Measures ANOVA\n",
        "aovrm = AnovaRM(df, 'Sales', 'Day', within=['Store'])\n",
        "res = aovrm.fit()\n",
        "print(res)\n",
        "\n",
        "# Post-hoc test if significant\n",
        "if res.anova_table['Pr > F'][0] < 0.05:\n",
        "    print(\"Follow-up with post-hoc test to determine specific differences between stores.\")\n"
      ],
      "metadata": {
        "colab": {
          "base_uri": "https://localhost:8080/"
        },
        "id": "bn8FNCauZBou",
        "outputId": "c4327a58-9739-447a-da26-0d6cecc30374"
      },
      "execution_count": null,
      "outputs": [
        {
          "output_type": "stream",
          "name": "stdout",
          "text": [
            "               Anova\n",
            "===================================\n",
            "      F Value Num DF  Den DF Pr > F\n",
            "-----------------------------------\n",
            "Store  1.5758 2.0000 58.0000 0.2156\n",
            "===================================\n",
            "\n"
          ]
        }
      ]
    },
    {
      "cell_type": "code",
      "source": [],
      "metadata": {
        "id": "gbfjEoL5ZQY9"
      },
      "execution_count": null,
      "outputs": []
    }
  ]
}