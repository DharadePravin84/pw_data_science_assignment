{
  "nbformat": 4,
  "nbformat_minor": 0,
  "metadata": {
    "colab": {
      "provenance": []
    },
    "kernelspec": {
      "name": "python3",
      "display_name": "Python 3"
    },
    "language_info": {
      "name": "python"
    }
  },
  "cells": [
    {
      "cell_type": "markdown",
      "source": [
        "Q1. What is Bayes' theorem?\n",
        "\n",
        "Bayes' theorem is a mathematical formula used to determine the conditional probability of an event based on prior knowledge of conditions related to the event. It describes the probability of an event, based on prior knowledge of conditions that might be related to the event. For example, if the probability of a disease is related to age, Bayes' theorem can be used to determine the probability of the disease in a specific age group."
      ],
      "metadata": {
        "id": "EUMoth7YUJXR"
      }
    },
    {
      "cell_type": "markdown",
      "source": [
        "Q2. What is the formula for Bayes' theorem?\n",
        "\n",
        "The formula for Bayes' theorem is:\n",
        "\n",
        "P(A∣B)= (P(B∣A)⋅P(A)) / P(B)\n",
        "\n",
        "Where:\n",
        "- P(A∣B) is the posterior probability: the probability of event A occurring given that B is true.\n",
        "- P(B∣A) is the likelihood: the probability of event B occurring given that A is true.\n",
        "- P(A) is the prior probability: the initial probability of event A.\n",
        "- P(B) is the marginal likelihood: the total probability of event B."
      ],
      "metadata": {
        "id": "q_CE5gOEUO52"
      }
    },
    {
      "cell_type": "markdown",
      "source": [
        "Q3. How is Bayes' theorem used in practice?\n",
        "\n",
        "Bayes' theorem is used in various fields and applications such as:\n",
        "\n",
        "- Medical Diagnosis: To update the probability of a disease given a positive or negative test result.\n",
        "- Spam Filtering: To determine the probability that an email is spam based on the presence of certain words.\n",
        "- Machine Learning: In Naive Bayes classifiers to predict the probability of different classes.\n",
        "- Decision Making: To update the probabilities of outcomes based on new information.\n",
        "- Risk Assessment: In finance and insurance to update the probabilities of risk events occurring."
      ],
      "metadata": {
        "id": "DmC-5Rb1VFQZ"
      }
    },
    {
      "cell_type": "markdown",
      "source": [
        "Q4. What is the relationship between Bayes' theorem and conditional probability?\n",
        "\n",
        "Bayes' theorem is a way to invert conditional probabilities. It relates the conditional probability of A given B to the conditional probability of B given A, along with the marginal probabilities of A and B. In other words, Bayes' theorem allows us to update our belief about the probability of event A based on new evidence B."
      ],
      "metadata": {
        "id": "uMLD7GBwVSwQ"
      }
    },
    {
      "cell_type": "markdown",
      "source": [
        "Q5. How do you choose which type of Naive Bayes classifier to use for any given problem?\n",
        "\n",
        "The choice of Naive Bayes classifier depends on the nature of the data:\n",
        "- Gaussian Naive Bayes: Used when the features are continuous and follow a Gaussian (normal) distribution. Commonly used in text classification and medical data.\n",
        "- Multinomial Naive Bayes: Used for discrete data where features represent counts or frequencies. Commonly used for text classification with word counts.\n",
        "- Bernoulli Naive Bayes: Used for binary/boolean features where features are binary (0 or 1). Also used for text classification with binary word occurrence features.\n",
        "- Complement Naive Bayes: A variant of Multinomial Naive Bayes designed to handle imbalanced data effectively."
      ],
      "metadata": {
        "id": "sogak0PAVnFu"
      }
    },
    {
      "cell_type": "markdown",
      "source": [
        "Q6. Assignment\n",
        "Given the dataset with two features, X1 and X2, and two possible classes, A and\n",
        "B:\n",
        "\n",
        "We need to classify a new instance with features X1=3 and X2=4.\n",
        "\n",
        "Assuming equal prior probabilities for each class (P(A)=P(B)=0.5):\n",
        "\n",
        "1. Calculate the likelihoods:\n",
        "\n",
        " - P(X1=3/A)= 4/13 ,P(X2=4/A)= 3/19\n",
        "\n",
        " - P(X1 = 3/B) = 1/7, P(X2=4/B)=3/14\n",
        "\n",
        "\n",
        "2. Calculate the posterior probabilities using Bayes' theorem:\n",
        "\n",
        " - P(A/X1 = 3, X2=4) ∝ P(X1 =3/A).P(X2=4/A).P(A)\n",
        "\n",
        " - P(B/X1=3,X2=4)∝P(X1=3/B)⋅P(X2=4/B)⋅P(B)\n",
        "\n",
        "3. Plug in the values:\n",
        "\n",
        " - P(A/X1=3, X2=4)∝(4/13).(3/19).0.5\n",
        "\n",
        " - P(B/X1=3, X2=4)∝( 1/7)⋅(3/14)⋅0.5\n",
        "\n",
        "4. Calculate and compare:\n",
        "\n",
        " - P(A/X1 = 3, X2=4) ∝(4/13)⋅(3/19)=12/247\n",
        "\n",
        " - P(B/X1 = 3, X2=4) ∝ ( 1/7)⋅( 3/14)= 3/98\n",
        "\n",
        "Convert to a common denominator for comparison:\n",
        "\n",
        " - P(A/X1 = 3, X2 =4) = 12⋅98/247⋅98 = 1176/24106\n",
        "\n",
        " - P(B/X1=3,X2=4)= 3⋅247/98.247 = 741/24106\n",
        "\n",
        "Since 1176 > 741, the new instance would be classified as Class A."
      ],
      "metadata": {
        "id": "56B_vhYiV90s"
      }
    },
    {
      "cell_type": "code",
      "source": [],
      "metadata": {
        "id": "d2GbGcYaWuCI"
      },
      "execution_count": null,
      "outputs": []
    }
  ]
}