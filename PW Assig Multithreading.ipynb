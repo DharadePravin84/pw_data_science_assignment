{
 "cells": [
  {
   "cell_type": "markdown",
   "id": "0d744742-d83e-48fa-bfd1-aa9d960d5c85",
   "metadata": {},
   "source": [
    "#### 1. What is multithreading in Python? Why is it used? Name the module used to handle threads in Python.\n",
    "\n",
    "Ans:\n",
    "- Multithreading in Python refers to the ability of a program to run multiple threads concurrently, allowing different parts of the program to execute simultaneously. It is used to improve the performance of programs that perform multiple tasks concurrently, such as handling user input while performing background tasks.\n",
    "- The module used to handle threads in Python is the threading module.\n",
    "\n",
    "\n",
    "#### 2. Why is the threading module used? Write the use of the following functions (activeCount, currentThread, enumerate).\n",
    "\n",
    "Ans:\n",
    "- The threading module is used to create and manage threads in Python.\n",
    "- Functions:\n",
    "- activeCount(): Returns the number of active threads in the current process.\n",
    "- currentThread(): Returns the current thread object.\n",
    "- enumerate(): Returns a list of all active Thread objects.\n",
    "\n",
    "\n",
    "#### 3. Explain the following functions (run, start, join, isAlive).\n",
    "\n",
    "Ans:\n",
    "- run(): Method representing the code to be executed by the thread.\n",
    "- start(): Method used to start the execution of the thread's run() method.\n",
    "- join(): Method used to block the calling thread until the thread on which it is called terminates.\n",
    "- isAlive(): Method used to check if the thread is still alive."
   ]
  },
  {
   "cell_type": "markdown",
   "id": "4e0b9b8f-7e41-424c-bb27-2e6b554867e8",
   "metadata": {},
   "source": [
    "#### 4. Write a Python program to create two threads. Thread one must print the list of squares and thread two must print the list of cubes."
   ]
  },
  {
   "cell_type": "code",
   "execution_count": 1,
   "id": "8fe9b62c-18df-4bec-9c97-b83efa0a76cd",
   "metadata": {},
   "outputs": [
    {
     "name": "stdout",
     "output_type": "stream",
     "text": [
      "Square of 1 is 1\n",
      "Square of 2 is 4\n",
      "Square of 3 is 9\n",
      "Square of 4 is 16\n",
      "Square of 5 is 25\n",
      "Cube of 1 is 1\n",
      "Cube of 2 is 8\n",
      "Cube of 3 is 27\n",
      "Cube of 4 is 64\n",
      "Cube of 5 is 125\n"
     ]
    }
   ],
   "source": [
    "import threading\n",
    "\n",
    "def print_squares():\n",
    "    for i in range(1, 6):\n",
    "        print(f\"Square of {i} is {i*i}\")\n",
    "\n",
    "def print_cubes():\n",
    "    for i in range(1, 6):\n",
    "        print(f\"Cube of {i} is {i*i*i}\")\n",
    "\n",
    "t1 = threading.Thread(target=print_squares)\n",
    "t2 = threading.Thread(target=print_cubes)\n",
    "\n",
    "t1.start()\n",
    "t2.start()\n"
   ]
  },
  {
   "cell_type": "markdown",
   "id": "b3ad0357-3781-4af4-b4b3-2a8c2501e22d",
   "metadata": {},
   "source": [
    "#### 5. State advantages and disadvantages of multithreading.\n",
    "Ans:\n",
    "- Advantages:\n",
    "- Improved performance by utilizing multiple CPU cores.\n",
    "- Better responsiveness in user interfaces by handling input/output operations concurrently.\n",
    "- Simpler program structure for asynchronous tasks.\n",
    "- Disadvantages:\n",
    "- Increased complexity in programming due to synchronization and coordination of threads.\n",
    "- Potential for race conditions and deadlocks, leading to unpredictable behavior.\n",
    "- Difficulty in debugging and profiling multithreaded programs.\n",
    "\n",
    "#### 6. Explain deadlocks and race conditions.\n",
    "Ans:\n",
    "- Deadlocks occur when two or more threads are blocked indefinitely, waiting for each other to release resources that they need.\n",
    "- Race conditions occur when the outcome of a program depends on the timing or sequence of execution of multiple threads, leading to unpredictable behavior."
   ]
  },
  {
   "cell_type": "code",
   "execution_count": null,
   "id": "dd3b9869-b601-42d8-aae5-bc7eadcc555d",
   "metadata": {},
   "outputs": [],
   "source": []
  }
 ],
 "metadata": {
  "kernelspec": {
   "display_name": "Python 3 (ipykernel)",
   "language": "python",
   "name": "python3"
  },
  "language_info": {
   "codemirror_mode": {
    "name": "ipython",
    "version": 3
   },
   "file_extension": ".py",
   "mimetype": "text/x-python",
   "name": "python",
   "nbconvert_exporter": "python",
   "pygments_lexer": "ipython3",
   "version": "3.10.8"
  }
 },
 "nbformat": 4,
 "nbformat_minor": 5
}
