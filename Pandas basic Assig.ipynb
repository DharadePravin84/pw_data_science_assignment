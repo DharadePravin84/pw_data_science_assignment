{
 "cells": [
  {
   "cell_type": "markdown",
   "id": "2a04ac8a-84cc-473a-8237-c06de917b0fa",
   "metadata": {},
   "source": [
    "Q1. Create a Pandas Series that contains the following data: 4, 8, 15, 16, 23, and 42. Then, print the series."
   ]
  },
  {
   "cell_type": "code",
   "execution_count": 4,
   "id": "03ebeca3-c928-49ae-bf77-84f10170d41d",
   "metadata": {},
   "outputs": [
    {
     "name": "stdout",
     "output_type": "stream",
     "text": [
      "0     4\n",
      "1     8\n",
      "2    15\n",
      "3    16\n",
      "4    23\n",
      "5    42\n",
      "dtype: int64\n"
     ]
    }
   ],
   "source": [
    "import pandas as pd\n",
    "data = [4, 8, 15, 16, 23, 42]\n",
    "\n",
    "my_series = pd.Series(data)\n",
    "\n",
    "print(my_series)"
   ]
  },
  {
   "cell_type": "markdown",
   "id": "98968c38-25a4-45e5-b827-e6293a011ca2",
   "metadata": {},
   "source": [
    "Q2. Create a variable of list type containing 10 elements in it, and apply pandas.Series function on the\n",
    "variable print it."
   ]
  },
  {
   "cell_type": "code",
   "execution_count": 6,
   "id": "d4d24dda-e236-4bb4-99f4-900bcf0a5c31",
   "metadata": {},
   "outputs": [
    {
     "name": "stdout",
     "output_type": "stream",
     "text": [
      "0     1\n",
      "1     2\n",
      "2     3\n",
      "3     4\n",
      "4     5\n",
      "5     6\n",
      "6     7\n",
      "7     8\n",
      "8     9\n",
      "9    10\n",
      "dtype: int64\n"
     ]
    }
   ],
   "source": [
    "#create a list with 10 elements\n",
    "my_list = [1, 2, 3, 4, 5, 6, 7, 8, 9, 10]\n",
    "# convert the list to pandas series\n",
    "my_series = pd.Series(my_list)\n",
    "print(my_series)"
   ]
  },
  {
   "attachments": {
    "1af40e1a-1bac-4199-9f61-22cc0f197c22.png": {
     "image/png": "[encoded data removed]"
    }
   },
   "cell_type": "markdown",
   "id": "ed573a91-3d0e-47aa-a479-be4eb9678fb8",
   "metadata": {},
   "source": [
    "Q3. Create a Pandas DataFrame that contains the following data:\n",
    "![Screenshot 2023-12-15 023014.png](attachment:1af40e1a-1bac-4199-9f61-22cc0f197c22.png)"
   ]
  },
  {
   "cell_type": "code",
   "execution_count": 9,
   "id": "fb67eff6-04b3-4e0a-a046-ce273bd1d3da",
   "metadata": {},
   "outputs": [
    {
     "name": "stdout",
     "output_type": "stream",
     "text": [
      "     Name  Age  Gender\n",
      "0   Alice   25  Female\n",
      "1     Bob   30    Male\n",
      "2  Claire   27  Female\n"
     ]
    }
   ],
   "source": [
    "data = {\n",
    "    \"Name\" : [\"Alice\", \"Bob\", \"Claire\"],\n",
    "    \"Age\" : [25, 30, 27],\n",
    "    \"Gender\" : [\"Female\", \"Male\", \"Female\"]\n",
    "}\n",
    "\n",
    "df = pd.DataFrame(data)\n",
    "print(df)"
   ]
  },
  {
   "cell_type": "markdown",
   "id": "2e5704f2-f530-4668-9cb4-ffb51e3a4912",
   "metadata": {},
   "source": [
    "Q4. What is ‘DataFrame’ in pandas and how is it different from pandas.series? Explain with an example.\n",
    "\n",
    "Ans:\n",
    "* DataFrame in Pandas\n",
    "- A 2-dimensional labeled data structure.\n",
    "- Resembles a table with columns of different types.\n",
    "\n",
    "* Series in Pandas:\n",
    "\n",
    "- A 1-dimensional labeled array.\n",
    "- Represents a single column or row in a DataFrame."
   ]
  },
  {
   "cell_type": "code",
   "execution_count": 15,
   "id": "863f7140-883e-4081-ab65-e2f1fdd291f8",
   "metadata": {},
   "outputs": [
    {
     "name": "stdout",
     "output_type": "stream",
     "text": [
      "     Name  Age  Gender\n",
      "0   Alice   25  Female\n",
      "1     Bob   30    Male\n",
      "2  Claire   27  Female\n",
      "---------\n",
      "0    25\n",
      "1    30\n",
      "2    27\n",
      "Name: Age, dtype: int64\n"
     ]
    }
   ],
   "source": [
    "import pandas as pd\n",
    "\n",
    "# DataFrame\n",
    "data = {'Name': ['Alice', 'Bob', 'Claire'], 'Age': [25, 30, 27], 'Gender': ['Female', 'Male', 'Female']}\n",
    "df = pd.DataFrame(data)\n",
    "\n",
    "# Series\n",
    "age_series = pd.Series([25, 30, 27], name='Age')\n",
    "\n",
    "\n",
    "print(df)\n",
    "print(\"---------\")\n",
    "print(age_series)"
   ]
  },
  {
   "cell_type": "markdown",
   "id": "bf973900-6a7a-4d2b-a411-7ca4a6c1b54a",
   "metadata": {},
   "source": [
    "Q5. What are some common functions you can use to manipulate data in a Pandas DataFrame? Can\n",
    "you give an example of when you might use one of these functions?"
   ]
  },
  {
   "cell_type": "code",
   "execution_count": 16,
   "id": "220b395e-8b1c-4451-8a2e-7d43c70d9d3d",
   "metadata": {},
   "outputs": [
    {
     "data": {
      "text/html": [
       "<div>\n",
       "<style scoped>\n",
       "    .dataframe tbody tr th:only-of-type {\n",
       "        vertical-align: middle;\n",
       "    }\n",
       "\n",
       "    .dataframe tbody tr th {\n",
       "        vertical-align: top;\n",
       "    }\n",
       "\n",
       "    .dataframe thead th {\n",
       "        text-align: right;\n",
       "    }\n",
       "</style>\n",
       "<table border=\"1\" class=\"dataframe\">\n",
       "  <thead>\n",
       "    <tr style=\"text-align: right;\">\n",
       "      <th></th>\n",
       "      <th>Name</th>\n",
       "      <th>Age</th>\n",
       "      <th>Gender</th>\n",
       "    </tr>\n",
       "  </thead>\n",
       "  <tbody>\n",
       "    <tr>\n",
       "      <th>0</th>\n",
       "      <td>Alice</td>\n",
       "      <td>25</td>\n",
       "      <td>Female</td>\n",
       "    </tr>\n",
       "    <tr>\n",
       "      <th>1</th>\n",
       "      <td>Bob</td>\n",
       "      <td>30</td>\n",
       "      <td>Male</td>\n",
       "    </tr>\n",
       "    <tr>\n",
       "      <th>2</th>\n",
       "      <td>Claire</td>\n",
       "      <td>27</td>\n",
       "      <td>Female</td>\n",
       "    </tr>\n",
       "  </tbody>\n",
       "</table>\n",
       "</div>"
      ],
      "text/plain": [
       "     Name  Age  Gender\n",
       "0   Alice   25  Female\n",
       "1     Bob   30    Male\n",
       "2  Claire   27  Female"
      ]
     },
     "execution_count": 16,
     "metadata": {},
     "output_type": "execute_result"
    }
   ],
   "source": [
    "# head() and tail(): Display the first or last n rows of the DataFrame.\n",
    "# Display the first 5 rows\n",
    "df.head()\n",
    "df.tail()"
   ]
  },
  {
   "cell_type": "code",
   "execution_count": 17,
   "id": "dd513721-21e3-43c5-9df1-c8a18a4648bc",
   "metadata": {},
   "outputs": [
    {
     "data": {
      "text/html": [
       "<div>\n",
       "<style scoped>\n",
       "    .dataframe tbody tr th:only-of-type {\n",
       "        vertical-align: middle;\n",
       "    }\n",
       "\n",
       "    .dataframe tbody tr th {\n",
       "        vertical-align: top;\n",
       "    }\n",
       "\n",
       "    .dataframe thead th {\n",
       "        text-align: right;\n",
       "    }\n",
       "</style>\n",
       "<table border=\"1\" class=\"dataframe\">\n",
       "  <thead>\n",
       "    <tr style=\"text-align: right;\">\n",
       "      <th></th>\n",
       "      <th>Age</th>\n",
       "    </tr>\n",
       "  </thead>\n",
       "  <tbody>\n",
       "    <tr>\n",
       "      <th>count</th>\n",
       "      <td>3.000000</td>\n",
       "    </tr>\n",
       "    <tr>\n",
       "      <th>mean</th>\n",
       "      <td>27.333333</td>\n",
       "    </tr>\n",
       "    <tr>\n",
       "      <th>std</th>\n",
       "      <td>2.516611</td>\n",
       "    </tr>\n",
       "    <tr>\n",
       "      <th>min</th>\n",
       "      <td>25.000000</td>\n",
       "    </tr>\n",
       "    <tr>\n",
       "      <th>25%</th>\n",
       "      <td>26.000000</td>\n",
       "    </tr>\n",
       "    <tr>\n",
       "      <th>50%</th>\n",
       "      <td>27.000000</td>\n",
       "    </tr>\n",
       "    <tr>\n",
       "      <th>75%</th>\n",
       "      <td>28.500000</td>\n",
       "    </tr>\n",
       "    <tr>\n",
       "      <th>max</th>\n",
       "      <td>30.000000</td>\n",
       "    </tr>\n",
       "  </tbody>\n",
       "</table>\n",
       "</div>"
      ],
      "text/plain": [
       "             Age\n",
       "count   3.000000\n",
       "mean   27.333333\n",
       "std     2.516611\n",
       "min    25.000000\n",
       "25%    26.000000\n",
       "50%    27.000000\n",
       "75%    28.500000\n",
       "max    30.000000"
      ]
     },
     "execution_count": 17,
     "metadata": {},
     "output_type": "execute_result"
    }
   ],
   "source": [
    "# describe(): Generate descriptive statistics of the DataFrame.\n",
    "# Generate descriptive statistics\n",
    "df.describe()\n"
   ]
  },
  {
   "cell_type": "code",
   "execution_count": 19,
   "id": "32721432-52d6-47f7-96f3-36167b39e108",
   "metadata": {},
   "outputs": [
    {
     "data": {
      "text/html": [
       "<div>\n",
       "<style scoped>\n",
       "    .dataframe tbody tr th:only-of-type {\n",
       "        vertical-align: middle;\n",
       "    }\n",
       "\n",
       "    .dataframe tbody tr th {\n",
       "        vertical-align: top;\n",
       "    }\n",
       "\n",
       "    .dataframe thead th {\n",
       "        text-align: right;\n",
       "    }\n",
       "</style>\n",
       "<table border=\"1\" class=\"dataframe\">\n",
       "  <thead>\n",
       "    <tr style=\"text-align: right;\">\n",
       "      <th></th>\n",
       "      <th>Name</th>\n",
       "      <th>Age</th>\n",
       "      <th>Gender</th>\n",
       "    </tr>\n",
       "  </thead>\n",
       "  <tbody>\n",
       "    <tr>\n",
       "      <th>0</th>\n",
       "      <td>Alice</td>\n",
       "      <td>25</td>\n",
       "      <td>Female</td>\n",
       "    </tr>\n",
       "    <tr>\n",
       "      <th>2</th>\n",
       "      <td>Claire</td>\n",
       "      <td>27</td>\n",
       "      <td>Female</td>\n",
       "    </tr>\n",
       "    <tr>\n",
       "      <th>1</th>\n",
       "      <td>Bob</td>\n",
       "      <td>30</td>\n",
       "      <td>Male</td>\n",
       "    </tr>\n",
       "  </tbody>\n",
       "</table>\n",
       "</div>"
      ],
      "text/plain": [
       "     Name  Age  Gender\n",
       "0   Alice   25  Female\n",
       "2  Claire   27  Female\n",
       "1     Bob   30    Male"
      ]
     },
     "execution_count": 19,
     "metadata": {},
     "output_type": "execute_result"
    }
   ],
   "source": [
    "# sort_values(): Sort the DataFrame by specified columns.\n",
    "# Sort the DataFrame by 'Age' in ascending order\n",
    "df_sorted = df.sort_values(by='Age')"
   ]
  },
  {
   "cell_type": "code",
   "execution_count": 22,
   "id": "21b557a6-6f1c-40fb-bf18-5d3ff89341e7",
   "metadata": {},
   "outputs": [],
   "source": [
    "# groupby(): Group the DataFrame using a mapper or by a series of columns.\n",
    "# Group the DataFrame by 'Gender' and calculate the mean age within each group\n",
    "df_grouped = df.groupby('Gender')['Age'].mean()\n"
   ]
  },
  {
   "cell_type": "markdown",
   "id": "89f8d1e1-fbd5-4f15-bdad-7c45f2b1d498",
   "metadata": {},
   "source": [
    "- merge(): Merge two DataFrames on a common key.\n",
    "- Merge two DataFrames based on a common key 'ID'\n",
    "* merged_df = pd.merge(df1, df2, on='ID')\n"
   ]
  },
  {
   "cell_type": "code",
   "execution_count": 24,
   "id": "8bfce7fe-c5af-4833-a876-efe0bc408180",
   "metadata": {},
   "outputs": [],
   "source": [
    "# drop(): Drop specified labels from rows or columns\n",
    "# Drop the 'Gender' column from the DataFrame\n",
    "df_dropped = df.drop('Gender', axis=1)\n"
   ]
  },
  {
   "cell_type": "code",
   "execution_count": 25,
   "id": "9685890d-54d2-4c4d-b070-110b6ca46a5f",
   "metadata": {},
   "outputs": [],
   "source": [
    "# fillna(): Fill missing values in the DataFrame.\n",
    "# Fill missing values in the 'Age' column with the mean age\n",
    "df_filled = df['Age'].fillna(df['Age'].mean(), inplace=True)\n"
   ]
  },
  {
   "cell_type": "markdown",
   "id": "b0a81a7b-35c6-4176-9383-51acec14b27f",
   "metadata": {},
   "source": [
    "Q6. Which of the following is mutable in nature Series, DataFrame, Panel?\n",
    "\n",
    "* Ans:\n",
    "- In Pandas, both Series and DataFrame are mutable, meaning you can modify their values. Panel is deprecated, and it's recommended to use MultiIndex DataFrames, which are also mutable."
   ]
  },
  {
   "cell_type": "markdown",
   "id": "065a1d41-d9e6-4241-9258-6511db21997b",
   "metadata": {},
   "source": [
    "Q7. Create a DataFrame using multiple Series. Explain with an example."
   ]
  },
  {
   "cell_type": "code",
   "execution_count": 26,
   "id": "b629b35c-2be8-49fc-b57e-717fe7f01de9",
   "metadata": {},
   "outputs": [
    {
     "name": "stdout",
     "output_type": "stream",
     "text": [
      "     Name  Age  Gender\n",
      "0   Alice   25  Female\n",
      "1     Bob   30    Male\n",
      "2  Claire   27  Female\n"
     ]
    }
   ],
   "source": [
    "# Creating multiple Series\n",
    "name_series = pd.Series(['Alice', 'Bob', 'Claire'], name='Name')\n",
    "age_series = pd.Series([25, 30, 27], name='Age')\n",
    "gender_series = pd.Series(['Female', 'Male', 'Female'], name='Gender')\n",
    "\n",
    "# Creating a DataFrame using multiple Series\n",
    "df_multiple_series = pd.DataFrame({\n",
    "    'Name': name_series,\n",
    "    'Age': age_series,\n",
    "    'Gender': gender_series\n",
    "})\n",
    "\n",
    "# Print the DataFrame\n",
    "print(df_multiple_series)\n"
   ]
  },
  {
   "cell_type": "code",
   "execution_count": null,
   "id": "7a3c155c-5e0d-4767-bc94-cab94aaef09f",
   "metadata": {},
   "outputs": [],
   "source": []
  }
 ],
 "metadata": {
  "kernelspec": {
   "display_name": "Python 3 (ipykernel)",
   "language": "python",
   "name": "python3"
  },
  "language_info": {
   "codemirror_mode": {
    "name": "ipython",
    "version": 3
   },
   "file_extension": ".py",
   "mimetype": "text/x-python",
   "name": "python",
   "nbconvert_exporter": "python",
   "pygments_lexer": "ipython3",
   "version": "3.10.8"
  }
 },
 "nbformat": 4,
 "nbformat_minor": 5
}
