{
 "cells": [
  {
   "cell_type": "code",
   "execution_count": 1,
   "id": "cf68a4a3-2e00-4ce0-8e23-084b4a3a3e9d",
   "metadata": {},
   "outputs": [],
   "source": [
    "# feb 5 assign 1"
   ]
  },
  {
   "cell_type": "code",
   "execution_count": 4,
   "id": "57d6fc56-6893-47c3-8f3b-44bbed420d32",
   "metadata": {},
   "outputs": [
    {
     "name": "stdout",
     "output_type": "stream",
     "text": [
      "Car 1: 2022 Toyota fortuner\n",
      "Car 2: 2020 Honda Civic\n",
      "The 2022 Toyota fortuner is now running.\n",
      "The 2020 Honda Civic is now running.\n",
      "The 2022 Toyota fortuner has stopped.\n",
      "The 2020 Honda Civic has stopped.\n"
     ]
    }
   ],
   "source": [
    "# Q1. Explain Class and Object with respect to Object-Oriented Programming. Give a suitable example.\n",
    "\"\"\"\n",
    "In Object-Oriented Programming (OOP), a \"class\" and an \"object\" are fundamental concepts used to model real-world entities,\n",
    "encapsulate data, and define behavior. Here's an explanation of these concepts with an example:\n",
    "\n",
    "Class:\n",
    "A class is a blueprint or a template for creating objects. It defines the attributes (data) and methods (functions) that the objects\n",
    "of the class will have.\n",
    "Think of a class as a general category or a set of instructions for creating objects that share common characteristics and behaviors.\n",
    "\n",
    "Object:\n",
    "An object is an instance of a class. It is a concrete, self-contained unit that contains both data (attributes) and methods (functions).\n",
    "Think of an object as a specific realization or instantiation of a class, representing a unique entity with its own set of data and \n",
    "behaviors.\n",
    "\"\"\"\n",
    "# Example:\n",
    "class Car:\n",
    "    def __init__(self, make, model, year):\n",
    "        self.make = make\n",
    "        self.model = model\n",
    "        self.year = year\n",
    "        self.is_running = False\n",
    "\n",
    "    def start(self):\n",
    "        self.is_running = True\n",
    "        print(f\"The {self.year} {self.make} {self.model} is now running.\")\n",
    "\n",
    "    def stop(self):\n",
    "        self.is_running = False\n",
    "        print(f\"The {self.year} {self.make} {self.model} has stopped.\")\n",
    "\n",
    "# Create car objects\n",
    "car1 = Car(\"Toyota\", \"fortuner\", 2022)\n",
    "car2 = Car(\"Honda\", \"Civic\", 2020)\n",
    "\n",
    "# Access attributes and methods of car objects\n",
    "print(f\"Car 1: {car1.year} {car1.make} {car1.model}\")\n",
    "print(f\"Car 2: {car2.year} {car2.make} {car2.model}\")\n",
    "\n",
    "car1.start()\n",
    "car2.start()\n",
    "\n",
    "car1.stop()\n",
    "car2.stop()"
   ]
  },
  {
   "cell_type": "markdown",
   "id": "9139c984-68f6-4bbe-b9e7-93335bf54287",
   "metadata": {},
   "source": [
    "# Q2. Name the four pillars of OOPs\n",
    "# Ans: \n",
    "\"\"\"\n",
    "\n",
    "The four pillars of Object-Oriented Programming (OOP) are:\n",
    "\n",
    "# Encapsulation:\n",
    "Encapsulation is like putting an object in a box. It hides the details and only shows what's important.\n",
    "It keeps data and the functions that work on it together in a class.\n",
    "\n",
    "# Inheritance:\n",
    "Inheritance is like passing traits from parents to children. It lets one class take the features of another class.\n",
    "It helps with code reuse.\n",
    "\n",
    "# Abstraction: \n",
    "Abstraction is like using a remote control. You don't need to know how it works inside; you just need to know how to use it.\n",
    "It simplifies complex things by showing only what's needed.\n",
    "\n",
    "# Polymorphism: \n",
    "Polymorphism is like speaking different languages. It allows different objects to respond to the same message or\n",
    "method in their own way. It makes code flexible and adaptable.\n",
    "\n",
    "\"\"\""
   ]
  },
  {
   "cell_type": "code",
   "execution_count": 7,
   "id": "2468ec29-a2e8-48a5-bc63-3e155d62a9a4",
   "metadata": {},
   "outputs": [
    {
     "name": "stdout",
     "output_type": "stream",
     "text": [
      "Student 1: Prem, Age: 18, Grade: 12th grade\n",
      "Student 2: Bob, Age: 17, Grade: 11th grade\n"
     ]
    }
   ],
   "source": [
    "# Q3. Explain why the __init__() function is used. Give a suitable example.\n",
    "# Ans:\n",
    "\"\"\"\n",
    "The __init__() function, also known as the constructor method, is used in Python classes to initialize the attributes of an object\n",
    "when the object is created. It's the first method that gets called when you create an instance of a class.\n",
    "This function allows you to set up the initial state of an object by assigning values to its attributes.\n",
    "\"\"\"\n",
    "class Student:\n",
    "    def __init__(self, name, age, grade):\n",
    "        self.name = name\n",
    "        self.age = age\n",
    "        self.grade = grade\n",
    "\n",
    "# Creating student objects\n",
    "student1 = Student(\"Prem\", 18, \"12th grade\")\n",
    "student2 = Student(\"Bob\", 17, \"11th grade\")\n",
    "\n",
    "# Accessing attributes of student objects\n",
    "print(f\"Student 1: {student1.name}, Age: {student1.age}, Grade: {student1.grade}\")\n",
    "print(f\"Student 2: {student2.name}, Age: {student2.age}, Grade: {student2.grade}\")\n",
    "\n"
   ]
  },
  {
   "cell_type": "markdown",
   "id": "c247face-2b89-43d0-8608-0d6cec3bfc3d",
   "metadata": {},
   "source": [
    "# Q4. Why self is used in OOPs?\n",
    "# Ans: \n",
    "\"\"\"\n",
    "In Object-Oriented Programming (OOP), self is like a way to talk about yourself. \n",
    "It's used in a class to refer to the specific object created from that class.\n",
    "You use self to access and modify the object's own data (attributes) and do things (call methods) that are unique to that object. \n",
    "It helps keep each object's information separate and lets you work with it\n",
    "\"\"\""
   ]
  },
  {
   "cell_type": "code",
   "execution_count": 9,
   "id": "16c57c8f-5d60-4e25-8f2c-f7bfb068d237",
   "metadata": {},
   "outputs": [
    {
     "name": "stdout",
     "output_type": "stream",
     "text": [
      "Woof!\n",
      "Swimming\n",
      "Flying\n",
      "Smith\n",
      "John\n",
      "Alice\n"
     ]
    }
   ],
   "source": [
    "# Q5. What is inheritance? Give an example for each type of inheritance\n",
    "# Ans:\n",
    "\"\"\"\n",
    "Inheritance is a fundamental concept in Object-Oriented Programming (OOP) that allows a class to inherit attributes and methods from another class.\n",
    "It establishes a relationship between a parent (base/super) class and a child (derived/sub) class, enabling code reuse \n",
    "and the creation of class hierarchies. There are several types of inheritance, including:\n",
    "\"\"\"\n",
    "# 1.Single Inheritance: In single inheritance, a child class inherits from a single parent class. It's a simple form of inheritance.\n",
    "class Animal:\n",
    "    def speak(self):\n",
    "        pass\n",
    "\n",
    "class Dog(Animal):\n",
    "    def speak(self):\n",
    "        return \"Woof!\"\n",
    "\n",
    "fido = Dog()\n",
    "print(fido.speak())  # Output: \"Woof!\"\n",
    "\n",
    "# 2. Multiple Inheritance: In multiple inheritance, a child class can inherit from multiple parent classes.  This allows the child class to inherit attributes and methods from more than one source.\n",
    "class Swimmer:\n",
    "    def swim(self):\n",
    "        return \"Swimming\"\n",
    "\n",
    "class Flyer:\n",
    "    def fly(self):\n",
    "        return \"Flying\"\n",
    "\n",
    "class Superhero(Swimmer, Flyer):\n",
    "    pass\n",
    "\n",
    "superman = Superhero()\n",
    "print(superman.swim())  # Output: \"Swimming\"\n",
    "print(superman.fly())   # Output: \"Flying\"\n",
    "\n",
    "# 3. Multilevel Inheritance: In multilevel inheritance, a child class inherits from a parent class, and another class inherits from this child class. It creates a chain of inheritance.\n",
    "class Grandparent:\n",
    "    def family_name(self):\n",
    "        return \"Smith\"\n",
    "\n",
    "class Parent(Grandparent):\n",
    "    def parent_name(self):\n",
    "        return \"John\"\n",
    "\n",
    "class Child(Parent):\n",
    "    def child_name(self):\n",
    "        return \"Alice\"\n",
    "\n",
    "alice = Child()\n",
    "print(alice.family_name())  # Output: \"Smith\"\n",
    "print(alice.parent_name())  # Output: \"John\"\n",
    "print(alice.child_name())   # Output: \"Alice\"\n",
    "\n",
    "# 4. Hierarchical Inheritance: Multiple child classes inherit from a single parent class.\n",
    "class Vehicle:\n",
    "    pass\n",
    "\n",
    "class Car(Vehicle):\n",
    "    pass\n",
    "\n",
    "class Bike(Vehicle):\n",
    "    pass\n"
   ]
  },
  {
   "cell_type": "code",
   "execution_count": null,
   "id": "b3067669-d176-41e3-b051-539cb686d837",
   "metadata": {},
   "outputs": [],
   "source": []
  }
 ],
 "metadata": {
  "kernelspec": {
   "display_name": "Python 3 (ipykernel)",
   "language": "python",
   "name": "python3"
  },
  "language_info": {
   "codemirror_mode": {
    "name": "ipython",
    "version": 3
   },
   "file_extension": ".py",
   "mimetype": "text/x-python",
   "name": "python",
   "nbconvert_exporter": "python",
   "pygments_lexer": "ipython3",
   "version": "3.10.8"
  }
 },
 "nbformat": 4,
 "nbformat_minor": 5
}
