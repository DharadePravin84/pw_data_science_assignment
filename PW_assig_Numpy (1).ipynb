{
 "cells": [
  {
   "cell_type": "markdown",
   "id": "8aeed1ce-8015-4ec4-951c-20786886c8a3",
   "metadata": {},
   "source": [
    "Q1. Is there any difference in the data type of variables list_ and array_list? If there is then write a code\n",
    "to print the data types of both the variables. \n",
    "\n",
    "- Ans: Yes, there is a difference in the data type of the list_ and array_list variables. The list_ is a Python list containing strings, while array_list is a NumPy array with dtype determined by the data type of the elements in the list."
   ]
  },
  {
   "cell_type": "code",
   "execution_count": 2,
   "id": "ddb0d501-e498-4aba-9682-81fe8251a924",
   "metadata": {},
   "outputs": [],
   "source": [
    "import numpy as np"
   ]
  },
  {
   "cell_type": "code",
   "execution_count": 3,
   "id": "5a63dc23-4a34-4379-987e-5c46efc9bb98",
   "metadata": {},
   "outputs": [],
   "source": [
    "list_ = ['1', '2', '3', '4', '5']\n",
    "array_list = np.array(object=list_)"
   ]
  },
  {
   "cell_type": "code",
   "execution_count": 4,
   "id": "af9fdd2e-9110-418b-a5cd-370717badc90",
   "metadata": {},
   "outputs": [
    {
     "name": "stdout",
     "output_type": "stream",
     "text": [
      "Data type of list_: <class 'list'>\n",
      "Data type of array_list: <class 'numpy.ndarray'>\n"
     ]
    }
   ],
   "source": [
    "print(\"Data type of list_:\", type(list_))\n",
    "print(\"Data type of array_list:\", type(array_list))"
   ]
  },
  {
   "cell_type": "code",
   "execution_count": 5,
   "id": "6eb1dfd1-6fd8-4a59-ab47-7f8e4fdf35ba",
   "metadata": {},
   "outputs": [
    {
     "data": {
      "text/plain": [
       "['1', '2', '3', '4', '5']"
      ]
     },
     "execution_count": 5,
     "metadata": {},
     "output_type": "execute_result"
    }
   ],
   "source": [
    "list_"
   ]
  },
  {
   "cell_type": "markdown",
   "id": "b0884d42-3ead-4c8d-933a-5b0952cdbfec",
   "metadata": {},
   "source": [
    "Q2. Write a code to print the data type of each and every element of both the variables list_ and\n",
    "arra_list."
   ]
  },
  {
   "cell_type": "code",
   "execution_count": 6,
   "id": "7ac8b168-17e0-4cde-9239-8b1883d4e503",
   "metadata": {},
   "outputs": [
    {
     "name": "stdout",
     "output_type": "stream",
     "text": [
      "Data types of elements in list_:\n",
      "<class 'str'>\n",
      "<class 'str'>\n",
      "<class 'str'>\n",
      "<class 'str'>\n",
      "<class 'str'>\n",
      "\n",
      "Data types of elements in array_list:\n",
      "<class 'numpy.str_'>\n",
      "<class 'numpy.str_'>\n",
      "<class 'numpy.str_'>\n",
      "<class 'numpy.str_'>\n",
      "<class 'numpy.str_'>\n"
     ]
    }
   ],
   "source": [
    "list_ = ['1', '2', '3', '4', '5']\n",
    "array_list = np.array(object=list_)\n",
    "\n",
    "# Print data types of each element in list_\n",
    "print(\"Data types of elements in list_:\")\n",
    "for element in list_:\n",
    "    print(type(element))\n",
    "\n",
    "# Print data types of each element in array_list\n",
    "print(\"\\nData types of elements in array_list:\")\n",
    "for element in array_list:\n",
    "    print(type(element))"
   ]
  },
  {
   "cell_type": "markdown",
   "id": "1529cdb4-e450-4531-ac35-022c31055f58",
   "metadata": {},
   "source": [
    "Q3. Considering the following changes in the variable, array_list:\n",
    "array_list = np.array(object = list_, dtype = int)\n",
    "Will there be any difference in the data type of the elements present in both the variables, list_ and\n",
    "arra_list? If so then print the data types of each and every element present in both the variables, list_\n",
    "and arra_list.\n",
    "Consider the below code to answer further questions:\n",
    "import numpy as np\n",
    "num_list = [ [ 1 , 2 , 3 ] , [ 4 , 5 , 6 ] ]\n",
    "num_array = np.array(object = num_list)"
   ]
  },
  {
   "cell_type": "code",
   "execution_count": 7,
   "id": "92f4376f-6c3e-4c6f-b981-fd1ea4ab7caa",
   "metadata": {},
   "outputs": [
    {
     "name": "stdout",
     "output_type": "stream",
     "text": [
      "\n",
      "Data types of elements in num_list:\n",
      "<class 'int'>\n",
      "<class 'int'>\n",
      "<class 'int'>\n",
      "<class 'int'>\n",
      "<class 'int'>\n",
      "<class 'int'>\n",
      "\n",
      "Data types of elements in num_array:\n",
      "<class 'numpy.int64'>\n",
      "<class 'numpy.int64'>\n",
      "<class 'numpy.int64'>\n",
      "<class 'numpy.int64'>\n",
      "<class 'numpy.int64'>\n",
      "<class 'numpy.int64'>\n"
     ]
    }
   ],
   "source": [
    "num_list = [[1, 2, 3], [4, 5, 6]]\n",
    "num_array = np.array(object=num_list)\n",
    "\n",
    "# Print data types of elements in num_list\n",
    "print(\"\\nData types of elements in num_list:\")\n",
    "for sublist in num_list:\n",
    "    for element in sublist:\n",
    "        print(type(element))\n",
    "\n",
    "# Print data types of elements in num_array\n",
    "print(\"\\nData types of elements in num_array:\")\n",
    "for element in num_array.flatten():\n",
    "    print(type(element))"
   ]
  },
  {
   "cell_type": "markdown",
   "id": "e34f6b21-2b7a-48de-ab10-c076b03629a6",
   "metadata": {},
   "source": [
    "Q4. Write a code to find the following characteristics of variable, num_array:\n",
    "(i) shape\n",
    "(ii) size"
   ]
  },
  {
   "cell_type": "code",
   "execution_count": 8,
   "id": "3a768fa9-2e52-4f07-ba14-d23355b5b072",
   "metadata": {},
   "outputs": [
    {
     "name": "stdout",
     "output_type": "stream",
     "text": [
      "(i) Shape of num_array: (2, 3)\n",
      "(ii) Size of num_array: 6\n"
     ]
    }
   ],
   "source": [
    "num_list = [[1, 2, 3], [4, 5, 6]]\n",
    "num_array = np.array(object=num_list)\n",
    "\n",
    "# (i) Find the shape of num_array\n",
    "shape_of_num_array = num_array.shape\n",
    "print(\"(i) Shape of num_array:\", shape_of_num_array)\n",
    "\n",
    "# (ii) Find the size of num_array\n",
    "size_of_num_array = num_array.size\n",
    "print(\"(ii) Size of num_array:\", size_of_num_array)"
   ]
  },
  {
   "cell_type": "markdown",
   "id": "80e42952-c9b2-4192-b296-94ce9d69b6cf",
   "metadata": {},
   "source": [
    "Q5. Write a code to create numpy array of 3*3 matrix containing zeros only, using a numpy array\n",
    "creation function."
   ]
  },
  {
   "cell_type": "code",
   "execution_count": 9,
   "id": "6e9c87e4-878f-43ca-a114-90564ff10c42",
   "metadata": {},
   "outputs": [
    {
     "name": "stdout",
     "output_type": "stream",
     "text": [
      "3x3 Matrix containing zeros:\n",
      "[[0. 0. 0.]\n",
      " [0. 0. 0.]\n",
      " [0. 0. 0.]]\n"
     ]
    }
   ],
   "source": [
    "# Create a 3x3 matrix containing zeros\n",
    "zero_matrix = np.zeros((3, 3))\n",
    "\n",
    "# Print the created matrix\n",
    "print(\"3x3 Matrix containing zeros:\")\n",
    "print(zero_matrix)"
   ]
  },
  {
   "cell_type": "markdown",
   "id": "599d3a8b-5c59-49bf-a924-697b937a5ae3",
   "metadata": {},
   "source": [
    "Q6. Create an identity matrix of shape (5,5) using numpy functions?"
   ]
  },
  {
   "cell_type": "code",
   "execution_count": 10,
   "id": "4b9e0f5c-cc60-4492-91ce-f32ea8928f6b",
   "metadata": {},
   "outputs": [
    {
     "name": "stdout",
     "output_type": "stream",
     "text": [
      "5x5 Identity Matrix:\n",
      "[[1. 0. 0. 0. 0.]\n",
      " [0. 1. 0. 0. 0.]\n",
      " [0. 0. 1. 0. 0.]\n",
      " [0. 0. 0. 1. 0.]\n",
      " [0. 0. 0. 0. 1.]]\n"
     ]
    }
   ],
   "source": [
    "# Create a 5x5 identity matrix\n",
    "identity_matrix = np.eye(5)\n",
    "\n",
    "# Print the created identity matrix\n",
    "print(\"5x5 Identity Matrix:\")\n",
    "print(identity_matrix)"
   ]
  },
  {
   "cell_type": "code",
   "execution_count": null,
   "id": "912f14d6-da7a-48e1-b5d7-cc29aa7dda15",
   "metadata": {},
   "outputs": [],
   "source": []
  }
 ],
 "metadata": {
  "kernelspec": {
   "display_name": "Python 3 (ipykernel)",
   "language": "python",
   "name": "python3"
  },
  "language_info": {
   "codemirror_mode": {
    "name": "ipython",
    "version": 3
   },
   "file_extension": ".py",
   "mimetype": "text/x-python",
   "name": "python",
   "nbconvert_exporter": "python",
   "pygments_lexer": "ipython3",
   "version": "3.10.8"
  }
 },
 "nbformat": 4,
 "nbformat_minor": 5
}
