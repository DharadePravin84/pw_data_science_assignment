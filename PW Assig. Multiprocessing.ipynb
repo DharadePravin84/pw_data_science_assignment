{
 "cells": [
  {
   "cell_type": "markdown",
   "id": "fca82b49-2f7f-4ab9-b3c7-c749819fe8a1",
   "metadata": {},
   "source": [
    "#### Q1. What is multiprocessing in Python? Why is it useful?\n",
    "Ans:\n",
    "- Multiprocessing in Python refers to the ability of a program to create and run multiple processes simultaneously. Each process runs independently of others, allowing for parallel execution of tasks. It is useful for improving performance by utilizing multiple CPU cores, especially for CPU-bound tasks.\n",
    "\n",
    "#### Q2. What are the differences between multiprocessing and multithreading?\n",
    "Ans:\n",
    "- Multiprocessing involves running multiple processes concurrently, while multithreading involves running multiple threads within the same process.\n",
    "- Processes have separate memory spaces, while threads share memory within the same process.\n",
    "- Multiprocessing is more suited for CPU-bound tasks, while multithreading is more suited for I/O-bound tasks.\n"
   ]
  },
  {
   "cell_type": "markdown",
   "id": "6fc09013-d7e2-4002-9a57-bb97504bade4",
   "metadata": {},
   "source": [
    "#### Q3. Write a Python code to create a process using the multiprocessing module."
   ]
  },
  {
   "cell_type": "code",
   "execution_count": 1,
   "id": "16905225-d10c-46ee-9eca-fbd7b273327a",
   "metadata": {},
   "outputs": [
    {
     "name": "stdout",
     "output_type": "stream",
     "text": [
      "Worker process\n"
     ]
    }
   ],
   "source": [
    "import multiprocessing\n",
    "def worker():\n",
    "    print(\"Worker process\")\n",
    "\n",
    "if __name__ == \"__main__\":\n",
    "    p = multiprocessing.Process(target=worker)\n",
    "    p.start()\n",
    "    p.join()"
   ]
  },
  {
   "cell_type": "markdown",
   "id": "680389bf-9ece-47c7-810f-6aa846872fa8",
   "metadata": {},
   "source": [
    "#### Q4. What is a multiprocessing pool in Python? Why is it used?\n",
    "Ans:\n",
    "- A multiprocessing pool is a way to create a pool of worker processes to perform tasks in parallel. It manages a pool of worker processes, distributing tasks to them and collecting results. It is used to parallelize tasks that can be split into independent units of work, improving performance by utilizing multiple CPU cores."
   ]
  },
  {
   "cell_type": "markdown",
   "id": "01211c21-c639-47fc-80d0-58967ac1a36a",
   "metadata": {},
   "source": [
    "#### Q5. How can we create a pool of worker processes in Python using the multiprocessing module?"
   ]
  },
  {
   "cell_type": "code",
   "execution_count": 4,
   "id": "d33ffae9-3cfe-4af9-b90f-382bba0b40e6",
   "metadata": {},
   "outputs": [],
   "source": [
    "import multiprocessing\n",
    "def worker(num):\n",
    "    print(f\"Worker {num} process\")\n",
    "    \n",
    "if __name__ == \"__main__\":\n",
    "    with multiprocessing.Pool(processes=4) as pool:\n",
    "        pool,map(worker, range(4))"
   ]
  },
  {
   "cell_type": "code",
   "execution_count": null,
   "id": "53b78134-6384-4c0a-9fe0-e2904ba9ab71",
   "metadata": {},
   "outputs": [],
   "source": []
  }
 ],
 "metadata": {
  "kernelspec": {
   "display_name": "Python 3 (ipykernel)",
   "language": "python",
   "name": "python3"
  },
  "language_info": {
   "codemirror_mode": {
    "name": "ipython",
    "version": 3
   },
   "file_extension": ".py",
   "mimetype": "text/x-python",
   "name": "python",
   "nbconvert_exporter": "python",
   "pygments_lexer": "ipython3",
   "version": "3.10.8"
  }
 },
 "nbformat": 4,
 "nbformat_minor": 5
}
