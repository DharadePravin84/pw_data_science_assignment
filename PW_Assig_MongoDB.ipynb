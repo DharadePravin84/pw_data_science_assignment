{
  "nbformat": 4,
  "nbformat_minor": 0,
  "metadata": {
    "colab": {
      "provenance": []
    },
    "kernelspec": {
      "name": "python3",
      "display_name": "Python 3"
    },
    "language_info": {
      "name": "python"
    }
  },
  "cells": [
    {
      "cell_type": "code",
      "execution_count": null,
      "metadata": {
        "id": "75leP6ihuNY_"
      },
      "outputs": [],
      "source": []
    },
    {
      "cell_type": "markdown",
      "source": [
        "Q1. What is MongoDB? Explain non-relational databases in short. In which scenarios is it preferred to use MongoDB over SQL databases?\n",
        "\n",
        "MongoDB:\n",
        "- MongoDB is a NoSQL database that uses a document-oriented data model. Instead of storing data in tables as in a relational database, MongoDB stores data in JSON-like documents, which makes the data flexible, scalable, and easy to query.\n",
        "\n",
        "Non-relational databases:\n",
        "- Non-relational databases, also known as NoSQL databases, are designed to store, retrieve, and manage large volumes of unstructured, semi-structured, and structured data. They do not use the traditional table-based relational model but instead utilize various data models such as document, key-value, wide-column, and graph.\n",
        "\n",
        "Scenarios to use MongoDB over SQL databases:\n",
        "- When you need to handle large volumes of unstructured or semi-structured data.\n",
        "- When you require high performance and scalability.\n",
        "- When your data schema is likely to change frequently.\n",
        "- When you need to integrate with modern web, mobile, and IoT applications.\n",
        "- When you need to store complex hierarchical data structures (e.g., nested data).\n",
        "\n",
        "Q2. State and Explain the features of MongoDB.\n",
        "\n",
        "Features of MongoDB:\n",
        "1. Document-oriented: Data is stored in JSON-like BSON documents which are flexible and can vary in structure.\n",
        "2. Schema-less: MongoDB does not enforce a fixed schema, allowing for more flexible and agile development.\n",
        "3. High performance: Supports indexing, sharding, and replication, ensuring high availability and performance.\n",
        "4. Horizontal scalability: Easily scales horizontally by adding more servers to the database.\n",
        "5. Rich query language: Provides a rich query language with support for ad-hoc queries, indexing, aggregation, and more.\n",
        "6. Replication: Provides high availability with replica sets, allowing automatic failover and data redundancy.\n",
        "7. Sharding: Supports horizontal partitioning of data across multiple servers to handle large datasets and high-throughput operations.\n",
        "8. Aggregation framework: Offers powerful tools to perform data aggregation operations similar to SQL’s GROUP BY clause."
      ],
      "metadata": {
        "id": "qZED1fdLuXo0"
      }
    },
    {
      "cell_type": "markdown",
      "source": [
        "Q3. Write a code to connect MongoDB to Python. Also, create a database and a collection in MongoDB."
      ],
      "metadata": {
        "id": "0CgvX1UAu6HR"
      }
    },
    {
      "cell_type": "code",
      "source": [
        "import pymongo\n",
        "\n",
        "# Connect to MongoDB\n",
        "client = pymongo.MongoClient(\"mongodb://localhost:27017/\")\n",
        "\n",
        "# Create a database\n",
        "db = client[\"mydatabase\"]\n",
        "\n",
        "# Create a collection\n",
        "collection = db[\"mycollection\"]\n",
        "\n",
        "print(\"Database and collection created successfully\")\n"
      ],
      "metadata": {
        "id": "G6zT1vb3u5OI"
      },
      "execution_count": null,
      "outputs": []
    },
    {
      "cell_type": "markdown",
      "source": [
        "Q4. Using the database and the collection created in question number 3, write a code to insert one record, and insert many records. Use the find() and find_one() methods to print the inserted record."
      ],
      "metadata": {
        "id": "SC6WYblqvE_r"
      }
    },
    {
      "cell_type": "code",
      "source": [
        "'''\n",
        "# Insert one record\n",
        "one_record = {\"name\": \"Alice\", \"age\": 30, \"city\": \"New York\"}\n",
        "collection.insert_one(one_record)\n",
        "\n",
        "# Insert many records\n",
        "many_records = [\n",
        "    {\"name\": \"Bob\", \"age\": 25, \"city\": \"Los Angeles\"},\n",
        "    {\"name\": \"Charlie\", \"age\": 35, \"city\": \"Chicago\"},\n",
        "    {\"name\": \"David\", \"age\": 40, \"city\": \"Miami\"}\n",
        "]\n",
        "collection.insert_many(many_records)\n",
        "\n",
        "# Find one record\n",
        "print(\"Find one record:\", collection.find_one({\"name\": \"Alice\"}))\n",
        "\n",
        "# Find all records\n",
        "print(\"Find all records:\")\n",
        "for record in collection.find():\n",
        "    print(record)\n",
        "'''"
      ],
      "metadata": {
        "colab": {
          "base_uri": "https://localhost:8080/",
          "height": 140
        },
        "id": "j9St5pZEu-Jg",
        "outputId": "d3551862-ae0c-4bcc-8c4f-4bda3874767a"
      },
      "execution_count": 2,
      "outputs": [
        {
          "output_type": "execute_result",
          "data": {
            "text/plain": [
              "'\\n# Insert one record\\none_record = {\"name\": \"Alice\", \"age\": 30, \"city\": \"New York\"}\\ncollection.insert_one(one_record)\\n\\n# Insert many records\\nmany_records = [\\n    {\"name\": \"Bob\", \"age\": 25, \"city\": \"Los Angeles\"},\\n    {\"name\": \"Charlie\", \"age\": 35, \"city\": \"Chicago\"},\\n    {\"name\": \"David\", \"age\": 40, \"city\": \"Miami\"}\\n]\\ncollection.insert_many(many_records)\\n\\n# Find one record\\nprint(\"Find one record:\", collection.find_one({\"name\": \"Alice\"}))\\n\\n# Find all records\\nprint(\"Find all records:\")\\nfor record in collection.find():\\n    print(record)\\n'"
            ],
            "application/vnd.google.colaboratory.intrinsic+json": {
              "type": "string"
            }
          },
          "metadata": {},
          "execution_count": 2
        }
      ]
    },
    {
      "cell_type": "markdown",
      "source": [
        "Q5. Explain how you can use the find() method to query the MongoDB database. Write a simple code to demonstrate this.\n",
        "\n",
        "Using the find() method:\n",
        "\n",
        "The find() method retrieves documents from a collection that match the query criteria. It returns a cursor that can be iterated to access each document.\n"
      ],
      "metadata": {
        "id": "iIZr5SfJvQ4r"
      }
    },
    {
      "cell_type": "code",
      "source": [
        "'''\n",
        "# Query to find all records where age is greater than 30\n",
        "query = {\"age\": {\"$gt\": 30}}\n",
        "results = collection.find(query)\n",
        "\n",
        "print(\"Query results:\")\n",
        "for record in results:\n",
        "    print(record)\n",
        "'''"
      ],
      "metadata": {
        "colab": {
          "base_uri": "https://localhost:8080/",
          "height": 70
        },
        "id": "acHVzZh6vG1O",
        "outputId": "0c49987c-d2d2-435a-a64d-ad00a162cda6"
      },
      "execution_count": 3,
      "outputs": [
        {
          "output_type": "execute_result",
          "data": {
            "text/plain": [
              "'\\n# Query to find all records where age is greater than 30\\nquery = {\"age\": {\"$gt\": 30}}\\nresults = collection.find(query)\\n\\nprint(\"Query results:\")\\nfor record in results:\\n    print(record)\\n'"
            ],
            "application/vnd.google.colaboratory.intrinsic+json": {
              "type": "string"
            }
          },
          "metadata": {},
          "execution_count": 3
        }
      ]
    },
    {
      "cell_type": "markdown",
      "source": [
        "Q6. Explain the sort() method. Give an example to demonstrate sorting in MongoDB.\n",
        "\n",
        "Sort method:\n",
        "\n",
        "The sort() method is used to sort the results of a query in either ascending (1) or descending (-1) order based on one or more fields."
      ],
      "metadata": {
        "id": "rm1_B61ivnVM"
      }
    },
    {
      "cell_type": "code",
      "source": [
        "'''\n",
        "# Sort records by age in ascending order\n",
        "sorted_results = collection.find().sort(\"age\", 1)\n",
        "\n",
        "print(\"Sorted results (by age ascending):\")\n",
        "for record in sorted_results:\n",
        "    print(record)\n",
        "'''"
      ],
      "metadata": {
        "colab": {
          "base_uri": "https://localhost:8080/",
          "height": 70
        },
        "id": "IpszdR-RvkKx",
        "outputId": "1af24eab-c18e-4892-f584-9cd70ef7f663"
      },
      "execution_count": 4,
      "outputs": [
        {
          "output_type": "execute_result",
          "data": {
            "text/plain": [
              "'\\n# Sort records by age in ascending order\\nsorted_results = collection.find().sort(\"age\", 1)\\n\\nprint(\"Sorted results (by age ascending):\")\\nfor record in sorted_results:\\n    print(record)\\n'"
            ],
            "application/vnd.google.colaboratory.intrinsic+json": {
              "type": "string"
            }
          },
          "metadata": {},
          "execution_count": 4
        }
      ]
    },
    {
      "cell_type": "markdown",
      "source": [
        "Q7. Explain why delete_one(), delete_many(), and drop() are used.\n",
        "\n",
        "delete_one(): Deletes a single document that matches the specified filter criteria. If multiple documents match, only the first one encountered will be deleted.\n",
        "\n",
        "- collection.delete_one({\"name\": \"Alice\"})\n",
        "\n",
        "delete_many(): Deletes all documents that match the specified filter criteria.\n",
        "- collection.delete_many({\"age\": {\"$gt\": 30}})\n",
        "\n",
        "drop(): Deletes the entire collection along with all its documents. This is irreversible and will remove all data in the collection.\n",
        "- collection.drop()\n"
      ],
      "metadata": {
        "id": "E5sS5T-hvux0"
      }
    },
    {
      "cell_type": "code",
      "source": [],
      "metadata": {
        "id": "p5e4ier9vsTI"
      },
      "execution_count": null,
      "outputs": []
    }
  ]
}