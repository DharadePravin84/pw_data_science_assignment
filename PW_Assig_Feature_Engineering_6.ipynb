{
  "nbformat": 4,
  "nbformat_minor": 0,
  "metadata": {
    "colab": {
      "provenance": []
    },
    "kernelspec": {
      "name": "python3",
      "display_name": "Python 3"
    },
    "language_info": {
      "name": "python"
    }
  },
  "cells": [
    {
      "cell_type": "markdown",
      "source": [
        "Q1. Pearson correlation coefficient is a measure of the linear relationship between two variables. Suppose\n",
        "you have collected data on the amount of time students spend studying for an exam and their final exam\n",
        "scores. Calculate the Pearson correlation coefficient between these two variables and interpret the result.\n",
        "\n"
      ],
      "metadata": {
        "id": "psz4vlKNKKPa"
      }
    },
    {
      "cell_type": "code",
      "source": [
        "import numpy as np\n",
        "from scipy.stats import pearsonr\n",
        "\n",
        "# Data\n",
        "time_spent_studying = np.array([3, 4, 5, 6, 7, 8, 9])\n",
        "final_exam_scores = np.array([65, 70, 75, 80, 85, 90, 95])\n",
        "\n",
        "# Calculate Pearson correlation coefficient\n",
        "corr_coeff, _ = pearsonr(time_spent_studying, final_exam_scores)\n",
        "\n",
        "print(f\"Pearson correlation coefficient: {corr_coeff:.2f}\")\n",
        "\n",
        "# Interpretation\n",
        "if corr_coeff > 0:\n",
        "    print(\"There is a positive linear relationship between time spent studying and final exam scores.\")\n",
        "elif corr_coeff < 0:\n",
        "    print(\"There is a negative linear relationship between time spent studying and final exam scores.\")\n",
        "else:\n",
        "    print(\"There is no linear relationship between time spent studying and final exam scores.\")\n"
      ],
      "metadata": {
        "colab": {
          "base_uri": "https://localhost:8080/"
        },
        "id": "c5qMZBZuKNtU",
        "outputId": "782078d8-92e7-4f78-ec1f-1052ef308614"
      },
      "execution_count": 1,
      "outputs": [
        {
          "output_type": "stream",
          "name": "stdout",
          "text": [
            "Pearson correlation coefficient: 1.00\n",
            "There is a positive linear relationship between time spent studying and final exam scores.\n"
          ]
        }
      ]
    },
    {
      "cell_type": "markdown",
      "source": [
        "Q2. Spearman's rank correlation is a measure of the monotonic relationship between two variables.\n",
        "Suppose you have collected data on the amount of sleep individuals get each night and their overall job\n",
        "satisfaction level on a scale of 1 to 10. Calculate the Spearman's rank correlation between these two\n",
        "variables and interpret the result.\n",
        "\n",
        "\n"
      ],
      "metadata": {
        "id": "HnLlnmUKKOYQ"
      }
    },
    {
      "cell_type": "code",
      "source": [
        "from scipy.stats import spearmanr\n",
        "\n",
        "# Data\n",
        "hours_of_sleep = np.array([6, 7, 5, 8, 6, 7, 6])\n",
        "job_satisfaction = np.array([8, 7, 6, 9, 5, 8, 7])\n",
        "\n",
        "# Calculate Spearman's rank correlation coefficient\n",
        "corr_coeff, _ = spearmanr(hours_of_sleep, job_satisfaction)\n",
        "\n",
        "print(f\"Spearman's rank correlation coefficient: {corr_coeff:.2f}\")\n",
        "\n",
        "# Interpretation\n",
        "if corr_coeff > 0:\n",
        "    print(\"There is a positive monotonic relationship between hours of sleep and job satisfaction.\")\n",
        "elif corr_coeff < 0:\n",
        "    print(\"There is a negative monotonic relationship between hours of sleep and job satisfaction.\")\n",
        "else:\n",
        "    print(\"There is no monotonic relationship between hours of sleep and job satisfaction.\")\n"
      ],
      "metadata": {
        "colab": {
          "base_uri": "https://localhost:8080/"
        },
        "id": "STIZSeKpKQyh",
        "outputId": "52f67787-3596-4077-e461-13147f666e54"
      },
      "execution_count": 2,
      "outputs": [
        {
          "output_type": "stream",
          "name": "stdout",
          "text": [
            "Spearman's rank correlation coefficient: 0.71\n",
            "There is a positive monotonic relationship between hours of sleep and job satisfaction.\n"
          ]
        }
      ]
    },
    {
      "cell_type": "markdown",
      "source": [
        "Q3. Suppose you are conducting a study to examine the relationship between the number of hours of\n",
        "exercise per week and body mass index (BMI) in a sample of adults. You collected data on both variables\n",
        "for 50 participants. Calculate the Pearson correlation coefficient and the Spearman's rank correlation\n",
        "between these two variables and compare the results.\n",
        "\n"
      ],
      "metadata": {
        "id": "uGqgAkPYKRQV"
      }
    },
    {
      "cell_type": "code",
      "source": [
        "# Data\n",
        "hours_of_exercise = np.array([3, 5, 7, 2, 4, 6, 1, 3, 5, 2])\n",
        "bmi = np.array([22, 24, 26, 21, 23, 25, 20, 22, 24, 21])\n",
        "\n",
        "# Calculate Pearson correlation coefficient\n",
        "pearson_corr, _ = pearsonr(hours_of_exercise, bmi)\n",
        "\n",
        "# Calculate Spearman's rank correlation coefficient\n",
        "spearman_corr, _ = spearmanr(hours_of_exercise, bmi)\n",
        "\n",
        "print(f\"Pearson correlation coefficient: {pearson_corr:.2f}\")\n",
        "print(f\"Spearman's rank correlation coefficient: {spearman_corr:.2f}\")\n"
      ],
      "metadata": {
        "colab": {
          "base_uri": "https://localhost:8080/"
        },
        "id": "G06TFC-2KSyx",
        "outputId": "0b312f39-9dfa-4e55-f8ea-c53f60533177"
      },
      "execution_count": 3,
      "outputs": [
        {
          "output_type": "stream",
          "name": "stdout",
          "text": [
            "Pearson correlation coefficient: 1.00\n",
            "Spearman's rank correlation coefficient: 1.00\n"
          ]
        }
      ]
    },
    {
      "cell_type": "markdown",
      "source": [
        "Q4. A researcher is interested in examining the relationship between the number of hours individuals\n",
        "spend watching television per day and their level of physical activity. The researcher collected data on\n",
        "both variables from a sample of 50 participants. Calculate the Pearson correlation coefficient between\n",
        "these two variables.\n",
        "\n"
      ],
      "metadata": {
        "id": "c9rbXKQHKTT1"
      }
    },
    {
      "cell_type": "code",
      "source": [
        "# Data\n",
        "hours_watching_tv = np.array([1, 2, 3, 2, 1, 3, 2, 2, 1, 3])\n",
        "physical_activity = np.array([3, 2, 1, 2, 3, 1, 2, 2, 3, 1])\n",
        "\n",
        "# Calculate Pearson correlation coefficient\n",
        "corr_coeff, _ = pearsonr(hours_watching_tv, physical_activity)\n",
        "\n",
        "print(f\"Pearson correlation coefficient: {corr_coeff:.2f}\")\n"
      ],
      "metadata": {
        "colab": {
          "base_uri": "https://localhost:8080/"
        },
        "id": "EmUYe8OmKVIm",
        "outputId": "a6dffe16-5d8e-4949-9422-4bdbe80ae8f7"
      },
      "execution_count": 4,
      "outputs": [
        {
          "output_type": "stream",
          "name": "stdout",
          "text": [
            "Pearson correlation coefficient: -1.00\n"
          ]
        }
      ]
    },
    {
      "cell_type": "markdown",
      "source": [
        "Q5. A survey was conducted to examine the relationship between age and preference for a particular\n",
        "brand of soft drink. The survey results are shown below :\n",
        "Age(Years) ,Soft drink Preference : 25, Coke, 42, Pepsi, 37 , Mountain dew, 19, Coke, 31, Pepsi, 28, Coke.\n",
        "\n"
      ],
      "metadata": {
        "id": "Q4ZvIYFEKVuR"
      }
    },
    {
      "cell_type": "code",
      "source": [
        "import matplotlib.pyplot as plt\n",
        "\n",
        "# Data\n",
        "ages = [25, 42, 37, 19, 31, 28]\n",
        "drinks = ['Coke', 'Pepsi', 'Mountain Dew', 'Coke', 'Pepsi', 'Coke']\n",
        "\n",
        "# Plotting\n",
        "plt.figure(figsize=(8, 6))\n",
        "plt.scatter(ages, drinks, marker='o', color='b')\n",
        "plt.xlabel('Age (Years)')\n",
        "plt.ylabel('Soft Drink Preference')\n",
        "plt.title('Relationship between Age and Soft Drink Preference')\n",
        "plt.yticks(rotation=45)\n",
        "plt.grid(True)\n",
        "plt.tight_layout()\n",
        "plt.show()\n"
      ],
      "metadata": {
        "colab": {
          "base_uri": "https://localhost:8080/",
          "height": 498
        },
        "id": "aB2po2n0KW0V",
        "outputId": "4a34b49e-0777-4f12-f48f-9e68c19e2842"
      },
      "execution_count": 5,
      "outputs": [
        {
          "output_type": "display_data",
          "data": {
            "text/plain": [
              "<Figure size 800x600 with 1 Axes>"
            ],
            "image/png": "[encoded data removed]"
          },
          "metadata": {}
        }
      ]
    },
    {
      "cell_type": "markdown",
      "source": [
        "Q6. A company is interested in examining the relationship between the number of sales calls made per day\n",
        "and the number of sales made per week. The company collected data on both variables from a sample of\n",
        "30 sales representatives. Calculate the Pearson correlation coefficient between these two variables."
      ],
      "metadata": {
        "id": "eOXHgsiyKXUn"
      }
    },
    {
      "cell_type": "code",
      "source": [
        "import numpy as np\n",
        "\n",
        "# Sample data\n",
        "X = np.array([10, 15, 12, 18, 20, 8, 14, 16, 19, 11, 13, 17, 9, 7, 22, 25, 21, 23, 26, 24, 28, 30, 27, 29, 31, 33, 35, 32, 34, 36])\n",
        "Y = np.array([5, 7, 6, 9, 10, 4, 7, 8, 9, 5, 6, 8, 4, 3, 11, 12, 10, 11, 13, 12, 14, 15, 13, 16, 17, 18, 20, 19, 21, 22])\n",
        "\n",
        "# Calculate means\n",
        "mean_X = np.mean(X)\n",
        "mean_Y = np.mean(Y)\n",
        "\n",
        "# Calculate Pearson correlation coefficient\n",
        "numerator = np.sum((X - mean_X) * (Y - mean_Y))\n",
        "denominator = np.sqrt(np.sum((X - mean_X)**2) * np.sum((Y - mean_Y)**2))\n",
        "r = numerator / denominator\n",
        "\n",
        "print(f\"Pearson correlation coefficient r: {r}\")\n"
      ],
      "metadata": {
        "colab": {
          "base_uri": "https://localhost:8080/"
        },
        "id": "Mc9X8V64KXxD",
        "outputId": "0efad8f6-6f6c-45ec-d326-76fe7fc0630c"
      },
      "execution_count": 6,
      "outputs": [
        {
          "output_type": "stream",
          "name": "stdout",
          "text": [
            "Pearson correlation coefficient r: 0.9848098418430886\n"
          ]
        }
      ]
    },
    {
      "cell_type": "code",
      "source": [],
      "metadata": {
        "id": "sUrNzYFBKsAw"
      },
      "execution_count": null,
      "outputs": []
    }
  ]
}