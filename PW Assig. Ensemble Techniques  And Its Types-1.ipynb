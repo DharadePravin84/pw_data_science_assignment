{
 "cells": [
  {
   "cell_type": "markdown",
   "id": "2402b372-8d96-4dee-b422-cfe7fc664d58",
   "metadata": {},
   "source": [
    "\n",
    "\n",
    "\n",
    "\n",
    "\n",
    "\n",
    "\n",
    "\n"
   ]
  },
  {
   "cell_type": "markdown",
   "id": "59bd0081-bac8-4b58-ba5b-904e0b40196f",
   "metadata": {},
   "source": [
    "### Q1. What is an ensemble technique in machine learning?\n",
    "Ans:\n",
    "\n",
    "An ensemble technique in machine learning involves combining multiple individual models to create a stronger predictive model."
   ]
  },
  {
   "cell_type": "markdown",
   "id": "05d89b87-dd2a-476f-ae5a-38a6e5f954ea",
   "metadata": {},
   "source": [
    "### Q2. Why are ensemble techniques used in machine learning?\n",
    "Ans:\n",
    "\n",
    " Ensemble techniques are used in machine learning to improve predictive performance, increase robustness, and reduce overfitting. By combining the predictions of multiple models, ensemble techniques can often achieve better results than any single model alone."
   ]
  },
  {
   "cell_type": "markdown",
   "id": "2485ce90-a27e-4b1c-96d7-7f5021c58c16",
   "metadata": {},
   "source": [
    "### Q3. What is bagging?\n",
    "Ans:\n",
    "\n",
    " Bagging, or Bootstrap Aggregating, is a technique in ensemble learning where multiple models are trained on different random subsets of the training data with replacement. The final prediction is typically made by averaging the predictions of all the models (for regression) or by taking a majority vote (for classification)."
   ]
  },
  {
   "cell_type": "markdown",
   "id": "23801d7d-1198-4ab4-98e0-55bc0cf12b17",
   "metadata": {},
   "source": [
    "### Q4. What is boosting?\n",
    "Ans:\n",
    "\n",
    "Boosting is another ensemble technique where multiple weak learners are combined sequentially to create a strong learner. In boosting, each new model focuses on the examples that the previous models misclassified, thereby iteratively improving the overall model's performance."
   ]
  },
  {
   "cell_type": "markdown",
   "id": "81ad0c8b-25c5-462a-a030-5cc655c00cec",
   "metadata": {},
   "source": [
    "### Q5. What are the benefits of using ensemble techniques?\n",
    "Ans:\n",
    "\n",
    "The benefits of using ensemble techniques include improved predictive accuracy, increased robustness to noise and outliers, reduced overfitting, and the ability to capture complex relationships in the data more effectively."
   ]
  },
  {
   "cell_type": "markdown",
   "id": "5cc64d3d-c2d1-4d19-a365-33d02603ff96",
   "metadata": {},
   "source": [
    "### Q6. Are ensemble techniques always better than individual models?\n",
    "Ans:\n",
    "\n",
    "While ensemble techniques often outperform individual models, they are not always guaranteed to do so. The effectiveness of ensemble methods depends on various factors such as the diversity of the base models, the quality of the individual models, and the nature of the data."
   ]
  },
  {
   "cell_type": "markdown",
   "id": "57a6f853-602b-4dd5-8820-85801ba5e9a8",
   "metadata": {},
   "source": [
    "### Q7. How is the confidence interval calculated using bootstrap?\n",
    "Ans:\n",
    "\n",
    "The confidence interval using bootstrap is calculated by resampling the original dataset with replacement to create multiple bootstrap samples. Then, the statistic of interest (such as the mean) is calculated for each bootstrap sample. Finally, the confidence interval is constructed using the distribution of the statistic from the bootstrap samples."
   ]
  },
  {
   "cell_type": "markdown",
   "id": "c0b6ddcf-a867-431e-8d1c-5964246aa0e4",
   "metadata": {},
   "source": [
    "### Q8. How does bootstrap work and What are the steps involved in bootstrap?\n",
    "Ans:\n",
    "    \n",
    "Bootstrap is a resampling technique used to estimate the sampling distribution of a statistic by repeatedly sampling from the observed data with replacement. The steps involved in bootstrap are: \n",
    "1. Draw a sample with replacement from the observed data.\n",
    "2. Calculate the statistic of interest (e.g., mean, median) for this bootstrap sample.\n",
    "3. Repeat steps 1 and 2 a large number of times (typically thousands of times).\n",
    "4. Use the distribution of the calculated statistics to estimate properties such as confidence intervals or standard errors."
   ]
  },
  {
   "cell_type": "markdown",
   "id": "c593416f-89d7-4354-83c9-1cf600a16fec",
   "metadata": {},
   "source": [
    "#### Q9. A researcher wants to estimate the mean height of a population of trees. They measure the height of a sample of 50 trees and obtain a mean height of 15 meters and a standard deviation of 2 meters. Use bootstrap to estimate the 95% confidence interval for the population mean height.\n",
    "Ans:\n",
    "\n",
    "- Sample with replacement from the observed sample of 50 tree heights.\n",
    "- Calculate the mean height for each bootstrap sample.\n",
    "- Repeat the above steps thousands of times to create a distribution of bootstrap sample means.\n",
    "- Use the percentiles of this distribution (2.5th and 97.5th percentiles) to estimate the 95% confidence interval for the population mean height."
   ]
  },
  {
   "cell_type": "code",
   "execution_count": null,
   "id": "2fdf01fc-efac-4c5d-87e5-ac71841ffe86",
   "metadata": {},
   "outputs": [],
   "source": []
  }
 ],
 "metadata": {
  "kernelspec": {
   "display_name": "Python 3 (ipykernel)",
   "language": "python",
   "name": "python3"
  },
  "language_info": {
   "codemirror_mode": {
    "name": "ipython",
    "version": 3
   },
   "file_extension": ".py",
   "mimetype": "text/x-python",
   "name": "python",
   "nbconvert_exporter": "python",
   "pygments_lexer": "ipython3",
   "version": "3.10.8"
  }
 },
 "nbformat": 4,
 "nbformat_minor": 5
}
