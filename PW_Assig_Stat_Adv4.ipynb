{
  "nbformat": 4,
  "nbformat_minor": 0,
  "metadata": {
    "colab": {
      "provenance": []
    },
    "kernelspec": {
      "name": "python3",
      "display_name": "Python 3"
    },
    "language_info": {
      "name": "python"
    }
  },
  "cells": [
    {
      "cell_type": "markdown",
      "source": [
        "### Q1: What is the difference between a t-test and a z-test? Provide an example scenario where you would use each type of test.\n",
        "\n",
        "#### t-test:\n",
        "- Used when: The sample size is small (typically n < 30), and/or the population standard deviation is unknown.\n",
        "- Example: Comparing the average test scores of a small group of students who took two different teaching methods to see if there's a significant difference in performance.\n",
        "\n",
        "#### z-test:\n",
        "- Used when: The sample size is large (typically n > 30), and/or the population standard deviation is known.\n",
        "- Example: Comparing the average height of a large sample of male and female adults to see if there's a significant difference between genders, assuming the population standard deviation is known.\n",
        "\n",
        "### Q2: Differentiate between one-tailed and two-tailed tests.\n",
        "\n",
        "#### One-tailed test:\n",
        "- Tests for the possibility of the relationship in one direction.\n",
        "- Example: Testing if a new drug is better than the current one (only better, not worse).\n",
        "\n",
        "#### Two-tailed test:\n",
        "\n",
        "- Tests for the possibility of the relationship in both directions.\n",
        "- Example: Testing if a new drug is either better or worse than the current one.\n",
        "\n",
        "### Q3: Explain the concept of Type 1 and Type 2 errors in hypothesis testing. Provide an example scenario for each type of error.\n",
        "\n",
        "#### Type 1 Error (False Positive):\n",
        "- Occurs when the null hypothesis is true, but it is rejected.\n",
        "- Example: Concluding that a new drug is effective when it actually isn't.\n",
        "\n",
        "#### Type 2 Error (False Negative):\n",
        "- Occurs when the null hypothesis is false, but it is not rejected.\n",
        "- Example: Concluding that a new drug is not effective when it actually is.\n",
        "\n",
        "### Q4: Explain Bayes's theorem with an example.\n",
        "\n",
        "#### Bayes's theorem:\n",
        "𝑃(𝐴∣𝐵)=(𝑃(𝐵𝐴)⋅𝑃(𝐴))/𝑃(𝐵)\n",
        "\n",
        "\n",
        "#### Example:\n",
        "- Scenario: Testing for a disease.\n",
        "- Probability of having the disease (P(A)): 1%\n",
        "- Probability of testing positive given you have the disease (P(B|A)): 99%\n",
        "- Probability of testing positive (P(B)): 5%\n",
        "Using Bayes's theorem to find the probability of having the disease given a positive test result (P(A|B)):\n",
        "\n",
        "𝑃(𝐴∣𝐵)=(0.99*0.01)/0.05 = 0.198\n",
        "\n",
        "So, there's a 19.8% chance of having the disease given a positive test result.\n",
        "\n",
        "### Q5: What is a confidence interval? How to calculate the confidence interval, explain with an example.\n",
        "\n",
        "#### Confidence interval:\n",
        "A range of values used to estimate the true value of a population parameter.\n",
        "Calculation Example:\n",
        "\n",
        "- Given: Sample mean (xˉ) = 50, standard deviation (s) = 5, sample size (n) = 30, confidence level = 95%\n",
        "\n",
        " - For 95% confidence level, 𝑍 𝛼/2≈ 1.96\n",
        "\n",
        " 50± 1.96 *5 (30^-2)= 50± 1.79\n",
        "50±1.96⋅\n",
        "\n",
        "\n",
        "So, the 95% confidence interval is (48.21, 51.79).\n",
        "\n"
      ],
      "metadata": {
        "id": "hu4O7Qlocgk9"
      }
    },
    {
      "cell_type": "code",
      "source": [
        "import numpy as np\n",
        "from scipy.stats import norm\n",
        "\n",
        "# Given data\n",
        "mean = 50\n",
        "std_dev = 5\n",
        "n = 30\n",
        "confidence_level = 0.95\n",
        "\n",
        "# Calculate the Z score for the given confidence level\n",
        "z_score = norm.ppf(1 - (1 - confidence_level) / 2)\n",
        "\n",
        "# Calculate the margin of error\n",
        "margin_of_error = z_score * (std_dev / np.sqrt(n))\n",
        "\n",
        "# Calculate the confidence interval\n",
        "confidence_interval = (mean - margin_of_error, mean + margin_of_error)\n",
        "\n",
        "print(f\"The {confidence_level*100}% confidence interval is: {confidence_interval}\")\n"
      ],
      "metadata": {
        "id": "PqMaFgh1fJ5G",
        "colab": {
          "base_uri": "https://localhost:8080/"
        },
        "outputId": "1c9fbcd5-0062-4d23-ae4b-34c21bf10117"
      },
      "execution_count": 1,
      "outputs": [
        {
          "output_type": "stream",
          "name": "stdout",
          "text": [
            "The 95.0% confidence interval is: (48.210805856282846, 51.789194143717154)\n"
          ]
        }
      ]
    },
    {
      "cell_type": "markdown",
      "source": [
        "### Q6: Use Bayes' Theorem to calculate the probability of an event occurring given prior knowledge of the event's probability and new evidence. Provide a sample problem and solution.\n",
        "Problem:\n",
        "\n",
        "Probability of having a certain condition (A) is 1%.\n",
        "Probability of a positive test result (B) given the condition is 90%.\n",
        "Probability of a positive test result overall is 10%.\n",
        "Solution:\n",
        "P(A∣B)= (P(B∣A)*P(A)​)/P(B)\n",
        "\n",
        "P(A∣B) =(0.9*0.01)/0.1= 0.09\n",
        "\n",
        "So, there's a 9% chance of having the condition given a positive test result.\n"
      ],
      "metadata": {
        "id": "wMQyHt3UD602"
      }
    },
    {
      "cell_type": "code",
      "source": [
        "# Bayes's theorem sample problem\n",
        "\n",
        "# Given values\n",
        "P_A = 0.01  # Probability of having the disease\n",
        "P_B_given_A = 0.90  # Probability of testing positive given having the disease\n",
        "P_B = 0.10  # Probability of testing positive\n",
        "\n",
        "# Applying Bayes's theorem\n",
        "P_A_given_B = (P_B_given_A * P_A) / P_B\n",
        "\n",
        "print(f\"The probability of having the disease given a positive test result is: {P_A_given_B:.4f}\")\n"
      ],
      "metadata": {
        "colab": {
          "base_uri": "https://localhost:8080/"
        },
        "id": "6U3Ow1UeDYij",
        "outputId": "276b7f94-1c72-418c-a9bb-a2bfe3674c3d"
      },
      "execution_count": 2,
      "outputs": [
        {
          "output_type": "stream",
          "name": "stdout",
          "text": [
            "The probability of having the disease given a positive test result is: 0.0900\n"
          ]
        }
      ]
    },
    {
      "cell_type": "markdown",
      "source": [
        "### Q7: Calculate the 95% confidence interval for a sample of data with a mean of 50 and a standard deviation of 5. Interpret the results.\n",
        "\n",
        "Given:\n",
        "- Mean (xˉ) = 50\n",
        "- Standard deviation (s) = 5\n",
        "- Sample size (n) = 30\n",
        "- Confidence level = 95%\n",
        "\n",
        "CI=50±1.79\n",
        "\n",
        "Interpretation: We are 95% confident that the true population mean lies between 48.21 and 51.79.\n",
        "\n"
      ],
      "metadata": {
        "id": "Q7iv045pEIh0"
      }
    },
    {
      "cell_type": "code",
      "source": [
        "import numpy as np\n",
        "from scipy.stats import norm\n",
        "\n",
        "# Given data\n",
        "mean = 50\n",
        "std_dev = 5\n",
        "n = 30\n",
        "confidence_level = 0.95\n",
        "\n",
        "# Calculate the Z score for the given confidence level\n",
        "z_score = norm.ppf(1 - (1 - confidence_level) / 2)\n",
        "\n",
        "# Calculate the margin of error\n",
        "margin_of_error = z_score * (std_dev / np.sqrt(n))\n",
        "\n",
        "# Calculate the confidence interval\n",
        "confidence_interval = (mean - margin_of_error, mean + margin_of_error)\n",
        "\n",
        "print(f\"The {confidence_level*100}% confidence interval is: {confidence_interval}\")\n"
      ],
      "metadata": {
        "colab": {
          "base_uri": "https://localhost:8080/"
        },
        "id": "amLG-8p6Dc57",
        "outputId": "5a1271c5-499c-4400-f6af-295630533568"
      },
      "execution_count": 3,
      "outputs": [
        {
          "output_type": "stream",
          "name": "stdout",
          "text": [
            "The 95.0% confidence interval is: (48.210805856282846, 51.789194143717154)\n"
          ]
        }
      ]
    },
    {
      "cell_type": "markdown",
      "source": [
        "### Q8: What is the margin of error in a confidence interval? How does sample size affect the margin of error? Provide an example of a scenario where a larger sample size would result in a smaller margin of error.\n",
        "\n",
        "#### Margin of error:\n",
        "- The range of values below and above the sample statistic in a confidence interval.\n",
        "\n",
        "####Effect of sample size:\n",
        " - Larger sample sizes result in a smaller margin of error."
      ],
      "metadata": {
        "id": "MjrUlSk1ETY-"
      }
    },
    {
      "cell_type": "code",
      "source": [
        "import numpy as np\n",
        "from scipy.stats import norm\n",
        "\n",
        "# Given data for small sample\n",
        "mean = 50\n",
        "std_dev = 5\n",
        "n_small = 30\n",
        "confidence_level = 0.95\n",
        "\n",
        "# Calculate the Z score for the given confidence level\n",
        "z_score = norm.ppf(1 - (1 - confidence_level) / 2)\n",
        "\n",
        "# Calculate the margin of error for small sample\n",
        "margin_of_error_small = z_score * (std_dev / np.sqrt(n_small))\n",
        "\n",
        "# Given data for large sample\n",
        "n_large = 100\n",
        "\n",
        "# Calculate the margin of error for large sample\n",
        "margin_of_error_large = z_score * (std_dev / np.sqrt(n_large))\n",
        "\n",
        "print(f\"The margin of error for a small sample (n={n_small}): {margin_of_error_small:.4f}\")\n",
        "print(f\"The margin of error for a large sample (n={n_large}): {margin_of_error_large:.4f}\")\n"
      ],
      "metadata": {
        "colab": {
          "base_uri": "https://localhost:8080/"
        },
        "id": "CM3k7ldAEQIa",
        "outputId": "8c2518d9-4c66-4647-9332-f08a8280bd34"
      },
      "execution_count": 4,
      "outputs": [
        {
          "output_type": "stream",
          "name": "stdout",
          "text": [
            "The margin of error for a small sample (n=30): 1.7892\n",
            "The margin of error for a large sample (n=100): 0.9800\n"
          ]
        }
      ]
    },
    {
      "cell_type": "markdown",
      "source": [
        "### Q9: Calculate the z-score for a data point with a value of 75, a population mean of 70, and a population standard deviation of 5. Interpret the results."
      ],
      "metadata": {
        "id": "_33_LufjE1I3"
      }
    },
    {
      "cell_type": "code",
      "source": [
        "# Given data\n",
        "value = 75\n",
        "mean = 70\n",
        "std_dev = 5\n",
        "\n",
        "# calculate the z-score\n",
        "z_score = (value - mean) / std_dev\n",
        "print(f\"The z-score for the data point is {z_score:.2f}\")"
      ],
      "metadata": {
        "colab": {
          "base_uri": "https://localhost:8080/"
        },
        "id": "LPzycO7YE3EH",
        "outputId": "5e92a81b-7e07-483e-f758-4558c184c0de"
      },
      "execution_count": 7,
      "outputs": [
        {
          "output_type": "stream",
          "name": "stdout",
          "text": [
            "The z-score for the data point is 1.00\n"
          ]
        }
      ]
    },
    {
      "cell_type": "markdown",
      "source": [
        "### Q10: In a study of the effectiveness of a new weight loss drug, a sample of 50 participants lost an average of 6 pounds with a standard deviation of 2.5 pounds. Conduct a hypothesis test to determine if the drug is significantly effective at a 95% confidence level using a t-test."
      ],
      "metadata": {
        "id": "I3NaSnalE6Li"
      }
    },
    {
      "cell_type": "code",
      "source": [
        "from scipy import stats\n",
        "\n",
        "# Given data\n",
        "sample_mean = 6\n",
        "sample_std_dev = 2.5\n",
        "n = 50\n",
        "population_mean = 0  # Null hypothesis: no weight loss\n",
        "\n",
        "# Calculate the t-score\n",
        "t_score = (sample_mean - population_mean) / (sample_std_dev / np.sqrt(n))\n",
        "\n",
        "# Calculate the p-value\n",
        "p_value = stats.t.sf(np.abs(t_score), df=n-1) * 2  # two-tailed test\n",
        "\n",
        "print(f\"t-score: {t_score:.2f}\")\n",
        "print(f\"p-value: {p_value:.4f}\")\n",
        "\n",
        "# Conclusion\n",
        "alpha = 0.05\n",
        "if p_value < alpha:\n",
        "    print(\"Reject the null hypothesis: The drug is significantly effective.\")\n",
        "else:\n",
        "    print(\"Fail to reject the null hypothesis: The drug is not significantly effective.\")\n"
      ],
      "metadata": {
        "colab": {
          "base_uri": "https://localhost:8080/"
        },
        "id": "stl96javE7-8",
        "outputId": "7786c033-a294-4cd6-ab78-735149980c46"
      },
      "execution_count": 8,
      "outputs": [
        {
          "output_type": "stream",
          "name": "stdout",
          "text": [
            "t-score: 16.97\n",
            "p-value: 0.0000\n",
            "Reject the null hypothesis: The drug is significantly effective.\n"
          ]
        }
      ]
    },
    {
      "cell_type": "code",
      "source": [],
      "metadata": {
        "id": "QKFrdkAmGLoj"
      },
      "execution_count": null,
      "outputs": []
    }
  ]
}