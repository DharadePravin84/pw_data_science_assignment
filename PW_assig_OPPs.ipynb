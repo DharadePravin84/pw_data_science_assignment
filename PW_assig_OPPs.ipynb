{
  "nbformat": 4,
  "nbformat_minor": 0,
  "metadata": {
    "colab": {
      "provenance": []
    },
    "kernelspec": {
      "name": "python3",
      "display_name": "Python 3"
    },
    "language_info": {
      "name": "python"
    }
  },
  "cells": [
    {
      "cell_type": "code",
      "execution_count": null,
      "metadata": {
        "id": "6elHWs14bNTf"
      },
      "outputs": [],
      "source": [
        "## OPPs Task"
      ]
    },
    {
      "cell_type": "markdown",
      "source": [
        "Q1, Create a vehicle class with an init method having instance variables as name_of_vehicle, max_speed\n",
        "and average_of_vehicle."
      ],
      "metadata": {
        "id": "6pB0Nmi9blTy"
      }
    },
    {
      "cell_type": "code",
      "source": [
        "class Vehicle:\n",
        "  def __init__(self, name_of_vehicle, max_speed, average_of_vehicle):\n",
        "    self.name_of_vehicle = name_of_vehicle\n",
        "    self.max_speed = max_speed\n",
        "    self.average_of_vehicle = average_of_vehicle"
      ],
      "metadata": {
        "id": "JLl5xtnEbo4o"
      },
      "execution_count": 1,
      "outputs": []
    },
    {
      "cell_type": "markdown",
      "source": [
        "Q2. Create a child class car from the vehicle class created in Que 1, which will inherit the vehicle class.\n",
        "Create a method named seating_capacity which takes capacity as an argument and returns the name of\n",
        "the vehicle and its seating capacity.\n"
      ],
      "metadata": {
        "id": "VGvsGjuBbssp"
      }
    },
    {
      "cell_type": "code",
      "source": [
        "class Car(Vehicle):\n",
        "  def __init__(self, name_of_vehicle, max_speed,average_of_vehicle):\n",
        "    super().__init__(name_of_vehicle, max_speed, average_of_vehicle)\n",
        "\n",
        "  def seating_capacity(self, capacity):\n",
        "    return f\"The {self.name_of_vehicle} has a seating capacity of {capacity} passengers.\""
      ],
      "metadata": {
        "id": "UbY93yTibwTP"
      },
      "execution_count": 2,
      "outputs": []
    },
    {
      "cell_type": "markdown",
      "source": [
        "Q3. What is multiple inheritance? Write a python code to demonstrate multiple inheritance.\n"
      ],
      "metadata": {
        "id": "ch_x2q63bxAq"
      }
    },
    {
      "cell_type": "code",
      "source": [
        "class Parent1:\n",
        "  def method1(self):\n",
        "    print(\"Method from Parent1\")\n",
        "\n",
        "class Parent2:\n",
        "  def method2(self):\n",
        "    print(\"Method from Parent2\")\n",
        "\n",
        "class Child(Parent1, Parent2):\n",
        "  pass\n",
        "\n",
        "obj = Child()\n",
        "obj.method1()\n",
        "obj.method2()"
      ],
      "metadata": {
        "colab": {
          "base_uri": "https://localhost:8080/"
        },
        "id": "c3ZOQP4_bz_u",
        "outputId": "296479a3-a074-4084-f174-0eb3051e8894"
      },
      "execution_count": 4,
      "outputs": [
        {
          "output_type": "stream",
          "name": "stdout",
          "text": [
            "Method from Parent1\n",
            "Method from Parent2\n"
          ]
        }
      ]
    },
    {
      "cell_type": "markdown",
      "source": [
        "Q4. What are getter and setter in python? Create a class and create a getter and a setter method in this\n",
        "class.\n",
        "\n",
        "Ans:\n",
        "\n",
        "Getter and setter methods are used to access and modify prive instance variables of a class, respectively. Here's a class with getter and setter methods:"
      ],
      "metadata": {
        "id": "sM4VHfs5b04W"
      }
    },
    {
      "cell_type": "code",
      "source": [
        "class MyClass:\n",
        "    def __init__(self):\n",
        "        self._my_variable = None\n",
        "\n",
        "    def get_my_variable(self):\n",
        "        return self._my_variable\n",
        "\n",
        "    def set_my_variable(self, value):\n",
        "        self._my_variable = value\n",
        "\n",
        "obj = MyClass()\n",
        "obj.set_my_variable(10)\n",
        "print(obj.get_my_variable())\n"
      ],
      "metadata": {
        "colab": {
          "base_uri": "https://localhost:8080/"
        },
        "id": "G66NIlZTb4Uk",
        "outputId": "a4934942-b40b-4cba-fd8d-89f583939d8a"
      },
      "execution_count": 8,
      "outputs": [
        {
          "output_type": "stream",
          "name": "stdout",
          "text": [
            "10\n"
          ]
        }
      ]
    },
    {
      "cell_type": "markdown",
      "source": [
        "Q5.What is method overriding in python? Write a python code to demonstrate method overriding."
      ],
      "metadata": {
        "id": "ntijOkxyb491"
      }
    },
    {
      "cell_type": "code",
      "source": [
        "class Parent:\n",
        "    def method(self):\n",
        "        print(\"Parent's method\")\n",
        "\n",
        "class Child(Parent):\n",
        "    def method(self):\n",
        "        print(\"Child's method\")\n",
        "\n",
        "obj = Child()\n",
        "obj.method()\n"
      ],
      "metadata": {
        "colab": {
          "base_uri": "https://localhost:8080/"
        },
        "id": "WrAe-dXob6Bi",
        "outputId": "c56ba510-0633-458e-a9ba-2b0dbccc0359"
      },
      "execution_count": 10,
      "outputs": [
        {
          "output_type": "stream",
          "name": "stdout",
          "text": [
            "Child's method\n"
          ]
        }
      ]
    },
    {
      "cell_type": "code",
      "source": [],
      "metadata": {
        "id": "HeH0WOS7ggZL"
      },
      "execution_count": null,
      "outputs": []
    }
  ]
}