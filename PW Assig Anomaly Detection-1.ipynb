{
 "cells": [
  {
   "cell_type": "markdown",
   "id": "104c0cfe-778c-4aa8-bbd3-55b13d0363ae",
   "metadata": {},
   "source": [
    "#### Q1. What is anomaly detection and what is its purpose?\n",
    "Ans:\n",
    "\n",
    "Anomaly detection is a technique used to identify patterns or instances in data that deviate significantly from the norm or expected behavior. Its purpose is to detect rare events, outliers, or anomalies that may indicate potential issues, errors, or interesting phenomena in the dataset.\n",
    "\n",
    "#### Q2. What are the key challenges in anomaly detection?\n",
    "Ans: \n",
    "  Some key challenges in anomaly detection include:\n",
    "\n",
    "- Defining what constitutes normal behavior in the data.\n",
    "- Dealing with imbalanced datasets where anomalies are rare compared to normal instances.\n",
    "- Handling high-dimensional data effectively.\n",
    "- Ensuring robustness to noise and outliers.\n",
    "- Balancing between false positives and false negatives.\n",
    "- Scaling algorithms to handle large volumes of data efficiently.\n",
    "\n",
    "#### Q3. How does unsupervised anomaly detection differ from supervised anomaly detection?\n",
    "Ans: \n",
    "  Unsupervised anomaly detection involves identifying anomalies in a dataset without labeled examples of anomalies. It focuses on identifying patterns that deviate significantly from the majority of the data. In contrast, supervised anomaly detection requires labeled examples of anomalies for training, where the algorithm learns to distinguish between normal and anomalous instances based on the provided labels.\n",
    "\n",
    "#### Q4. What are the main categories of anomaly detection algorithms?\n",
    "Ans: \n",
    "  The main categories of anomaly detection algorithms include:\n",
    "- Statistical methods: Based on probability distributions and statistical measures.\n",
    "- Machine learning methods: Utilizing techniques such as clustering, classification, and regression.\n",
    "- Distance-based methods: Calculating distances between data points to identify outliers.\n",
    "- Density-based methods: Identifying anomalies as regions of low data density.\n",
    "- Ensemble methods: Combining multiple anomaly detection algorithms for improved performance.\n",
    "\n",
    "#### Q5. What are the main assumptions made by distance-based anomaly detection methods?\n",
    "Ans:\n",
    "  Distance-based anomaly detection methods assume that anomalies are points that are far from their nearest neighbors in the feature space. They often rely on the notion that anomalies exhibit significantly different patterns or characteristics compared to normal instances, leading to larger distances between anomalies and their neighbors.\n",
    "\n",
    "Q6. How does the LOF algorithm compute anomaly scores?\n",
    "\n",
    "The LOF (Local Outlier Factor) algorithm computes anomaly scores by comparing the local density of a data point to the densities of its neighbors. It calculates the ratio of the local density of the data point to the average local density of its k nearest neighbors, where a score significantly higher than 1 indicates an outlier.\n",
    "\n",
    "Q7. What are the key parameters of the Isolation Forest algorithm?\n",
    "\n",
    "The key parameters of the Isolation Forest algorithm include:\n",
    "\n",
    "Number of trees: The number of decision trees built in the forest.\n",
    "Maximum tree depth: The maximum depth allowed for each decision tree.\n",
    "Subsample size: The number of data points sampled to build each tree.\n",
    "Contamination: The expected proportion of anomalies in the dataset.\n",
    "Q8. If a data point has only 2 neighbors of the same class within a radius of 0.5, what is its anomaly score using KNN with K=10?\n",
    "\n",
    "The anomaly score using KNN (K-Nearest Neighbors) with K=10 would be high because the data point has only a few neighbors within a small radius. Since it has fewer neighbors than expected, it suggests that the data point is an outlier or anomaly in the dataset.\n",
    "\n",
    "Q9. Using the Isolation Forest algorithm with 100 trees and a dataset of 3000 data points, what is the anomaly score for a data point that has an average path length of 5.0 compared to the average path length of the trees?\n",
    "\n",
    "The anomaly score for a data point in the Isolation Forest algorithm is inversely proportional to its average path length. Therefore, a data point with an average path length of 5.0 would have a lower anomaly score compared to the average path length of the trees, indicating that it is less likely to be an anomaly."
   ]
  }
 ],
 "metadata": {
  "kernelspec": {
   "display_name": "Python 3 (ipykernel)",
   "language": "python",
   "name": "python3"
  },
  "language_info": {
   "codemirror_mode": {
    "name": "ipython",
    "version": 3
   },
   "file_extension": ".py",
   "mimetype": "text/x-python",
   "name": "python",
   "nbconvert_exporter": "python",
   "pygments_lexer": "ipython3",
   "version": "3.10.8"
  }
 },
 "nbformat": 4,
 "nbformat_minor": 5
}
