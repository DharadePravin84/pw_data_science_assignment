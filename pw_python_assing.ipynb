{
 "cells": [
  {
   "cell_type": "markdown",
   "id": "14beda2d-3198-4c86-a110-7c99009e3f13",
   "metadata": {},
   "source": [
    "# 1. Who developed python programing language?\n",
    "# Ans: Python was developed by Guido van Rossum."
   ]
  },
  {
   "cell_type": "markdown",
   "id": "e4fa38cf-9a0f-42bb-a442-0c0241991fcf",
   "metadata": {},
   "source": [
    "# 2.Which type of programing does python support?\n",
    "# Ans:\n",
    "         \n",
    "Python is a versatile language that can be used for many things like writing step-by-step instructions (imperative), organizing code into functions (procedural), \n",
    "creating objects (object-oriented), using functions as data (functional), automating tasks (scripting), web development, games, AI/ML, and scientific work. \n",
    "Python's flexibility is one of its strengths.\n",
    "\n"
   ]
  },
  {
   "cell_type": "markdown",
   "id": "76d12a35-8a99-4e02-8546-9cd4af0a0589",
   "metadata": {},
   "source": [
    "# 3.Is python case sensitive when dealing with identifiers?\n",
    "# Ans:\n",
    "Python is case-sensitive when dealing with identifiers. This means that Python considers uppercase and lowercase letters as distinct and separate.\n",
    "Identifiers such as variable names, function names, class names, and module names must be used with the correct capitalization to work correctly.\n",
    "For example, myVariable and myvariable would be treated as different identifiers in Python. \n",
    "It's essential to be consistent with letter casing when working with Python to avoid errors and naming conflicts.\n"
   ]
  },
  {
   "cell_type": "markdown",
   "id": "cf8fbbdd-8f96-4a94-818d-0cc006350d7e",
   "metadata": {},
   "source": [
    "# 4.What is the correct extension of the python file?\n",
    "# Ans:\n",
    "\n",
    "The correct file extension for Python source code files is \".py\". When you write Python code, you typically save it with the \".py\" extension. \n",
    "For example, \"my_program.py\" is a common filename for a Python script.\n",
    "This extension indicates to the Python interpreter that the file contains Python code and can be executed or imported as a module.\n"
   ]
  },
  {
   "cell_type": "markdown",
   "id": "7f7b3d37-72a3-4cb5-bb1f-f4ea0d0016c4",
   "metadata": {},
   "source": [
    "# 5.Is python code compiled or interpreted?\n",
    "# Ans:\n",
    "\n",
    "Python is an interpreted language. It compiles code into bytecode and runs it using the Python Virtual Machine (PVM), but it's not compiled into machine code like C or C++.\n",
    "It's in between pure compilation and pure interpretation.\n"
   ]
  },
  {
   "cell_type": "markdown",
   "id": "2c513f82-6ee1-4c8f-a637-4345f10a4f04",
   "metadata": {},
   "source": [
    "# 6.Name a few blocks of code used to define in python language?\n",
    "# Ans:\n",
    "\n",
    "In Python, code blocks are defined using indentation, and there are several types of code blocks:\n",
    "\n",
    "Function Block: Used to define functions.\n",
    "\n",
    "Conditional Block: Used in if, else, and elif statements.\n",
    "\n",
    "Loop Block: Used in for and while loops.\n",
    "\n",
    "Class Block: Used to define classes and their methods.\n",
    "\n",
    "Module Block: The top-level code in a Python module.\n"
   ]
  },
  {
   "cell_type": "markdown",
   "id": "93bc408e-1b9a-44a2-ae6b-7183f24000ee",
   "metadata": {},
   "source": [
    "# 7.State a character used to give single-line comments in python?\n",
    "# Ans:\n",
    "In Python, the character used to give single-line comments is the hash symbol (#). Anything following a hash symbol on a line is treated as a comment and is ignored by the Python interpreter.\n"
   ]
  },
  {
   "cell_type": "markdown",
   "id": "c56cea93-74cd-48ab-b60d-035c2cb3bfd6",
   "metadata": {},
   "source": [
    "# 8.Mention functions which can help us to find version of python that we are currently working on?\n",
    "# Ans:\n",
    "\n",
    "To find the version of Python you are currently working with, you can use the following functions and methods:\n",
    "\n",
    "1.sys.version in the sys module.\n",
    "\n",
    "2.platform.python_version() in the platform module.\n",
    "\n",
    "3.The command line with python --version.\n",
    "\n",
    "\n",
    "\n",
    "\n",
    "\n"
   ]
  },
  {
   "cell_type": "markdown",
   "id": "ee9704ab-1405-4977-b2f8-65cc44510bf0",
   "metadata": {},
   "source": [
    "# 9.Python supports the creation of anonymous functions at runtime,using a construct called _ _ _ _\n",
    "# Ans: Python supports the creation of anonymous functions at runtime using a construct called \"lambda.\""
   ]
  },
  {
   "cell_type": "markdown",
   "id": "3224ba47-ae2e-41f9-8a54-a23ce7dbba27",
   "metadata": {},
   "source": [
    "# 10.What does pip stand for python?\n",
    "# Ans: PIP in Python stands for \"Pip Installs Packages.\" It is a package manager used to install and manage Python libraries and packages from the Python Package Index (PyPI) and other sources. PIP makes it easy to install, update, and remove Python packages and their dependencies."
   ]
  },
  {
   "cell_type": "markdown",
   "id": "5f65c6a8-839f-4287-8ab8-3b054198a8d3",
   "metadata": {},
   "source": [
    "# 11.Mention a few built-in functions in python?\n",
    "# Ans:\n",
    "Python provides a variety of built-in functions for common tasks. Here are a few of them:\n",
    "\n",
    "'print()': Used to display output.\n",
    "'len()': Returns the length of a sequence (e.g., string, list, or tuple).\n",
    "'type()': Returns the type of an object.\n",
    "'input()': Reads input from the user.\n",
    "'int()': Converts a value to an integer.\n",
    "'float()': Converts a value to a floating-point number.\n",
    "'str()': Converts a value to a string.\n",
    "'list()': Creates a list from an iterable.\n",
    "'tuple()': Creates a tuple from an iterable.\n",
    "'dict()': Creates a dictionary.\n",
    "'range()': Generates a range of numbers.\n",
    "'sum()': Returns the sum of a sequence of numbers.\n",
    "'max()': Returns the largest item in a sequence.\n",
    "'min()': Returns the smallest item in a sequence.\n",
    "'abs()': Returns the absolute value of a number.\n",
    "'round()': Rounds a floating-point number to a specified number of decimal places.\n",
    "\n",
    "These built-in functions are available without the need for additional imports and are commonly used in Python programming"
   ]
  },
  {
   "cell_type": "markdown",
   "id": "b5e0f613-e5b2-433b-bf25-664eb2f00850",
   "metadata": {},
   "source": [
    "# 12.What is the maximum possible length of an identifier in python?\n",
    "# Ans: The maximum possible length of an identifier in the Python language is 79 characters. Moreover, the PEP-8 prevents you from breaking the limit of 79 characters while creating identifiers"
   ]
  },
  {
   "cell_type": "markdown",
   "id": "e87a8de6-0a23-44d0-9aa3-5e09c10086a4",
   "metadata": {},
   "source": [
    "# 13.What are the benefits of using python?\n",
    "# Ans:\n",
    "Python offers several benefits, making it a popular and versatile programming language:\n",
    "\n",
    "1. Readable code.\n",
    "2. Extensive standard library.\n",
    "3. Cross-platform.\n",
    "4. Strong community.\n",
    "5. Versatile applications.\n",
    "6. Developer productivity.\n",
    "7. Open source.\n",
    "8. High-level language.\n",
    "9. Dynamic typing.\n",
    "10. Beginner-friendly.\n",
    "11. Scalability."
   ]
  },
  {
   "cell_type": "markdown",
   "id": "8700c08b-a89c-431a-b38e-23431ff20510",
   "metadata": {},
   "source": [
    "# 14.How is memory managed in python?\n",
    "# Ans: Python manages memory through reference counting, garbage collection, and automatic memory allocation in a private heap. This approach simplifies memory management for developers."
   ]
  },
  {
   "cell_type": "markdown",
   "id": "5c413300-6086-48f2-9fcb-91a42ec36901",
   "metadata": {},
   "source": [
    "# 15.How to install python on windows and set path variables?\n",
    "# Ans:\n",
    "To install Python on Windows and set PATH variables:\n",
    "\n",
    "1. Download Python from the official website.\n",
    "2. Run the installer and customize if needed.\n",
    "3. Add Python to the system PATH during installation or manually.\n",
    "4. Verify the installation by running \"python\" in the command prompt."
   ]
  },
  {
   "cell_type": "markdown",
   "id": "ca5ea054-7d29-43fb-a548-654c5f55d140",
   "metadata": {},
   "source": [
    "# 16.Is identation required in python?\n",
    "# Ans: Indentation is a very important concept of Python because without properly indenting the Python code, you will end up seeing IndentationError and the code will not get compiled."
   ]
  },
  {
   "cell_type": "code",
   "execution_count": null,
   "id": "1e993b98-698f-481e-8a64-6e6c83d85a3b",
   "metadata": {},
   "outputs": [],
   "source": []
  }
 ],
 "metadata": {
  "kernelspec": {
   "display_name": "Python 3 (ipykernel)",
   "language": "python",
   "name": "python3"
  },
  "language_info": {
   "codemirror_mode": {
    "name": "ipython",
    "version": 3
   },
   "file_extension": ".py",
   "mimetype": "text/x-python",
   "name": "python",
   "nbconvert_exporter": "python",
   "pygments_lexer": "ipython3",
   "version": "3.10.8"
  }
 },
 "nbformat": 4,
 "nbformat_minor": 5
}
