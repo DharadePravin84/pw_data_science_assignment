{
 "cells": [
  {
   "cell_type": "markdown",
   "id": "3c70831b-3ec0-47b5-96aa-b05de6324a4d",
   "metadata": {},
   "source": [
    "#### Q1. You are writing code for a company. The requirement of the company is that you create a python function that will check whether the password entered by the user is correct or not. The function should take the password as input and return the string “Valid Password” if the entered password follows the below-given password guidelines else it should return “Invalid Password”.\n",
    "Note: 1. The Password should contain at least two uppercase letters and at least two lowercase letters.\n",
    "2. The Password should contain at least a number and three special characters.\n",
    "3. The length of the password should be 10 characters long."
   ]
  },
  {
   "cell_type": "code",
   "execution_count": 1,
   "id": "68c933f5-033a-41e3-9415-ae3d95a36d22",
   "metadata": {},
   "outputs": [
    {
     "name": "stdin",
     "output_type": "stream",
     "text": [
      "Enter the password:  PrAVIN84@\n"
     ]
    },
    {
     "name": "stdout",
     "output_type": "stream",
     "text": [
      "Invalid Password\n"
     ]
    }
   ],
   "source": [
    "import re\n",
    "\n",
    "def check_password(password):\n",
    "    # Rule 1: Check for at least two uppercase and two lowercase letters\n",
    "    if len(re.findall(r'[A-Z]', password)) < 2 or len(re.findall(r'[a-z]', password)) < 2:\n",
    "        return \"Invalid Password\"\n",
    "    \n",
    "    # Rule 2: Check for at least one number and three special characters\n",
    "    if len(re.findall(r'\\d', password)) < 1 or len(re.findall(r'[!@#$%^&*()-_+=]', password)) < 3:\n",
    "        return \"Invalid Password\"\n",
    "    \n",
    "    # Rule 3: Check length of the password\n",
    "    if len(password) != 10:\n",
    "        return \"Invalid Password\"\n",
    "    \n",
    "    # If all rules are satisfied, return \"Valid Password\"\n",
    "    return \"Valid Password\"\n",
    "\n",
    "# Test the function\n",
    "password = input(\"Enter the password: \")\n",
    "print(check_password(password))\n"
   ]
  },
  {
   "cell_type": "code",
   "execution_count": null,
   "id": "e3dc14af-c54f-4acd-a586-1673c7be52ea",
   "metadata": {},
   "outputs": [],
   "source": []
  }
 ],
 "metadata": {
  "kernelspec": {
   "display_name": "Python 3 (ipykernel)",
   "language": "python",
   "name": "python3"
  },
  "language_info": {
   "codemirror_mode": {
    "name": "ipython",
    "version": 3
   },
   "file_extension": ".py",
   "mimetype": "text/x-python",
   "name": "python",
   "nbconvert_exporter": "python",
   "pygments_lexer": "ipython3",
   "version": "3.10.8"
  }
 },
 "nbformat": 4,
 "nbformat_minor": 5
}
