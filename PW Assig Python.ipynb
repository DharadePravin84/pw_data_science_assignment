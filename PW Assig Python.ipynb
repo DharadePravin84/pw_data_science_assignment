{
 "cells": [
  {
   "cell_type": "markdown",
   "id": "09cd88dc-014c-41f9-ba16-40df299c7884",
   "metadata": {},
   "source": [
    "#### Q1  Write a program to accept percentage from the user and display the grade according to the following criteria :\n",
    "marks and grade : >90 - A , >80 and <=90 -B , >=60 and <=80 - C ,below 60 -D respectively. "
   ]
  },
  {
   "cell_type": "code",
   "execution_count": 1,
   "id": "fceadf06-4e09-4d01-bbfe-23b0f92af3a1",
   "metadata": {},
   "outputs": [
    {
     "name": "stdin",
     "output_type": "stream",
     "text": [
      "Enter the percentage:  90\n"
     ]
    },
    {
     "name": "stdout",
     "output_type": "stream",
     "text": [
      "Grade : B\n"
     ]
    }
   ],
   "source": [
    "def calculate_grade(percentage):\n",
    "    if percentage > 90:\n",
    "        return \"A\"\n",
    "    elif percentage >80:\n",
    "        return \"B\"\n",
    "    elif percentage >=60:\n",
    "        return \"C\"\n",
    "    else:\n",
    "        return \"D\"\n",
    "    \n",
    "def main():\n",
    "    percentage = float(input(\"Enter the percentage: \"))\n",
    "    grade = calculate_grade(percentage)\n",
    "    print(\"Grade :\",grade)\n",
    "    \n",
    "if __name__ == \"__main__\":\n",
    "    main()\n",
    "    "
   ]
  },
  {
   "cell_type": "markdown",
   "id": "4d8b2fb4-140f-44a2-afba-55d2831d0c69",
   "metadata": {},
   "source": [
    "#### Q2 Write a program to accept the cost of bike and display the road tax to be paid according to the following criteria:\n",
    "Tax and Cost price(inRS) :\n",
    "15% : >100000,\n",
    "10%:>50000 and <=100000,\n",
    "5%: <=50000 Respectively"
   ]
  },
  {
   "cell_type": "code",
   "execution_count": 2,
   "id": "ec658861-2307-4680-a469-5d613fd820a5",
   "metadata": {},
   "outputs": [
    {
     "name": "stdin",
     "output_type": "stream",
     "text": [
      "Enter the cost of the bike (in RS):  150000\n"
     ]
    },
    {
     "name": "stdout",
     "output_type": "stream",
     "text": [
      "Road tax to be paid: RS 22500.0\n"
     ]
    }
   ],
   "source": [
    "def calculate_road_tax(cost):\n",
    "    if cost > 100000:\n",
    "        return cost * 0.15\n",
    "    elif cost > 50000:\n",
    "        return cost * 0.10\n",
    "    else:\n",
    "        return cost * 0.05\n",
    "\n",
    "def main():\n",
    "    cost = float(input(\"Enter the cost of the bike (in RS): \"))\n",
    "    road_tax = calculate_road_tax(cost)\n",
    "    print(\"Road tax to be paid: RS\", road_tax)\n",
    "\n",
    "if __name__ == \"__main__\":\n",
    "    main()\n"
   ]
  },
  {
   "cell_type": "markdown",
   "id": "22c3c6d8-4652-46be-9730-8b09200f74d2",
   "metadata": {},
   "source": [
    "#### Q3: Accept any city from the user and display monuments of the that city: City and Monument:\n",
    "'Delhi': 'Red Fort',\n",
    "'Agra': 'Taj Mahal',\n",
    "'Jaipur': 'Jal Mahal'"
   ]
  },
  {
   "cell_type": "code",
   "execution_count": 3,
   "id": "ec089dad-56bd-450b-a765-fa83f1eb07d4",
   "metadata": {},
   "outputs": [
    {
     "name": "stdin",
     "output_type": "stream",
     "text": [
      "Enter a city name:  DElhi\n"
     ]
    },
    {
     "name": "stdout",
     "output_type": "stream",
     "text": [
      "Monuments information for DElhi is not avilable.\n"
     ]
    }
   ],
   "source": [
    "def main():\n",
    "    monuments = {\n",
    "        'Delhi': 'Red Fort',\n",
    "        'Agra': 'Taj Mahal',\n",
    "        'Jaipur': 'Jal Mahal'\n",
    "    }\n",
    "    \n",
    "    city = input(\"Enter a city name: \")\n",
    "    monuments = monuments.get(city)\n",
    "    if monuments:\n",
    "        print(f\"The monuments in {city} is {monuments}\")\n",
    "    else:\n",
    "        print(f\"Monuments information for {city} is not avilable.\")\n",
    "              \n",
    "if __name__ == \"__main__\":\n",
    "    main()"
   ]
  },
  {
   "cell_type": "markdown",
   "id": "ac7e76fa-c02d-4fed-90e2-f9decefcd536",
   "metadata": {},
   "source": [
    "#### Q4 Check how many times a given number can be divided by 3 before it is less than or equal to 10."
   ]
  },
  {
   "cell_type": "code",
   "execution_count": null,
   "id": "2f951e47-f788-4e52-9110-5b39a41cafe7",
   "metadata": {},
   "outputs": [],
   "source": []
  },
  {
   "cell_type": "code",
   "execution_count": null,
   "id": "b6855a4b-4434-472f-a1ba-d1fbf0a761f1",
   "metadata": {},
   "outputs": [],
   "source": [
    "def divide_by_3_count(number):\n",
    "    count = 0\n",
    "    while number > 10:\n",
    "        number /= 3\n",
    "        count += 1\n",
    "    return count\n",
    "\n",
    "# Example usage\n",
    "number = int(input(\"Enter a number: \"))\n",
    "result = divide_by_3_count(number)\n",
    "print(f\"The given number can be divided by 3 {result} times before it is less than or equal to 10.\")\n"
   ]
  },
  {
   "cell_type": "markdown",
   "id": "20fcc0e7-a5d5-4f07-b52d-bedab156a6f7",
   "metadata": {},
   "source": [
    "#### Q5 why and when to use while loop in python give a  detailed description with example.\n",
    "Ans:\n",
    "\n",
    "The while loop in Python is used to execute a block of code repeatedly as long as a specified condition is true. It's particularly useful when you want to repeat an action an unknown number of times until a certain condition is met.\n",
    "\n",
    "Here's a detailed description with an example:\n",
    "\n",
    "Why use while loop?\n",
    "Unknown Iteration: When you don't know in advance how many times you need to iterate. For example, when reading user input until a specific condition is met.\n",
    "Dynamic Condition: When the condition to exit the loop depends on some dynamic factors, like user input, changing variables, or external events.\n",
    "Flexible Termination: while loops provide more flexibility in loop termination conditions compared to for loops, allowing you to exit the loop based on any arbitrary condition.\n",
    "\n",
    "Example:\n",
    "Let's consider a scenario where you want to simulate a simple game where the player guesses a number between 1 and 100. The game continues until the player correctly guesses the secret number."
   ]
  },
  {
   "cell_type": "code",
   "execution_count": null,
   "id": "2cfa3c5f-9d8c-415e-ad96-cf7681b84cf9",
   "metadata": {},
   "outputs": [],
   "source": [
    "# import random\n",
    "\n",
    "# def guess_number_game():\n",
    "#     secret_number = random.randint(1, 100)\n",
    "#     guessed = False\n",
    "    \n",
    "#     print(\"Welcome to the Guess the Number game!\")\n",
    "#     while not guessed:\n",
    "#         guess = int(input(\"Enter your guess (between 1 and 100): \"))\n",
    "#         if guess == secret_number:\n",
    "#             print(\"Congratulations! You guessed the secret number!\")\n",
    "#             guessed = True\n",
    "#         elif guess < secret_number:\n",
    "#             print(\"Try again! The secret number is higher.\")\n",
    "#         else:\n",
    "#             print(\"Try again! The secret number is lower.\")\n",
    "\n",
    "# # Run the game\n",
    "# guess_number_game()"
   ]
  },
  {
   "cell_type": "markdown",
   "id": "23a675c5-2e3d-4422-b8bc-4a02bc7f5ace",
   "metadata": {},
   "source": [
    "#### Q6 use nested while loop to print 3 different pattern.\n",
    "Ans:\n",
    "\n",
    "Here are three different patterns achieved using nested while loops:\n",
    "\n",
    "Pattern 1: Square Pattern"
   ]
  },
  {
   "cell_type": "code",
   "execution_count": null,
   "id": "0491f99c-3120-4b14-9b58-037fe27814f0",
   "metadata": {},
   "outputs": [],
   "source": [
    "def square_pattern(side_length):\n",
    "    row = 0\n",
    "    while row < side_length:\n",
    "        col = 0\n",
    "        while col < side_length:\n",
    "            print(\"*\", end=\" \")\n",
    "            col += 1\n",
    "        print()\n",
    "        row += 1\n",
    "\n",
    "# Example usage\n",
    "side_length = int(input(\"Enter the side length of the square: \"))\n",
    "square_pattern(side_length)\n"
   ]
  },
  {
   "cell_type": "markdown",
   "id": "fce0c885-ac31-47e5-9ca6-7e3e67d322f6",
   "metadata": {},
   "source": [
    "Pattern 2: Right Triangle Pattern"
   ]
  },
  {
   "cell_type": "code",
   "execution_count": null,
   "id": "202b7c01-7f1f-4da1-8dc4-6d1c15e54c14",
   "metadata": {},
   "outputs": [],
   "source": [
    "def right_triangle_pattern(height):\n",
    "    row = 0\n",
    "    while row < height:\n",
    "        col = 0\n",
    "        while col <= row:\n",
    "            print(\"*\", end=\" \")\n",
    "            col += 1\n",
    "        print()\n",
    "        row += 1\n",
    "\n",
    "# Example usage\n",
    "height = int(input(\"Enter the height of the right triangle: \"))\n",
    "right_triangle_pattern(height)\n"
   ]
  },
  {
   "cell_type": "markdown",
   "id": "8619399b-e51f-40e3-8273-077de474bd76",
   "metadata": {},
   "source": [
    "Pattern 3: Inverted Right Triangle Pattern"
   ]
  },
  {
   "cell_type": "code",
   "execution_count": null,
   "id": "f08fe648-0dc2-4ede-92c2-1cf6c6a5ddd6",
   "metadata": {},
   "outputs": [],
   "source": [
    "def inverted_right_triangle_pattern(height):\n",
    "    row = height\n",
    "    while row > 0:\n",
    "        col = 0\n",
    "        while col < row:\n",
    "            print(\"*\", end=\" \")\n",
    "            col += 1\n",
    "        print()\n",
    "        row -= 1\n",
    "\n",
    "# Example usage\n",
    "height = int(input(\"Enter the height of the inverted right triangle: \"))\n",
    "inverted_right_triangle_pattern(height)\n"
   ]
  },
  {
   "cell_type": "markdown",
   "id": "d2ee9c03-2a4e-422b-91ec-c3376ce3683c",
   "metadata": {},
   "source": [
    "#### Q7 Reverse a while loop to display numbers  from 10 to 1."
   ]
  },
  {
   "cell_type": "code",
   "execution_count": null,
   "id": "40d52447-5bc9-4f7c-a449-d1bc449ca46e",
   "metadata": {},
   "outputs": [],
   "source": [
    "num = 10\n",
    "while num >= 1:\n",
    "    print(num)\n",
    "    num -= 1\n"
   ]
  },
  {
   "cell_type": "markdown",
   "id": "35e83819-6c1b-492f-87f6-d5c6eb84cfa1",
   "metadata": {},
   "source": [
    "#### Q8 Reverse a while loop to display numbers from 10 to 1."
   ]
  },
  {
   "cell_type": "code",
   "execution_count": null,
   "id": "a762f239-d8c5-4a30-b91a-39de6eddd062",
   "metadata": {},
   "outputs": [],
   "source": [
    "num = 10 \n",
    "while num >= 1:\n",
    "    print(num)\n",
    "    num -=1"
   ]
  },
  {
   "cell_type": "code",
   "execution_count": null,
   "id": "8fb20ea7-6efa-4b9b-b602-3ae32c4b5a83",
   "metadata": {},
   "outputs": [],
   "source": []
  }
 ],
 "metadata": {
  "kernelspec": {
   "display_name": "Python 3 (ipykernel)",
   "language": "python",
   "name": "python3"
  },
  "language_info": {
   "codemirror_mode": {
    "name": "ipython",
    "version": 3
   },
   "file_extension": ".py",
   "mimetype": "text/x-python",
   "name": "python",
   "nbconvert_exporter": "python",
   "pygments_lexer": "ipython3",
   "version": "3.10.8"
  }
 },
 "nbformat": 4,
 "nbformat_minor": 5
}
