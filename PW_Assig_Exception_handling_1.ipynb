{
  "nbformat": 4,
  "nbformat_minor": 0,
  "metadata": {
    "colab": {
      "provenance": []
    },
    "kernelspec": {
      "name": "python3",
      "display_name": "Python 3"
    },
    "language_info": {
      "name": "python"
    }
  },
  "cells": [
    {
      "cell_type": "code",
      "execution_count": null,
      "metadata": {
        "id": "hLi0lTbhgeDr"
      },
      "outputs": [],
      "source": []
    },
    {
      "cell_type": "markdown",
      "source": [
        "Q1. What is an Exception in Python? Write the difference between Exceptions and Syntax errors.\n",
        "\n",
        " Ans:\n",
        "\n",
        "- An exception in Python is an event that occurs during the execution of a program that disrupts the normal flow of instructions. When a Python script encounters a situation that it cannot cope with, it raises an exception.\n",
        "- Syntax errors occur when the parser detects an incorrect statement, such as a typo or missing punctuation, and they prevent the program from running."
      ],
      "metadata": {
        "id": "rxBx7f5ngp0f"
      }
    },
    {
      "cell_type": "markdown",
      "source": [
        "Q2. What happens when an exception is not handled? Explain with an example.\n",
        "\n",
        "Ans:\n",
        "\n",
        "- When an exception is not handled, it propagates up the call stack until it is caught by an exception handler or until it reaches the top level of the program, causing the program to terminate with an error message.\n",
        "- Example:"
      ],
      "metadata": {
        "id": "v6FRd9_eg3LO"
      }
    },
    {
      "cell_type": "code",
      "source": [
        "try:\n",
        "  result = 10 /0 # This will raise a ZerroDevisionError\n",
        "except:\n",
        "  pass # No exception handling"
      ],
      "metadata": {
        "id": "tf5HwRoKgqu6"
      },
      "execution_count": 2,
      "outputs": []
    },
    {
      "cell_type": "markdown",
      "source": [
        "Q3. Which Python statements are used to raise and handle exceptions? Explain with an example.\n",
        "\n",
        "Ans:\n",
        "\n",
        "- The try, except, finally, and raise statements are used to raise and handle exceptions in Python.\n",
        "- Example:"
      ],
      "metadata": {
        "id": "w-CBhGUmhawo"
      }
    },
    {
      "cell_type": "code",
      "source": [
        "try:\n",
        "    result = 10 / 0  # This will raise a ZeroDivisionError\n",
        "except ZeroDivisionError:\n",
        "    print(\"Division by zero is not allowed.\")\n"
      ],
      "metadata": {
        "colab": {
          "base_uri": "https://localhost:8080/"
        },
        "id": "7le--8I_hORc",
        "outputId": "9c4abb2f-e114-473a-8a71-39d903e595bc"
      },
      "execution_count": 4,
      "outputs": [
        {
          "output_type": "stream",
          "name": "stdout",
          "text": [
            "Division by zero is not allowed.\n"
          ]
        }
      ]
    },
    {
      "cell_type": "markdown",
      "source": [
        "Q4. Explain with an example: try, except, else, finally raise.\n",
        "\n",
        "Ans:\n",
        "-The try block is used to enclose the code that may raise an exception.\n",
        "- The except block is used to handle the exception raised in the try block.\n",
        "- The else block is executed if no exception occurs in the try block.\n",
        "- The finally block is executed regardless of whether an exception occurred or not.\n",
        "- The raise statement is used to raise a specific exception manually.\n",
        "- Example:"
      ],
      "metadata": {
        "id": "ErFhFALYiECR"
      }
    },
    {
      "cell_type": "code",
      "source": [
        "try:\n",
        "  result = 10/ 2\n",
        "except ZerroDevisionError:\n",
        "  print(\"Devision by zero is not allowed.\")\n",
        "else:\n",
        "  print(\"Devision successful.\")\n",
        "finally:\n",
        "  print(\"Finally block executed.\")"
      ],
      "metadata": {
        "colab": {
          "base_uri": "https://localhost:8080/"
        },
        "id": "w1hGeBRVh6EB",
        "outputId": "5e4081c1-f9b2-4fcf-e104-18dbf3369c96"
      },
      "execution_count": 5,
      "outputs": [
        {
          "output_type": "stream",
          "name": "stdout",
          "text": [
            "Devision successful.\n",
            "Finally block executed.\n"
          ]
        }
      ]
    },
    {
      "cell_type": "markdown",
      "source": [
        "Q5. What are Custom Exceptions in Python? Why do we need Custom Exceptions? Explain with an example.\n",
        "\n",
        "Ans:\n",
        "- Custom exceptions are user-defined exceptions that inherit from the built-in Exception class.\n",
        "- We need custom exceptions to handle specific error conditions in our code and provide meaningful error messages to users.\n",
        "- Example:"
      ],
      "metadata": {
        "id": "1CaQQLmTi8Mc"
      }
    },
    {
      "cell_type": "code",
      "source": [
        "class CustomError(Exception):\n",
        "  pass\n",
        "\n",
        "def validate_input(x):\n",
        "  if x < 0:\n",
        "    raise CustomError(\"Input must be a non--negative number.\")\n",
        "\n",
        "try:\n",
        "  validate_input(-5)\n",
        "except CustomError as e:\n",
        "  print(e)"
      ],
      "metadata": {
        "colab": {
          "base_uri": "https://localhost:8080/"
        },
        "id": "mXr5k2uJi4bv",
        "outputId": "8c15b90b-9b94-47b9-995b-53afca4bb176"
      },
      "execution_count": 6,
      "outputs": [
        {
          "output_type": "stream",
          "name": "stdout",
          "text": [
            "Input must be a non--negative number.\n"
          ]
        }
      ]
    },
    {
      "cell_type": "markdown",
      "source": [
        "Q6. Create a custom exception class. Use this class to handle an exception."
      ],
      "metadata": {
        "id": "iJxU4ooZjpFm"
      }
    },
    {
      "cell_type": "code",
      "source": [
        "class NegativeValueError(Exception):\n",
        "    def __init__(self, value):\n",
        "        self.value = value\n",
        "\n",
        "    def __str__(self):\n",
        "        return f\"NegativeValueError: {self.value} is a negative value.\"\n",
        "\n",
        "\n",
        "def process_number(number):\n",
        "    if number < 0:\n",
        "        raise NegativeValueError(number)\n",
        "    else:\n",
        "        print(\"Number processed successfully.\")\n",
        "\n",
        "\n",
        "try:\n",
        "    process_number(-5)\n",
        "except NegativeValueError as e:\n",
        "    print(e)\n"
      ],
      "metadata": {
        "colab": {
          "base_uri": "https://localhost:8080/"
        },
        "id": "ux0kwvckjkfo",
        "outputId": "83ad10ee-9c3c-4c1b-b562-e35d8471c056"
      },
      "execution_count": 8,
      "outputs": [
        {
          "output_type": "stream",
          "name": "stdout",
          "text": [
            "NegativeValueError: -5 is a negative value.\n"
          ]
        }
      ]
    },
    {
      "cell_type": "code",
      "source": [],
      "metadata": {
        "id": "iTiajaJMj8rX"
      },
      "execution_count": null,
      "outputs": []
    }
  ]
}