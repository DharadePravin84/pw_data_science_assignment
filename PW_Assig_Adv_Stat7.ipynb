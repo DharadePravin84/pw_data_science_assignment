{
  "nbformat": 4,
  "nbformat_minor": 0,
  "metadata": {
    "colab": {
      "provenance": []
    },
    "kernelspec": {
      "name": "python3",
      "display_name": "Python 3"
    },
    "language_info": {
      "name": "python"
    }
  },
  "cells": [
    {
      "cell_type": "markdown",
      "source": [
        "Q1. Write a Python function that takes in two arrays of data and calculates the F-value for a variance ratio\n",
        "test. The function should return the F-value and the corresponding p-value for the test.\n",
        "\n"
      ],
      "metadata": {
        "id": "2cSkbqM2b5he"
      }
    },
    {
      "cell_type": "code",
      "execution_count": 1,
      "metadata": {
        "colab": {
          "base_uri": "https://localhost:8080/"
        },
        "id": "m3mQZ33JZtCF",
        "outputId": "a53f20aa-6837-434b-8436-8a54599200f5"
      },
      "outputs": [
        {
          "output_type": "stream",
          "name": "stdout",
          "text": [
            "F-value: 4.633913281074919, p-value: 4.4781867403420605e-05\n"
          ]
        }
      ],
      "source": [
        "import numpy as np\n",
        "from scipy.stats import f\n",
        "\n",
        "def variance_ratio_test(data1, data2):\n",
        "    var1 = np.var(data1, ddof=1)\n",
        "    var2 = np.var(data2, ddof=1)\n",
        "    df1 = len(data1) - 1\n",
        "    df2 = len(data2) - 1\n",
        "    F = var1 / var2 if var1 > var2 else var2 / var1\n",
        "    p_value = 1 - f.cdf(F, df1, df2) if var1 > var2 else 1 - f.cdf(F, df2, df1)\n",
        "    return F, p_value\n",
        "\n",
        "# Example usage:\n",
        "data1 = np.random.normal(0, 1, 30)\n",
        "data2 = np.random.normal(0, 2, 30)\n",
        "F, p_value = variance_ratio_test(data1, data2)\n",
        "print(f\"F-value: {F}, p-value: {p_value}\")\n"
      ]
    },
    {
      "cell_type": "markdown",
      "source": [
        "Q2. Given a significance level of 0.05 and the degrees of freedom for the numerator and denominator of an\n",
        "F-distribution, write a Python function that returns the critical F-value for a two-tailed test.\n",
        "\n"
      ],
      "metadata": {
        "id": "iHAux_w4cEwC"
      }
    },
    {
      "cell_type": "code",
      "source": [
        "from scipy.stats import f\n",
        "\n",
        "def critical_f_value(alpha, df1, df2, tail='two-tailed'):\n",
        "    if tail == 'two-tailed':\n",
        "        return f.ppf(1 - alpha/2, df1, df2)\n",
        "    elif tail == 'upper':\n",
        "        return f.ppf(1 - alpha, df1, df2)\n",
        "    elif tail == 'lower':\n",
        "        return f.ppf(alpha, df1, df2)\n",
        "    else:\n",
        "        raise ValueError(\"tail must be 'two-tailed', 'upper', or 'lower'\")\n",
        "\n",
        "# Example usage:\n",
        "alpha = 0.05\n",
        "df1 = 10\n",
        "df2 = 15\n",
        "critical_value = critical_f_value(alpha, df1, df2)\n",
        "print(f\"Critical F-value: {critical_value}\")\n"
      ],
      "metadata": {
        "colab": {
          "base_uri": "https://localhost:8080/"
        },
        "id": "Zmucq5e7cGjO",
        "outputId": "a83287b6-c70d-46fd-b77f-7f9bbe7037fc"
      },
      "execution_count": 2,
      "outputs": [
        {
          "output_type": "stream",
          "name": "stdout",
          "text": [
            "Critical F-value: 3.060196851411249\n"
          ]
        }
      ]
    },
    {
      "cell_type": "markdown",
      "source": [
        "Q3. Write a Python program that generates random samples from two normal distributions with known\n",
        "variances and uses an F-test to determine if the variances are equal. The program should output the Fvalue, degrees of freedom, and p-value for the test.\n",
        "\n"
      ],
      "metadata": {
        "id": "V19z8Xq-cHEt"
      }
    },
    {
      "cell_type": "code",
      "source": [
        "import numpy as np\n",
        "from scipy.stats import f\n",
        "\n",
        "def generate_and_test_variances(n1, n2, var1, var2, alpha=0.05):\n",
        "    data1 = np.random.normal(0, np.sqrt(var1), n1)\n",
        "    data2 = np.random.normal(0, np.sqrt(var2), n2)\n",
        "    F, p_value = variance_ratio_test(data1, data2)\n",
        "    return F, p_value, n1-1, n2-1\n",
        "\n",
        "# Example usage:\n",
        "n1 = 30\n",
        "n2 = 40\n",
        "var1 = 5\n",
        "var2 = 10\n",
        "F, p_value, df1, df2 = generate_and_test_variances(n1, n2, var1, var2)\n",
        "print(f\"F-value: {F}, p-value: {p_value}, df1: {df1}, df2: {df2}\")\n"
      ],
      "metadata": {
        "colab": {
          "base_uri": "https://localhost:8080/"
        },
        "id": "cib1BujbcKmx",
        "outputId": "1fe676d9-79ea-4c5b-f814-517bd67b262f"
      },
      "execution_count": 3,
      "outputs": [
        {
          "output_type": "stream",
          "name": "stdout",
          "text": [
            "F-value: 1.803365657272245, p-value: 0.050942581364037065, df1: 29, df2: 39\n"
          ]
        }
      ]
    },
    {
      "cell_type": "markdown",
      "source": [
        "Q4.The variances of two populations are known to be 10 and 15. A sample of 12 observations is taken from\n",
        "each population. Conduct an F-test at the 5% significance level to determine if the variances are\n",
        "significantly different.\n",
        "\n"
      ],
      "metadata": {
        "id": "2fNDFfL1cLK8"
      }
    },
    {
      "cell_type": "code",
      "source": [
        "from scipy.stats import f\n",
        "\n",
        "def f_test_known_variances(var1, var2, n1, n2, alpha=0.05):\n",
        "    F = var1 / var2 if var1 > var2 else var2 / var1\n",
        "    df1 = n1 - 1\n",
        "    df2 = n2 - 1\n",
        "    p_value = 1 - f.cdf(F, df1, df2) if var1 > var2 else 1 - f.cdf(F, df2, df1)\n",
        "    return F, p_value\n",
        "\n",
        "# Example usage:\n",
        "var1 = 10\n",
        "var2 = 15\n",
        "n1 = 12\n",
        "n2 = 12\n",
        "F, p_value = f_test_known_variances(var1, var2, n1, n2)\n",
        "print(f\"F-value: {F}, p-value: {p_value}\")\n"
      ],
      "metadata": {
        "colab": {
          "base_uri": "https://localhost:8080/"
        },
        "id": "LP3gwmoqcSt-",
        "outputId": "7584afbe-327f-4815-cf1c-137d5d6d0afb"
      },
      "execution_count": 4,
      "outputs": [
        {
          "output_type": "stream",
          "name": "stdout",
          "text": [
            "F-value: 1.5, p-value: 0.25619489936789974\n"
          ]
        }
      ]
    },
    {
      "cell_type": "markdown",
      "source": [
        "Q5. A manufacturer claims that the variance of the diameter of a certain product is 0.005. A sample of 25\n",
        "products is taken, and the sample variance is found to be 0.006. Conduct an F-test at the 1% significance\n",
        "level to determine if the claim is justified.\n",
        "\n"
      ],
      "metadata": {
        "id": "tuzVAmuVcTJ4"
      }
    },
    {
      "cell_type": "code",
      "source": [
        "import numpy as np\n",
        "from scipy.stats import f\n",
        "\n",
        "def f_test_claimed_variance(sample_var, claimed_var, n, alpha=0.01):\n",
        "    F = sample_var / claimed_var\n",
        "    df1 = n - 1\n",
        "    p_value = 1 - f.cdf(F, df1, df1)\n",
        "    return F, p_value\n",
        "\n",
        "# Example usage:\n",
        "sample_var = 0.006\n",
        "claimed_var = 0.005\n",
        "n = 25\n",
        "F, p_value = f_test_claimed_variance(sample_var, claimed_var, n)\n",
        "print(f\"F-value: {F}, p-value: {p_value}\")\n"
      ],
      "metadata": {
        "colab": {
          "base_uri": "https://localhost:8080/"
        },
        "id": "1d24m-4scXJo",
        "outputId": "01c4aa22-20d6-4de0-cbf0-f94d9b5b2a3e"
      },
      "execution_count": 5,
      "outputs": [
        {
          "output_type": "stream",
          "name": "stdout",
          "text": [
            "F-value: 1.2, p-value: 0.3293654682817244\n"
          ]
        }
      ]
    },
    {
      "cell_type": "markdown",
      "source": [
        "Q6. Write a Python function that takes in the degrees of freedom for the numerator and denominator of an\n",
        "F-distribution and calculates the mean and variance of the distribution. The function should return the\n",
        "mean and variance as a tuple.\n",
        "\n"
      ],
      "metadata": {
        "id": "DQgRy34wcXrY"
      }
    },
    {
      "cell_type": "code",
      "source": [
        "def f_distribution_mean_variance(df1, df2):\n",
        "    if df2 <= 2:\n",
        "        mean = None\n",
        "    else:\n",
        "        mean = df2 / (df2 - 2)\n",
        "    if df2 <= 4:\n",
        "        variance = None\n",
        "    else:\n",
        "        variance = (2 * (df2**2) * (df1 + df2 - 2)) / (df1 * (df2 - 2)**2 * (df2 - 4))\n",
        "    return mean, variance\n",
        "\n",
        "# Example usage:\n",
        "df1 = 10\n",
        "df2 = 15\n",
        "mean, variance = f_distribution_mean_variance(df1, df2)\n",
        "print(f\"Mean: {mean}, Variance: {variance}\")\n"
      ],
      "metadata": {
        "colab": {
          "base_uri": "https://localhost:8080/"
        },
        "id": "-s5721YYcaIx",
        "outputId": "24a79c64-7591-4237-9410-a5fb22c0a644"
      },
      "execution_count": 6,
      "outputs": [
        {
          "output_type": "stream",
          "name": "stdout",
          "text": [
            "Mean: 1.1538461538461537, Variance: 0.556750941366326\n"
          ]
        }
      ]
    },
    {
      "cell_type": "markdown",
      "source": [
        "Q7. A random sample of 10 measurements is taken from a normal population with unknown variance. The\n",
        "sample variance is found to be 25. Another random sample of 15 measurements is taken from another\n",
        "normal population with unknown variance, and the sample variance is found to be 20. Conduct an F-test\n",
        "at the 10% significance level to determine if the variances are significantly different.\n"
      ],
      "metadata": {
        "id": "L3f7weeyca0d"
      }
    },
    {
      "cell_type": "code",
      "source": [
        "import numpy as np\n",
        "from scipy.stats import f\n",
        "\n",
        "def f_test_sample_variances(var1, var2, n1, n2, alpha=0.1):\n",
        "    F = var1 / var2 if var1 > var2 else var2 / var1\n",
        "    df1 = n1 - 1\n",
        "    df2 = n2 - 1\n",
        "    p_value = 1 - f.cdf(F, df1, df2) if var1 > var2 else 1 - f.cdf(F, df2, df1)\n",
        "    return F, p_value\n",
        "\n",
        "# Example usage:\n",
        "var1 = 25\n",
        "var2 = 20\n",
        "n1 = 10\n",
        "n2 = 15\n",
        "F, p_value = f_test_sample_variances(var1, var2, n1, n2)\n",
        "print(f\"F-value: {F}, p-value: {p_value}\")\n"
      ],
      "metadata": {
        "colab": {
          "base_uri": "https://localhost:8080/"
        },
        "id": "X-Mm08HgccXH",
        "outputId": "c7cd9d16-d956-4d4b-f0d3-30b6a519a826"
      },
      "execution_count": 7,
      "outputs": [
        {
          "output_type": "stream",
          "name": "stdout",
          "text": [
            "F-value: 1.25, p-value: 0.3416097191292977\n"
          ]
        }
      ]
    },
    {
      "cell_type": "markdown",
      "source": [
        "\n",
        "Q8. The following data represent the waiting times in minutes at two different restaurants on a Saturday\n",
        "night: Restaurant A: 24, 25, 28, 23, 22, 20, 27; Restaurant B: 31, 33, 35, 30, 32, 36. Conduct an F-test at the 5%\n",
        "significance level to determine if the variances are significantly different.\n",
        "\n"
      ],
      "metadata": {
        "id": "Dr4OKtFmcdCp"
      }
    },
    {
      "cell_type": "code",
      "source": [
        "import numpy as np\n",
        "from scipy.stats import f\n",
        "\n",
        "def f_test_waiting_times(data1, data2, alpha=0.05):\n",
        "    var1 = np.var(data1, ddof=1)\n",
        "    var2 = np.var(data2, ddof=1)\n",
        "    F = var1 / var2 if var1 > var2 else var2 / var1\n",
        "    df1 = len(data1) - 1\n",
        "    df2 = len(data2) - 1\n",
        "    p_value = 1 - f.cdf(F, df1, df2) if var1 > var2 else 1 - f.cdf(F, df2, df1)\n",
        "    return F, p_value\n",
        "\n",
        "# Example usage:\n",
        "restaurant_a = [24, 25, 28, 23, 22, 20, 27]\n",
        "restaurant_b = [31, 33, 35, 30, 32, 36]\n",
        "F, p_value = f_test_waiting_times(restaurant_a, restaurant_b)\n",
        "print(f\"F-value: {F}, p-value: {p_value}\")\n"
      ],
      "metadata": {
        "colab": {
          "base_uri": "https://localhost:8080/"
        },
        "id": "nUC5maT_cexK",
        "outputId": "2f287e83-4956-4879-8caf-5e390612ba85"
      },
      "execution_count": 8,
      "outputs": [
        {
          "output_type": "stream",
          "name": "stdout",
          "text": [
            "F-value: 1.4551907719609583, p-value: 0.3487407873968742\n"
          ]
        }
      ]
    },
    {
      "cell_type": "markdown",
      "source": [
        "Q9. The following data represent the test scores of two groups of students: Group A: 80, 85, 90, 92, 87, 83;\n",
        "Group B: 75, 78, 82, 79, 81, 84. Conduct an F-test at the 1% significance level to determine if the variances\n",
        "are significantly different."
      ],
      "metadata": {
        "id": "HICo_-ZncfVA"
      }
    },
    {
      "cell_type": "code",
      "source": [
        "import numpy as np\n",
        "from scipy.stats import f\n",
        "\n",
        "def f_test_scores(group_a, group_b, alpha=0.01):\n",
        "    var1 = np.var(group_a, ddof=1)\n",
        "    var2 = np.var(group_b, ddof=1)\n",
        "    F = var1 / var2 if var1 > var2 else var2 / var1\n",
        "    df1 = len(group_a) - 1\n",
        "    df2 = len(group_b) - 1\n",
        "    p_value = 1 - f.cdf(F, df1, df2) if var1 > var2 else 1 - f.cdf(F, df2, df1)\n",
        "    return F, p_value\n",
        "\n",
        "# Example usage:\n",
        "group_a = [80, 85, 90, 92, 87, 83]\n",
        "group_b = [75, 78, 82, 79, 81, 84]\n",
        "F, p_value = f_test_scores(group_a, group_b)\n",
        "print(f\"F-value: {F}, p-value: {p_value}\")\n"
      ],
      "metadata": {
        "colab": {
          "base_uri": "https://localhost:8080/"
        },
        "id": "kq172VDHcf6Z",
        "outputId": "ae6c42ab-9cb9-49fe-a61f-4171879c2928"
      },
      "execution_count": 9,
      "outputs": [
        {
          "output_type": "stream",
          "name": "stdout",
          "text": [
            "F-value: 1.9442622950819677, p-value: 0.2415521774535344\n"
          ]
        }
      ]
    }
  ]
}