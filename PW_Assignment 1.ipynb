{
 "cells": [
  {
   "cell_type": "code",
   "execution_count": 11,
   "id": "9818a8b5-7c03-4084-bfd3-2c5d1fd7d6b7",
   "metadata": {},
   "outputs": [],
   "source": [
    "# Q1. What are the characteristics of the tuples? Is tuple immutable?\n",
    "\n",
    "## Ans- Tuple has static characteristics and it is immutable."
   ]
  },
  {
   "cell_type": "code",
   "execution_count": 12,
   "id": "abc73d13-c21b-49c9-9758-fb9786fcfcbe",
   "metadata": {},
   "outputs": [],
   "source": []
  },
  {
   "cell_type": "code",
   "execution_count": 9,
   "id": "69cd1f37-6c52-40e8-a7b4-6ab4cea2aa14",
   "metadata": {},
   "outputs": [],
   "source": [
    "# Q2. What are the two tuple methods in python? Give an example of each method. Give a reason why\n",
    "# tuples have only two in-built methods as compared to Lists.\n",
    "\n",
    "## Ans- In tuple only two in-built methods that is 1:count and 2:index, becouse tuple are immutable. It has a static characteristics.\n"
   ]
  },
  {
   "cell_type": "code",
   "execution_count": 10,
   "id": "43336def-32a9-456d-927c-e9dcbf53ca16",
   "metadata": {},
   "outputs": [],
   "source": []
  },
  {
   "cell_type": "code",
   "execution_count": 6,
   "id": "aade9d04-5607-4d0d-985d-ec84254aee90",
   "metadata": {},
   "outputs": [
    {
     "data": {
      "text/plain": [
       "{1, 2, 3, 4}"
      ]
     },
     "execution_count": 6,
     "metadata": {},
     "output_type": "execute_result"
    }
   ],
   "source": [
    "#Q3. Which collection datatypes in python do not allow duplicate items? Write a code using a set to remove\n",
    "#duplicates from the given list.\n",
    "List = [1, 1, 1, 2, 1, 3, 1, 4, 2, 1, 2, 2, 2, 3, 2, 4, 3, 1, 3, 2, 3, 3, 3, 4, 4, 1, 4, 2, 4, 3, 4, 4] \n",
    "\n",
    "## Ans- Sets are collection of datatypes which do not allow duplicate items.\n",
    "List = [1, 1, 1, 2, 1, 3, 1, 4, 2, 1, 2, 2, 2, 3, 2, 4, 3, 1, 3, 2, 3, 3, 3, 4, 4, 1, 4, 2, 4, 3, 4, 4] \n",
    "s = set(List)\n",
    "type(s) # output - set\n",
    "s # output- {1, 2, 3, 4}"
   ]
  },
  {
   "cell_type": "code",
   "execution_count": null,
   "id": "c9ada3f9-fba9-4f9a-96ec-4d6fb91b609f",
   "metadata": {},
   "outputs": [],
   "source": []
  },
  {
   "cell_type": "code",
   "execution_count": 7,
   "id": "3fe4a3cb-44a3-4d4f-b62f-6ad81d18663f",
   "metadata": {},
   "outputs": [
    {
     "data": {
      "text/plain": [
       "{1, 2, 3, 4, 5}"
      ]
     },
     "execution_count": 7,
     "metadata": {},
     "output_type": "execute_result"
    }
   ],
   "source": [
    "#Q4. Explain the difference between the union() and update() methods for a set. Give an example of each method.\n",
    "\n",
    "## Ans- union() and update() are both methods use for a set in python. \n",
    "## The union() function create a new set containing the cobined elements of multiple sets without modifying the original sets,\n",
    "## while updat() function adds elements from another iterable to an existing set, directly modifying the original set.\n",
    "# Ex. Union()\n",
    "set1 = {1, 2, 3}\n",
    "set2 = {3, 4, 5}\n",
    "result_set = set1.union(set2)\n",
    "result_set # output: {1, 2, 3, 4, 5}"
   ]
  },
  {
   "cell_type": "code",
   "execution_count": 4,
   "id": "c5f0d6fc-6cd8-4d7a-b0d7-a5ad8a55c348",
   "metadata": {},
   "outputs": [
    {
     "name": "stdout",
     "output_type": "stream",
     "text": [
      "{1, 2, 3, 4, 5}\n",
      "{3, 4, 5}\n"
     ]
    }
   ],
   "source": [
    "# Ex. Update()\n",
    "set1 = {1, 2, 3}\n",
    "set2 = {3, 4, 5}\n",
    "set1.update(set2)\n",
    "\n",
    "print(set1)  # Output: {1, 2, 3, 4, 5}\n",
    "print(set2)  # Output: {3, 4, 5} (unchanged)"
   ]
  },
  {
   "cell_type": "code",
   "execution_count": null,
   "id": "292cac35-3ffa-409c-9e0f-dc23a47d6623",
   "metadata": {},
   "outputs": [],
   "source": []
  },
  {
   "cell_type": "code",
   "execution_count": 8,
   "id": "c130eca7-3c93-4b99-9649-8cb53ebdb577",
   "metadata": {},
   "outputs": [
    {
     "data": {
      "text/plain": [
       "{'name': 'pravin', 'age': 23, 'course': 'MDS'}"
      ]
     },
     "execution_count": 8,
     "metadata": {},
     "output_type": "execute_result"
    }
   ],
   "source": [
    "# Q5. What is a dictionary? Give an example. Also, state whether a dictionary is ordered or unordered.\n",
    "\n",
    "## Ans- In python dictionry is a collection of key-value pairs.\n",
    "## Python dictionaries allow us to associate a value to a unique key, and then to quickly access this value.\n",
    "## dictionry are mutable data structure.\n",
    "## It is an unordered data structure.\n",
    "## Ex.\n",
    "dict1 = { \"name\":\"pravin\",\n",
    "        \"age\":23,\n",
    "        \"course\":\"MDS\"}\n",
    "dict1 # Output:{'name': 'pravin', 'age': 23, 'course': 'MDS'}"
   ]
  },
  {
   "cell_type": "code",
   "execution_count": null,
   "id": "e9f5047d-2021-4788-8b8e-95afb8d5cbed",
   "metadata": {},
   "outputs": [],
   "source": []
  },
  {
   "cell_type": "code",
   "execution_count": 14,
   "id": "37c7794e-0e25-48d3-ba9b-2569466ca478",
   "metadata": {},
   "outputs": [
    {
     "data": {
      "text/plain": [
       "{'Pravin': {'course_name': 'MDS',\n",
       "  'age': 23,\n",
       "  'email_id': 'dharadepravin@gmail.com'}}"
      ]
     },
     "execution_count": 14,
     "metadata": {},
     "output_type": "execute_result"
    }
   ],
   "source": [
    "# Q6. Can we create a nested dictionary? If so, please give an example by creating a simple one-level nested dictionary.\n",
    "\n",
    "## Ans-Yes, In python dictionary we can create a nested dictionary.\n",
    "## A nested dictionary is a dictionary that contains one or more dictionaries as values.\n",
    "## This allows to create a hierarchical structure for storing and organizing data.\n",
    "## Ex.\n",
    "student_info = {\"Pravin\":{\"course_name\":\"MDS\",\n",
    "                          \"age\":23,\n",
    "                          \"email_id\":\"dharadepravin@gmail.com\"}\n",
    "               }\n",
    "student_info\n"
   ]
  },
  {
   "cell_type": "code",
   "execution_count": null,
   "id": "1c390287-90fb-42a9-9c0f-e98770bcdae9",
   "metadata": {},
   "outputs": [],
   "source": []
  },
  {
   "cell_type": "code",
   "execution_count": 15,
   "id": "4a21b9bd-f8c0-4db4-97a7-5cdfc04f3bef",
   "metadata": {},
   "outputs": [
    {
     "data": {
      "text/plain": [
       "{'language': 'Python',\n",
       " 'course': 'Data Science Masters',\n",
       " 'topics': ['Python', 'Machine Learning', 'Deep Learning']}"
      ]
     },
     "execution_count": 15,
     "metadata": {},
     "output_type": "execute_result"
    }
   ],
   "source": [
    "# Q7. Using setdefault() method, create key named topics in the given dictionary and also add the value of\n",
    "# the key as this list ['Python', 'Machine Learning’, 'Deep Learning']\n",
    "dict1 = {'language' : 'Python', 'course': 'Data Science Masters'}\n",
    "dict1.setdefault(\"topics\",[\"Python\",\"Machine Learning\",\"Deep Learning\"])\n",
    "dict1 # output{'topics': ['Python', 'Machine Learning', 'Deep Learning']}"
   ]
  },
  {
   "cell_type": "code",
   "execution_count": null,
   "id": "ed95ef6d-40d1-4a91-9933-705ce8daaf02",
   "metadata": {},
   "outputs": [],
   "source": []
  },
  {
   "cell_type": "code",
   "execution_count": 16,
   "id": "8e0c8447-4943-4191-9ecf-034a2f2cbb59",
   "metadata": {},
   "outputs": [
    {
     "name": "stdout",
     "output_type": "stream",
     "text": [
      "dict_keys view object: dict_keys(['Sport', 'Teams'])\n",
      "dict_values view object: dict_values(['Cricket', ['India', 'Australia', 'England', 'South Africa', 'Sri Lanka', 'New Zealand']])\n",
      "dict_items view obkect: dict_items([('Sport', 'Cricket'), ('Teams', ['India', 'Australia', 'England', 'South Africa', 'Sri Lanka', 'New Zealand'])])\n"
     ]
    }
   ],
   "source": [
    "# Q8. What are the three view objects in dictionaries? Use the three in-built methods in python to display\n",
    "# these three view objects for the given dictionary.\n",
    "\n",
    "## Ans - In Python dictionaries, there are three view objects that provide dynamic views of the dictionary's keys, values, and key-value pairs.\n",
    "## These view objects allow you to interact with the dictionary's data without creating new data structures,\n",
    "## making them memory-efficient and useful for various dictionary operations.\n",
    "# Ex.\n",
    "dict1 = {'Sport': 'Cricket' , 'Teams': ['India', 'Australia', 'England', 'South Africa', 'Sri Lanka', 'New Zealand']}\n",
    "keys_view = dict1.keys()\n",
    "print(f\"dict_keys view object: {keys_view}\")\n",
    "values_view = dict1.values()\n",
    "print(f\"dict_values view object: {values_view}\")\n",
    "items_view = dict1.items()\n",
    "print(f\"dict_items view obkect: {items_view}\")"
   ]
  },
  {
   "cell_type": "code",
   "execution_count": null,
   "id": "eee9da42-1634-4c6e-9c79-df26f5fa03d4",
   "metadata": {},
   "outputs": [],
   "source": []
  }
 ],
 "metadata": {
  "kernelspec": {
   "display_name": "Python 3 (ipykernel)",
   "language": "python",
   "name": "python3"
  },
  "language_info": {
   "codemirror_mode": {
    "name": "ipython",
    "version": 3
   },
   "file_extension": ".py",
   "mimetype": "text/x-python",
   "name": "python",
   "nbconvert_exporter": "python",
   "pygments_lexer": "ipython3",
   "version": "3.10.8"
  }
 },
 "nbformat": 4,
 "nbformat_minor": 5
}
