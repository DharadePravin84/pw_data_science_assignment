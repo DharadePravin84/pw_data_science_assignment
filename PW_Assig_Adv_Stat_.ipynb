{
  "nbformat": 4,
  "nbformat_minor": 0,
  "metadata": {
    "colab": {
      "provenance": []
    },
    "kernelspec": {
      "name": "python3",
      "display_name": "Python 3"
    },
    "language_info": {
      "name": "python"
    }
  },
  "cells": [
    {
      "cell_type": "code",
      "execution_count": null,
      "metadata": {
        "id": "mQFf-17cZdJP"
      },
      "outputs": [],
      "source": []
    },
    {
      "cell_type": "markdown",
      "source": [
        "## Q1: What is Estimation Statistics? Explain point estimate and interval estimate.\n",
        "### Estimation Statistics:\n",
        "Estimation statistics involves using sample data to estimate population parameters. The primary goal is to infer the value of an unknown parameter of a population, such as the mean or proportion.\n",
        "\n",
        "- Point Estimate: A point estimate is a single value estimate of a population parameter. For example, the sample mean (xˉ) is a point estimate of the population mean (μ).\n",
        "\n",
        "- Interval Estimate: An interval estimate provides a range of values within which the population parameter is expected to lie, along with a confidence level that quantifies the certainty of the estimate. For example, a 95% confidence interval for the population mean provides a range that is expected to contain the true population mean 95% of the time."
      ],
      "metadata": {
        "id": "6wTyd-3yZeex"
      }
    },
    {
      "cell_type": "markdown",
      "source": [
        "## Q2. Write a Python function to estimate the population mean using a sample mean and standard deviation."
      ],
      "metadata": {
        "id": "vHpR-f8caFan"
      }
    },
    {
      "cell_type": "code",
      "source": [
        "import scipy.stats as stats\n",
        "\n",
        "def estimate_population_mean(sample_mean, sample_std, sample_size, confidence_level=0.95):\n",
        "    alpha = 1 - confidence_level\n",
        "    df = sample_size - 1\n",
        "    t_critical = stats.t.ppf(1 - alpha/2, df)\n",
        "    margin_of_error = t_critical * (sample_std / (sample_size ** 0.5))\n",
        "    lower_bound = sample_mean - margin_of_error\n",
        "    upper_bound = sample_mean + margin_of_error\n",
        "    return lower_bound, upper_bound\n",
        "\n",
        "# Example usage:\n",
        "sample_mean = 100\n",
        "sample_std = 15\n",
        "sample_size = 30\n",
        "confidence_level = 0.95\n",
        "\n",
        "lower, upper = estimate_population_mean(sample_mean, sample_std, sample_size, confidence_level)\n",
        "print(f\"95% confidence interval: ({lower}, {upper})\")\n"
      ],
      "metadata": {
        "colab": {
          "base_uri": "https://localhost:8080/"
        },
        "id": "lNKzNzvjaCKJ",
        "outputId": "d6d17da6-d89a-44bd-c1c8-5cdeedc3cb54"
      },
      "execution_count": null,
      "outputs": [
        {
          "output_type": "stream",
          "name": "stdout",
          "text": [
            "95% confidence interval: (94.3989079486285, 105.6010920513715)\n"
          ]
        }
      ]
    },
    {
      "cell_type": "markdown",
      "source": [
        "## Q3: What is Hypothesis Testing? Why is it Used? State the Importance of Hypothesis Testing.\n",
        "\n",
        "### Hypothesis Testing:\n",
        "Hypothesis testing is a statistical method used to make decisions or inferences about a population parameter based on sample data. It involves making an initial assumption (the null hypothesis) and then determining whether there is enough evidence in the sample data to reject this assumption in favor of an alternative hypothesis.\n",
        "\n",
        "### Why is it Used?\n",
        "Hypothesis testing is used to determine whether there is enough statistical evidence in a sample to infer that a certain condition holds for the entire population. It is a critical component in fields such as scientific research, quality control, and economics, where making data-driven decisions is essential.\n",
        "\n",
        "### Importance of Hypothesis Testing:\n",
        "\n",
        "1. Objective Decision-Making: It provides a structured framework for making decisions based on data.\n",
        "2. Scientific Research: It is fundamental in validating or refuting scientific theories and models.\n",
        "3. Quality Control: Used extensively in manufacturing and business to maintain and improve quality.\n",
        "4. Policy Making: Helps in assessing the impact of policies or interventions.\n",
        "\n",
        "## Q4. Create a Hypothesis that States Whether the Average Weight of Male College Students is Greater than the Average Weight of Female College Students.\n",
        "\n",
        "### Hypothesis:\n",
        "\n",
        "- Null Hypothesis (𝐻0): The average weight of male college students is equal to or less than the average weight of female college students.\n",
        "𝐻0 :𝜇 male ≤ 𝜇 female\n",
        "\n",
        "- Alternative Hypothesis (Ha): The average weight of male college students is greater than the average weight of female college students.\n",
        "Ha : μ male > μ female\n",
        "\n",
        " ## Q5. Write a Python Script to Conduct a Hypothesis Test on the Difference Between Two Population Means, Given a Sample from Each Population."
      ],
      "metadata": {
        "id": "kzK6O-wbuJgA"
      }
    },
    {
      "cell_type": "code",
      "source": [
        "import numpy as np\n",
        "import scipy.stats as stats\n",
        "\n",
        "# Sample data\n",
        "male_weights = [72, 75, 78, 82, 85, 88, 90, 93, 95, 98]\n",
        "female_weights = [65, 68, 70, 72, 74, 75, 77, 79, 80, 82]\n",
        "\n",
        "# Calculate sample means and standard deviations\n",
        "mean_male = np.mean(male_weights)\n",
        "mean_female = np.mean(female_weights)\n",
        "std_male = np.std(male_weights, ddof=1)\n",
        "std_female = np.std(female_weights, ddof=1)\n",
        "\n",
        "# Calculate sample sizes\n",
        "n_male = len(male_weights)\n",
        "n_female = len(female_weights)\n",
        "\n",
        "# Conduct a two-sample t-test\n",
        "t_stat, p_value = stats.ttest_ind(male_weights, female_weights, alternative='greater')\n",
        "\n",
        "print(f\"t-statistic: {t_stat}\")\n",
        "print(f\"p-value: {p_value}\")\n",
        "\n",
        "# Determine the result\n",
        "alpha = 0.05\n",
        "if p_value < alpha:\n",
        "    print(\"Reject the null hypothesis. The average weight of male college students is greater than the average weight of female college students.\")\n",
        "else:\n",
        "    print(\"Fail to reject the null hypothesis. There is not enough evidence to conclude that the average weight of male college students is greater than the average weight of female college students.\")\n"
      ],
      "metadata": {
        "id": "DMJEmgcOaKrH",
        "colab": {
          "base_uri": "https://localhost:8080/"
        },
        "outputId": "198228ca-466e-40b8-9ffa-2ee098b5bb17"
      },
      "execution_count": null,
      "outputs": [
        {
          "output_type": "stream",
          "name": "stdout",
          "text": [
            "t-statistic: 3.486892593473441\n",
            "p-value: 0.0013161092800405248\n",
            "Reject the null hypothesis. The average weight of male college students is greater than the average weight of female college students.\n"
          ]
        }
      ]
    },
    {
      "cell_type": "markdown",
      "source": [
        "## Q6: What is a Null and Alternative Hypothesis? Give Some Examples.\n",
        "\n",
        "###Null Hypothesis (H0):\n",
        "The null hypothesis is a statement that there is no effect or no difference, and it serves as the default assumption. It is usually the hypothesis that researchers aim to test against.\n",
        "\n",
        "### Alternative Hypothesis (Ha ):\n",
        "  The alternative hypothesis is a statement that indicates the presence of an effect or difference. It is what the researcher aims to prove.\n",
        "\n",
        "#### Examples:\n",
        "\n",
        "1. Test for Mean:\n",
        "- H0: The mean weight of apples in a store is 150 grams.\n",
        "- Ha: The mean weight of apples in a store is not 150 grams.\n",
        "\n",
        "2. Test for Proportion:\n",
        "- H0: 60% of the voters support a particular candidate.\n",
        "- Ha: Less than 60% of the voters support a particular candidate.\n",
        "\n",
        "## Q7: Write Down the Steps Involved in Hypothesis Testing.\n",
        "1. State the Hypotheses: Formulate the null hypothesis (H0) and the alternative hypothesis (Ha).\n",
        "2. Choose the Significance Level: Select the significance level (α), commonly set at 0.05 or 0.01.\n",
        "3. Collect Data: Gather sample data relevant to the hypotheses.\n",
        "4. Calculate the Test Statistic: Compute the test statistic (e.g., t-statistic, z-score) based on the sample data.\n",
        "5. Determine the P-Value or Critical Value: Find the p-value or compare the test statistic to the critical value.\n",
        "6. Make a Decision: Decide whether to reject or fail to reject the null hypothesis based on the p-value or test statistic.\n",
        "\n",
        "## Q8. Define P-value and Explain Its Significance in Hypothesis Testing.\n",
        "\n",
        "P-value: The p-value is the probability of obtaining test results at least as extreme as the observed results, assuming that the null hypothesis is true. It measures the strength of evidence against the null hypothesis.\n",
        "\n",
        "Significance in Hypothesis Testing:\n",
        "\n",
        "- A smaller p-value indicates stronger evidence against the null hypothesis.\n",
        "- If the p-value is less than the chosen significance level (α), we reject the null hypothesis.\n",
        "- It helps in making decisions about the validity of the null hypothesis based on sample data.\n",
        "\n",
        "## Q9. Generate a Student's t-distribution Plot Using Python's Matplotlib Library, with the Degrees of Freedom Parameter Set to 10."
      ],
      "metadata": {
        "id": "hjJ-V0fawbo6"
      }
    },
    {
      "cell_type": "code",
      "source": [
        "import numpy as np\n",
        "import matplotlib.pyplot as plt\n",
        "import scipy.stats as stats\n",
        "\n",
        "# Degrees of freedom\n",
        "df = 10\n",
        "\n",
        "# Generate x values\n",
        "x = np.linspace(-4, 4, 1000)\n",
        "\n",
        "# Generate t-distribution values\n",
        "y = stats.t.pdf(x, df)\n",
        "\n",
        "# Plot the t-distribution\n",
        "plt.plot(x, y, label=f't-distribution (df={df})')\n",
        "plt.title(\"Student's t-Distribution\")\n",
        "plt.xlabel('t')\n",
        "plt.ylabel('Probability Density')\n",
        "plt.legend()\n",
        "plt.grid(True)\n",
        "plt.show()\n"
      ],
      "metadata": {
        "colab": {
          "base_uri": "https://localhost:8080/",
          "height": 472
        },
        "id": "zM3MdGoLwGso",
        "outputId": "72959a3f-00aa-4362-d659-81dc73a69abb"
      },
      "execution_count": null,
      "outputs": [
        {
          "output_type": "display_data",
          "data": {
            "text/plain": [
              "<Figure size 640x480 with 1 Axes>"
            ],
            "image/png": "[encoded data removed]"
          },
          "metadata": {}
        }
      ]
    },
    {
      "cell_type": "markdown",
      "source": [
        "## Q10. Write a Python Program to Calculate the Two-Sample t-Test for Independent Samples, Given Two Random Samples of Equal Size and a Null Hypothesis that the Population Means are Equal."
      ],
      "metadata": {
        "id": "5ST-k-Kly0VX"
      }
    },
    {
      "cell_type": "code",
      "source": [
        "import numpy as np\n",
        "import scipy.stats as stats\n",
        "\n",
        "# Generate two random samples\n",
        "np.random.seed(0)  # For reproducibility\n",
        "sample1 = np.random.normal(50, 10, 30)  # Sample from population 1\n",
        "sample2 = np.random.normal(52, 10, 30)  # Sample from population 2\n",
        "\n",
        "# Conduct a two-sample t-test\n",
        "t_stat, p_value = stats.ttest_ind(sample1, sample2)\n",
        "\n",
        "print(f\"t-statistic: {t_stat}\")\n",
        "print(f\"p-value: {p_value}\")\n",
        "\n",
        "# Determine the result\n",
        "alpha = 0.05\n",
        "if p_value < alpha:\n",
        "    print(\"Reject the null hypothesis. There is a significant difference between the population means.\")\n",
        "else:\n",
        "    print(\"Fail to reject the null hypothesis. There is not enough evidence to conclude that the population means are different.\")\n"
      ],
      "metadata": {
        "colab": {
          "base_uri": "https://localhost:8080/"
        },
        "id": "4aH3oB4NyoTs",
        "outputId": "dd5deb9d-bc3d-411c-d4da-71c58aebb7f3"
      },
      "execution_count": null,
      "outputs": [
        {
          "output_type": "stream",
          "name": "stdout",
          "text": [
            "t-statistic: 2.0383056083590216\n",
            "p-value: 0.04608766659289157\n",
            "Reject the null hypothesis. There is a significant difference between the population means.\n"
          ]
        }
      ]
    },
    {
      "cell_type": "markdown",
      "source": [
        "## Q11: What is Student’s t Distribution? When to Use the t-Distribution.\n",
        "\n",
        "###Student’s t Distribution:\n",
        "The Student’s t-distribution is a probability distribution used when estimating the mean of a normally distributed population in situations where the sample size is small, and the population standard deviation is unknown. It is similar to the normal distribution but has heavier tails, meaning it is more prone to producing values that fall far from its mean.\n",
        "\n",
        "###When to Use the t-Distribution:\n",
        "\n",
        "1. Small Sample Sizes: When the sample size (n) is less than 30.\n",
        "2. Unknown Population Standard Deviation: When the population standard deviation (σ) is unknown and has to be estimated from the sample data.\n",
        "3. Normal or Near-Normal Population Distribution: When the underlying population distribution is approximately normal.\n",
        "\n",
        "## Q12: What is t-Statistic? State the Formula for t-Statistic.\n",
        "\n",
        "### t-Statistic:\n",
        "The t-statistic is a ratio used in hypothesis testing to determine whether to reject the null hypothesis. It compares the difference between the sample mean and the population mean relative to the variability in the sample.\n",
        "\n",
        "Formula for t-Statistic:\n",
        "t = (X‾ - μ0) / (s / √n)\n",
        "\n",
        "Where\n",
        "- X‾ = Sample mean\n",
        "- 𝜇 = Population mean (under the null hypothesis)\n",
        "- s = Sample standard deviation\n",
        "- n = Sample size"
      ],
      "metadata": {
        "id": "WDKfrHOrzKoJ"
      }
    },
    {
      "cell_type": "code",
      "source": [],
      "metadata": {
        "id": "z-GQvAqpy3kX"
      },
      "execution_count": null,
      "outputs": []
    },
    {
      "cell_type": "markdown",
      "source": [
        "### Q13. A coffee shop owner wants to estimate the average daily revenue for their shop. They take a random sample of 50 days and find the sample mean revenue to be $500 with a standard deviation of $50. Estimate the population mean revenue with a 95% confidence interval.\n",
        "\n",
        "Given:\n",
        "- Sample size (n) = 50\n",
        "- Sample mean (xˉ) = $500\n",
        " - Standard deviation (s) = $50\n",
        "- Confidence level = 95%\n",
        "\n",
        "To estimate the population mean (μ) with a 95% confidence interval:"
      ],
      "metadata": {
        "id": "YjhkE-Am1HyG"
      }
    },
    {
      "cell_type": "code",
      "source": [
        "import numpy as np\n",
        "# given data\n",
        "sample_mean = 500\n",
        "sample_std = 50\n",
        "sample_size = 50\n",
        "confidence_level = 0.95\n",
        "\n",
        "# calculate the margin of error\n",
        "alpha = 1 - confidence_level\n",
        "z_critical = np.abs(stats.norm.ppf(alpha / 2)) # two-tailed test\n",
        "margin_of_error = z_critical * (sample_std / np.sqrt(sample_size))\n",
        "\n",
        "# Calculate the confidence interval\n",
        "confidence_interval = (sample_mean - margin_of_error, sample_mean + margin_of_error)\n",
        "\n",
        "print(f\"95% Confidence Interval for the population mean revenue: ${confidence_interval[0]:.2f} to ${confidence_interval[1]:.2f}\")"
      ],
      "metadata": {
        "colab": {
          "base_uri": "https://localhost:8080/"
        },
        "id": "7ZO0NZow1n_W",
        "outputId": "7763c7ae-e71b-4595-b01c-7901dc5f405d"
      },
      "execution_count": null,
      "outputs": [
        {
          "output_type": "stream",
          "name": "stdout",
          "text": [
            "95% Confidence Interval for the population mean revenue: $486.14 to $513.86\n"
          ]
        }
      ]
    },
    {
      "cell_type": "markdown",
      "source": [
        "### Q14. A researcher hypothesizes that a new drug will decrease blood pressure by 10 mmHg. They conduct a clinical trial with 100 patients and find that the sample mean decrease in blood pressure is 8 mmHg with a standard deviation of 3 mmHg. Test the hypothesis with a significance level of 0.05.\n",
        "\n",
        "Null Hypothesis (H0): The new drug does not decrease blood pressure by 10 mmHg.\n",
        "H0:μ=10\n",
        "\n",
        "Alternative Hypothesis (Ha):The new drug decreases blood pressure by less than 10 mmHg.\n",
        "𝐻𝑎:𝜇<10\n",
        "\n",
        "Given:\n",
        "- Sample mean (xˉ) = 8 mmHg\n",
        "- Standard deviation (s) = 3 mmHg\n",
        "- Sample size (n) = 100\n",
        "- Significance level (α) = 0.05\n",
        "\n",
        "Test Statistic Calculation:"
      ],
      "metadata": {
        "id": "JL0Qk1k53R2L"
      }
    },
    {
      "cell_type": "code",
      "source": [
        "import numpy as np\n",
        "import scipy.stats as stats\n",
        "\n",
        "# Given data\n",
        "sample_mean = 8\n",
        "population_mean = 10\n",
        "sample_std = 3\n",
        "n = 100\n",
        "alpha = 0.05\n",
        "\n",
        "# Calculate the t-statistic\n",
        "t_stat = (sample_mean - population_mean) / (sample_std / np.sqrt(n))\n",
        "\n",
        "# Calculate the p-value for a one-tailed test\n",
        "p_value = stats.t.cdf(t_stat, df=n-1)\n",
        "\n",
        "print(f\"t-statistic: {t_stat}\")\n",
        "print(f\"p-value: {p_value}\")\n",
        "\n",
        "# Decision based on p-value and significance level\n",
        "if p_value < alpha:\n",
        "    print(\"Reject the null hypothesis. There is significant evidence that the new drug decreases blood pressure by less than 10 mmHg.\")\n",
        "else:\n",
        "    print(\"Fail to reject the null hypothesis. There is not enough evidence to conclude that the new drug decreases blood pressure by less than 10 mmHg.\")\n"
      ],
      "metadata": {
        "id": "4D9ed84n3_7m",
        "colab": {
          "base_uri": "https://localhost:8080/"
        },
        "outputId": "1ac8ce46-9fc5-4947-f760-479d5782b9f9"
      },
      "execution_count": 1,
      "outputs": [
        {
          "output_type": "stream",
          "name": "stdout",
          "text": [
            "t-statistic: -6.666666666666667\n",
            "p-value: 7.506144504985108e-10\n",
            "Reject the null hypothesis. There is significant evidence that the new drug decreases blood pressure by less than 10 mmHg.\n"
          ]
        }
      ]
    },
    {
      "cell_type": "markdown",
      "source": [
        "## Q15. An electronics company produces a certain type of product with a mean weight of 5 pounds and a standard deviation of 0.5 pounds. A random sample of 25 products is taken, and the sample mean weight is found to be 4.8 pounds. Test the hypothesis that the true mean weight of the products is less than 5 pounds with a significance level of 0.01.\n",
        "\n",
        "Null Hypothesis (H0): The true mean weight of the products is 5 pounds or more. H0:μ≥5\n",
        "\n",
        "Alternative Hypothesis (Ha ):\n",
        "The true mean weight of the products is less than 5 pounds. Ha:μ<5\n",
        "\n",
        "Given:\n",
        "- Sample mean (xˉ) = 4.8 pounds\n",
        "- Standard deviation (σ) = 0.5 pounds\n",
        "- Sample size (n) = 25\n",
        "- Significance level (α) = 0.01\n",
        "\n",
        "Test Statistic Calculation:"
      ],
      "metadata": {
        "id": "X80zR36mKsQT"
      }
    },
    {
      "cell_type": "code",
      "source": [
        "# Given data\n",
        "sample_mean = 4.8\n",
        "population_mean = 5\n",
        "population_std = 0.5\n",
        "n = 25\n",
        "alpha = 0.01\n",
        "\n",
        "# Calculate the t-statistic\n",
        "t_stat = (sample_mean - population_mean) / (population_std / np.sqrt(n))\n",
        "\n",
        "# Calculate the p-value for a one-tailed test\n",
        "p_value = stats.t.cdf(t_stat, df=n-1)\n",
        "\n",
        "print(f\"t-statistic: {t_stat}\")\n",
        "print(f\"p-value: {p_value}\")\n",
        "\n",
        "# Decision based on p-value and significance level\n",
        "if p_value < alpha:\n",
        "    print(\"Reject the null hypothesis. There is significant evidence that the true mean weight of the products is less than 5 pounds.\")\n",
        "else:\n",
        "    print(\"Fail to reject the null hypothesis. There is not enough evidence to conclude that the true mean weight of the products is less than 5 pounds.\")\n"
      ],
      "metadata": {
        "colab": {
          "base_uri": "https://localhost:8080/"
        },
        "id": "s-hpE0g6Koud",
        "outputId": "8eea0af2-c9ca-43c8-a200-d52680f34a8a"
      },
      "execution_count": 2,
      "outputs": [
        {
          "output_type": "stream",
          "name": "stdout",
          "text": [
            "t-statistic: -2.0000000000000018\n",
            "p-value: 0.02846992496829572\n",
            "Fail to reject the null hypothesis. There is not enough evidence to conclude that the true mean weight of the products is less than 5 pounds.\n"
          ]
        }
      ]
    },
    {
      "cell_type": "markdown",
      "source": [
        "## Q16. Hypothesis Testing for Two Groups of Students Two groups of students are given different study materials. The first group (n1 = 30) has a mean score of 80 with a standard deviation of 10, and the second group (n2 = 40) has a mean score of 75 with a standard deviation of 8. Test the hypothesis that the population means for the two groups are equal with a significance level of 0.01.\n",
        "\n",
        "Null Hypothesis (H0):\n",
        "The population means for the two groups are equal.\n",
        "\n",
        "Alternative Hypothesis (Ha):\n",
        "The population means for the two groups are not equal.\n",
        "\n",
        "Given:\n",
        "\n",
        "- Group 1: n1=30, xˉ1=80, s1=10\n",
        "- Group 2: n2=40, xˉ2=75, s2=8\n",
        "- Significance level (α) = 0.01\n",
        "\n",
        "Test Statistic Calculation:"
      ],
      "metadata": {
        "id": "ZMmCl9dSLvyB"
      }
    },
    {
      "cell_type": "code",
      "source": [
        "# Given data\n",
        "mean1 = 80\n",
        "mean2 = 75\n",
        "std1 = 10\n",
        "std2 = 8\n",
        "n1 = 30\n",
        "n2 = 40\n",
        "alpha = 0.01\n",
        "\n",
        "# Calculate the pooled standard error\n",
        "pooled_std_error = np.sqrt((std1**2 / n1) + (std2**2 / n2))\n",
        "\n",
        "# Calculate the t-statistic\n",
        "t_stat = (mean1 - mean2) / pooled_std_error\n",
        "\n",
        "# Calculate the degrees of freedom\n",
        "df = n1 + n2 - 2\n",
        "\n",
        "# Calculate the p-value for a two-tailed test\n",
        "p_value = 2 * (1 - stats.t.cdf(np.abs(t_stat), df=df))\n",
        "\n",
        "print(f\"t-statistic: {t_stat}\")\n",
        "print(f\"p-value: {p_value}\")\n",
        "\n",
        "# Decision based on p-value and significance level\n",
        "if p_value < alpha:\n",
        "    print(\"Reject the null hypothesis. There is significant evidence that the population means for the two groups are not equal.\")\n",
        "else:\n",
        "    print(\"Fail to reject the null hypothesis. There is not enough evidence to conclude that the population means for the two groups are not equal.\")\n"
      ],
      "metadata": {
        "colab": {
          "base_uri": "https://localhost:8080/"
        },
        "id": "ckM8H0dlLrn0",
        "outputId": "42dc046c-fa46-4390-c369-3531778636f1"
      },
      "execution_count": 3,
      "outputs": [
        {
          "output_type": "stream",
          "name": "stdout",
          "text": [
            "t-statistic: 2.2511258444537408\n",
            "p-value: 0.027613480367697507\n",
            "Fail to reject the null hypothesis. There is not enough evidence to conclude that the population means for the two groups are not equal.\n"
          ]
        }
      ]
    },
    {
      "cell_type": "markdown",
      "source": [
        "## Q17. Estimating Population Mean with Confidence Interval A marketing company wants to estimate the average number of ads watched by viewers during a TV program. They take a random sample of 50 viewers and find that the sample mean is 4 with a standard deviation of 1.5. Estimate the population mean with a 99% confidence interval.\n",
        "\n",
        "Confidence Interval Calculation:"
      ],
      "metadata": {
        "id": "z6guGpK0NIxc"
      }
    },
    {
      "cell_type": "code",
      "source": [
        "# Given data\n",
        "sample_mean = 4\n",
        "sample_std = 1.5\n",
        "n = 50\n",
        "confidence_level = 0.99\n",
        "\n",
        "# Calculate the margin of error\n",
        "margin_of_error = stats.t.ppf((1 + confidence_level) / 2, df=n-1) * (sample_std / np.sqrt(n))\n",
        "\n",
        "# Calculate the confidence interval\n",
        "confidence_interval = (sample_mean - margin_of_error, sample_mean + margin_of_error)\n",
        "\n",
        "print(f\"99% confidence interval for the population mean: {confidence_interval}\")\n"
      ],
      "metadata": {
        "colab": {
          "base_uri": "https://localhost:8080/"
        },
        "id": "u7s3f-m7NEwV",
        "outputId": "dcc19435-b0c2-48bb-e672-dd0ab49e37ba"
      },
      "execution_count": 4,
      "outputs": [
        {
          "output_type": "stream",
          "name": "stdout",
          "text": [
            "99% confidence interval for the population mean: (3.4314963358572577, 4.568503664142742)\n"
          ]
        }
      ]
    },
    {
      "cell_type": "code",
      "source": [],
      "metadata": {
        "id": "dRc1VR4WNQkm"
      },
      "execution_count": null,
      "outputs": []
    }
  ]
}