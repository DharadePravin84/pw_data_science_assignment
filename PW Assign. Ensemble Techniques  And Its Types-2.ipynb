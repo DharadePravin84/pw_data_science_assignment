{
 "cells": [
  {
   "cell_type": "markdown",
   "id": "04123019-fb2b-412c-a79b-862d7237e4e5",
   "metadata": {},
   "source": [
    "### Q1. How does bagging reduce overfitting in decision trees?\n",
    "Ans:\n",
    "\n",
    "Bagging reduces overfitting in decision trees by training multiple trees on bootstrapped samples of the training data and then averaging their predictions. This process helps to reduce the variance in the model by introducing randomness and diversity among the trees."
   ]
  },
  {
   "cell_type": "markdown",
   "id": "a59272b9-353d-499d-a7fa-a0b8f438e1cc",
   "metadata": {},
   "source": [
    "### Q2. What are the advantages and disadvantages of using different types of base learners in bagging?\n",
    "Ans:\n",
    "\n",
    "Advantages of using different types of base learners in bagging include increased diversity in predictions, which can lead to improved generalization performance. Disadvantages may include increased computational complexity and potential difficulty in combining predictions from heterogeneous models."
   ]
  },
  {
   "cell_type": "markdown",
   "id": "8dd670e7-4fe5-4465-bac3-9a66643bd26d",
   "metadata": {},
   "source": [
    "### Q3. How does the choice of base learner affect the bias-variance tradeoff in bagging?\n",
    "Ans:\n",
    "\n",
    "The choice of base learner in bagging can affect the bias-variance tradeoff. Using base learners with low bias and high variance (e.g., decision trees) can lead to a reduction in bias without significantly increasing variance, resulting in a reduction in overall error."
   ]
  },
  {
   "cell_type": "markdown",
   "id": "64d8a574-4177-47ee-8ccc-4b2ee4eaf7ab",
   "metadata": {},
   "source": [
    "### Q4. Can bagging be used for both classification and regression tasks? How does it differ in each case?\n",
    "Ans:\n",
    "\n",
    " Yes, bagging can be used for both classification and regression tasks. In classification tasks, the final prediction is typically made by majority voting among the predictions of individual models. In regression tasks, the final prediction is often the average of the predictions from individual models."
   ]
  },
  {
   "cell_type": "markdown",
   "id": "c74b6931-9fc8-40a2-825e-af7ab46246b9",
   "metadata": {},
   "source": [
    "### Q5. What is the role of ensemble size in bagging? How many models should be included in the ensemble?\n",
    "Ans:\n",
    "\n",
    "The ensemble size in bagging refers to the number of models included in the ensemble. Generally, increasing the ensemble size can lead to improved performance up to a certain point. However, after reaching a certain threshold, adding more models may not significantly improve performance and may increase computational overhead. The optimal ensemble size depends on factors such as the complexity of the problem and the diversity of base learners."
   ]
  },
  {
   "cell_type": "markdown",
   "id": "8e9ef977-0af6-4155-b5ad-e59ffc01090e",
   "metadata": {},
   "source": [
    "Q6. Can you provide an example of a real-world application of bagging in machine learning?"
   ]
  },
  {
   "cell_type": "code",
   "execution_count": null,
   "id": "855a99a5-4115-4b6e-8247-a3624909d51e",
   "metadata": {},
   "outputs": [],
   "source": []
  }
 ],
 "metadata": {
  "kernelspec": {
   "display_name": "Python 3 (ipykernel)",
   "language": "python",
   "name": "python3"
  },
  "language_info": {
   "codemirror_mode": {
    "name": "ipython",
    "version": 3
   },
   "file_extension": ".py",
   "mimetype": "text/x-python",
   "name": "python",
   "nbconvert_exporter": "python",
   "pygments_lexer": "ipython3",
   "version": "3.10.8"
  }
 },
 "nbformat": 4,
 "nbformat_minor": 5
}
