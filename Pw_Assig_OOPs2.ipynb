{
  "nbformat": 4,
  "nbformat_minor": 0,
  "metadata": {
    "colab": {
      "provenance": []
    },
    "kernelspec": {
      "name": "python3",
      "display_name": "Python 3"
    },
    "language_info": {
      "name": "python"
    }
  },
  "cells": [
    {
      "cell_type": "markdown",
      "source": [],
      "metadata": {
        "id": "kxdL3HYT8Pez"
      }
    },
    {
      "cell_type": "markdown",
      "source": [
        "Q1. Which function is used to open a file? What are the different modes of opening a file? Explain each mode of file opening.\n",
        "\n",
        "Ans:\n",
        "In Python, the 'open()' function is used a file. It takes two parameters: the file path and the mode in which to open the file.\n",
        "\n",
        "The different modes of opening a file are:\n",
        "- 'r': Read mode. Opens the file for reading. If the file does not exist or cannot be opened, an error will occur.\n",
        "- 'w':Write mode. Opens the file to zero length.\n",
        "- 'a': Append mode. Opens the file for appending. If the file does not exist, it creates a new file. file exists, it truncates the file to zero length.\n",
        "- 'r+': Read/write mode. Opens the file for both reading and writing.\n",
        "- 'w+':Write/read mode. Opens the file for reading writing. If the file does not exisst, it creates a new file. If the file exists, it trucates the file to zero length.\n",
        "- 'a+':Append/read mode.Opens the file for both appending and reading.If the file does not exist, it creates a new file."
      ],
      "metadata": {
        "id": "qTb8ZtY98oji"
      }
    },
    {
      "cell_type": "markdown",
      "source": [
        "Q2. Why close() function is used? Why is it important to close a file?\n",
        "\n",
        "Ans: The close() function is used to close a file that has been opened using the open() function. It is important to close a file after performing operations on it because:\n",
        "\n",
        "- Closing a file releases the system resources associated with the file, such as memory and file descriptors.\n",
        "- It ensures that any buffered data is written to the file before closing, preventing data loss.\n",
        "- Failing to close a file can lead to resource leaks and may prevent other programs from accessing the file."
      ],
      "metadata": {
        "id": "Wyck_NMU8R4f"
      }
    },
    {
      "cell_type": "markdown",
      "source": [
        "Q3. Write a python program to create a text file. Write ‘I want to become a Data Scientist’ in that file. Then close the file. Open this file and read the content of the file.\n"
      ],
      "metadata": {
        "id": "9VZ5IL2x8VQN"
      }
    },
    {
      "cell_type": "code",
      "source": [
        "# creating a text file and writing content to it\n",
        "with open(\"sample.txt\", \"w\") as file:\n",
        "  file.write(\"I want to become a Data scientist\")\n",
        "\n",
        "# Opening the file and reading its content\n",
        "with open(\"sample.txt\",\"r\") as file:\n",
        "  content = file.read()\n",
        "  print(content)"
      ],
      "metadata": {
        "colab": {
          "base_uri": "https://localhost:8080/"
        },
        "id": "fB7sKFtZ8VxP",
        "outputId": "820d2b53-6daf-410d-f0c3-cb47d71ec460"
      },
      "execution_count": 4,
      "outputs": [
        {
          "output_type": "stream",
          "name": "stdout",
          "text": [
            "I want to become a Data scientist\n"
          ]
        }
      ]
    },
    {
      "cell_type": "markdown",
      "source": [
        "Q4. Explain the following with python code: read(), readline() and readlines().\n"
      ],
      "metadata": {
        "id": "3-dbmUpc8br2"
      }
    },
    {
      "cell_type": "code",
      "source": [
        "# read(): Reads the entire content of the file as a single string.\n",
        "with open(\"sample.txt\",\"r\") as file:\n",
        "  content = file.read()\n",
        "  print(content)\n",
        "\n",
        "print(\"-\"*35)\n",
        "\n",
        "# readline() : Reads a  single line from the file.\n",
        "with open(\"sample.txt\",\"r\") as file:\n",
        "  line = file.readline()\n",
        "  print(line)\n",
        "\n",
        "print(\"-\"*35)\n",
        "\n",
        "# readlines() : Reads all lines from the file and returns them as a list.\n",
        "with open(\"sample.txt\",\"r\") as file:\n",
        "  lines = file.readlines()\n",
        "  print(lines)"
      ],
      "metadata": {
        "colab": {
          "base_uri": "https://localhost:8080/"
        },
        "id": "f7JU88Gk8ene",
        "outputId": "a737afd7-819f-441e-868e-3b942d127a32"
      },
      "execution_count": 10,
      "outputs": [
        {
          "output_type": "stream",
          "name": "stdout",
          "text": [
            "I want to become a Data scientist\n",
            "-----------------------------------\n",
            "I want to become a Data scientist\n",
            "-----------------------------------\n",
            "['I want to become a Data scientist']\n"
          ]
        }
      ]
    },
    {
      "cell_type": "markdown",
      "source": [
        "Q5. Explain why with statement is used with open(). What is the advantage of using with statement and open() together?\n",
        "\n",
        "Ans:\n",
        "The 'with' statement in Python is used to ensure that clean-up actions are performed after working with a resource, such as a file. When used with 'Open()', the 'with' statements automatically close the file once the block of code is existed, ensuring that resources are properly released.\n",
        "\n",
        "The adavantage of using 'with' statement and 'open()' together is that it simplifies the code and ensures that the  file is closed even if an exception occures within the block."
      ],
      "metadata": {
        "id": "n98VZoDv8fS3"
      }
    },
    {
      "cell_type": "markdown",
      "source": [
        "Q6. Explain the write() and writelines() functions. Give a suitable example."
      ],
      "metadata": {
        "id": "h_cioJQx8jeI"
      }
    },
    {
      "cell_type": "code",
      "source": [
        "# 'write()' : Writes a string to the file.\n",
        "with open (\"sample.txt\",\"w\")as file:\n",
        "  file.write(\"Hello, world!\")"
      ],
      "metadata": {
        "id": "W3yGsv2iEvP2"
      },
      "execution_count": 11,
      "outputs": []
    },
    {
      "cell_type": "code",
      "source": [
        "# Writelines(): Writes a list of strings to the file.\n",
        "lines = [\"Line 1\\n\", \"Line 2\\n\", \"Line 3\\n\"]\n",
        "with open(\"sample.txt\",\"w\")as file:\n",
        "  file.writelines(lines)"
      ],
      "metadata": {
        "id": "DesaECJX8kPM"
      },
      "execution_count": 12,
      "outputs": []
    },
    {
      "cell_type": "code",
      "source": [],
      "metadata": {
        "id": "xE1QmdvMFhAY"
      },
      "execution_count": null,
      "outputs": []
    }
  ]
}