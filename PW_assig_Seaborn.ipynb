{
 "cells": [
  {
   "cell_type": "markdown",
   "id": "2038a819-5b43-4863-84df-8c965346760c",
   "metadata": {},
   "source": [
    "Que 1: Name any five plots that we can plot using the Seaborn library. Also, state the uses of each plot.\n",
    "- Ans: \n",
    "1. Scatter Plot:\n",
    "- Use: To visualize the relationship between two numerical variables.\n",
    "- Function: 'seaborn.scatterplot()'\n",
    "- Example: It can be used to show how two variables are correlated, helping to identify patterns, clusters, or trends in the data.\n",
    "2. Histogram:\n",
    "- Use: Represent the distribution of a single numerical variable.\n",
    "- Function: 'seaborn.histplot()'\n",
    "- Example: Helpful in understanding the spread and central tendency of a dataset, providing insights into the frequency of different value ranges.\n",
    "3. Line Plot:\n",
    "- Use: Display the trend of a numerical variable over another dimension, typically time.\n",
    "- Function: 'seaborn.lineplot()'\n",
    "- Example: Useful for showing trends or patterns in time-series data, such as stock prices over time.\n",
    "4. Bar Plot:\n",
    "- Use: Compare values of a categorical variable across different groups or levels.\n",
    "- Function: 'seaborn.barplot()'\n",
    "- Example: Useful for visualizing the average value of a numerical variable for different categories, like comparing the average sales across different product categories.\n",
    "5. Heatmap:\n",
    "- Use: Display the matrix-like plot of numeric values in a dataset.\n",
    "- Function: seaborn.heatmap()\n",
    "- Example: Commonly used for visualizing correlation matrices, but can also be applied to any situation where a grid of values needs to be represented, such as confusion matrices in machine learning."
   ]
  },
  {
   "cell_type": "markdown",
   "id": "b27904b5-3583-4da9-ac4e-2e811cce51b9",
   "metadata": {},
   "source": [
    "Que 2: Load the \"fmri\" dataset using the load_dataset function of seaborn. Plot a line plot using x =\"timepoint\" and y = \"signal\" for different events and regions.\n",
    "Note: timepoint, signal, event, and region are columns in the fmri dataset."
   ]
  },
  {
   "cell_type": "code",
   "execution_count": null,
   "id": "8df2068c-dbf0-4c76-81f2-0e41f9bd152e",
   "metadata": {},
   "outputs": [],
   "source": [
    "import seaborn as sns\n",
    "import matplotlib.pyplot as plt\n",
    "\n",
    "# Load the \"fmri\" dataset\n",
    "fmri_data = sns.load_dataset(\"fmri\")\n",
    "\n",
    "# Create a line plot\n",
    "sns.lineplot(x=\"timepoint\", y=\"signal\", hue=\"event\", style=\"region\", data=fmri_data)\n",
    "\n",
    "# Show the plot\n",
    "plt.show()\n"
   ]
  },
  {
   "cell_type": "code",
   "execution_count": null,
   "id": "355b2ec0-61b1-4d2f-a962-46bf8a668942",
   "metadata": {},
   "outputs": [],
   "source": [
    "sns.lineplot(x=\"timepoint\", y=\"signal\", hue=\"event\", style=\"region\", data=fmri_data)\n",
    "\n",
    "# Set plot title and labels\n",
    "plt.title(\"FMRI Signal Over Time for Different Events and Regions\")\n",
    "plt.xlabel(\"Timepoint\")\n",
    "plt.ylabel(\"Signal\")\n",
    "\n",
    "# Show the plot\n",
    "plt.show()\n"
   ]
  },
  {
   "cell_type": "markdown",
   "id": "c489acca-f1a9-430a-8fc4-b677d87f8c3c",
   "metadata": {},
   "source": [
    "Que 3: Load the \"titanic\" dataset using the load_dataset function of seaborn. Plot two box plots using x ='pclass', y = 'age' and y = 'fare'.\n",
    "Note: pclass, age, and fare are columns in the titanic dataset."
   ]
  },
  {
   "cell_type": "code",
   "execution_count": null,
   "id": "97752c22-c488-4551-b2fd-493781c9c9ed",
   "metadata": {},
   "outputs": [],
   "source": [
    "import seaborn as sns\n",
    "import matplotlib.pyplot as plt\n",
    "\n",
    "# Load the \"titanic\" dataset\n",
    "titanic_data = sns.load_dataset(\"titanic\")\n",
    "\n",
    "# Create two box plots\n",
    "plt.figure(figsize=(12, 6))\n",
    "\n",
    "# Box plot for 'age'\n",
    "plt.subplot(1, 2, 1)\n",
    "sns.boxplot(x='pclass', y='age', data=titanic_data)\n",
    "plt.title('Box Plot of Age by Pclass')\n",
    "\n",
    "# Box plot for 'fare'\n",
    "plt.subplot(1, 2, 2)\n",
    "sns.boxplot(x='pclass', y='fare', data=titanic_data)\n",
    "plt.title('Box Plot of Fare by Pclass')\n",
    "\n",
    "# Adjust layout\n",
    "plt.tight_layout()\n",
    "\n",
    "# Show the plots\n",
    "plt.show()\n"
   ]
  },
  {
   "cell_type": "markdown",
   "id": "715f3816-474c-4d5e-8ba9-a27428a9ec8a",
   "metadata": {},
   "source": [
    "Que 4: Use the \"diamonds\" dataset from seaborn to plot a histogram for the 'price' column. Use the hue parameter for the 'cut' column of the diamonds dataset."
   ]
  },
  {
   "cell_type": "code",
   "execution_count": null,
   "id": "29ff040a-6e0d-4719-9546-86662558fa78",
   "metadata": {},
   "outputs": [],
   "source": [
    "import seaborn as sns\n",
    "import matplotlib.pyplot as plt\n",
    "\n",
    "# Load the \"diamonds\" dataset\n",
    "diamonds_data = sns.load_dataset(\"diamonds\")\n",
    "\n",
    "# Plot a histogram with hue for 'cut'\n",
    "sns.histplot(x='price', hue='cut', data=diamonds_data, kde=True)\n",
    "\n",
    "# Set plot title and labels\n",
    "plt.title('Histogram of Diamond Prices by Cut')\n",
    "plt.xlabel('Price')\n",
    "plt.ylabel('Frequency')\n",
    "\n",
    "# Show the plot\n",
    "plt.show()\n"
   ]
  },
  {
   "cell_type": "markdown",
   "id": "8db6f636-be68-4076-a84b-e07ddd822f76",
   "metadata": {},
   "source": [
    "Que 5: Use the \"iris\" dataset from seaborn to plot a pair plot. Use the hue parameter for the \"species\" column of the iris dataset."
   ]
  },
  {
   "cell_type": "code",
   "execution_count": null,
   "id": "fb95bafc-f4d7-4e3a-8c6b-febb8b3bafda",
   "metadata": {},
   "outputs": [],
   "source": [
    "import seaborn as sns\n",
    "import matplotlib.pyplot as plt\n",
    "\n",
    "# Load the \"iris\" dataset\n",
    "iris_data = sns.load_dataset(\"iris\")\n",
    "\n",
    "# Plot a pair plot with hue for 'species'\n",
    "sns.pairplot(iris_data, hue='species')\n",
    "\n",
    "# Show the plot\n",
    "plt.show()"
   ]
  },
  {
   "cell_type": "markdown",
   "id": "844d3aa2-693b-48df-8223-087bb6b68a14",
   "metadata": {},
   "source": [
    "Que 6: Use the \"flights\" dataset from seaborn to plot a heatmap."
   ]
  },
  {
   "cell_type": "code",
   "execution_count": null,
   "id": "f26058e8-3591-4dc1-8f01-cb53de8304bc",
   "metadata": {},
   "outputs": [],
   "source": [
    "import seaborn as sns\n",
    "import matplotlib.pyplot as plt\n",
    "\n",
    "# Load the \"flights\" dataset\n",
    "flights_data = sns.load_dataset(\"flights\")\n",
    "\n",
    "# Pivot the data to create a matrix suitable for a heatmap\n",
    "flights_matrix = flights_data.pivot_table(index='month', columns='year', values='passengers')\n",
    "\n",
    "# Plot a heatmap\n",
    "sns.heatmap(flights_matrix, cmap='YlGnBu', annot=True, fmt='d', linewidths=.5)\n",
    "\n",
    "# Set plot title and labels\n",
    "plt.title('Passenger Counts by Month and Year')\n",
    "plt.xlabel('Year')\n",
    "plt.ylabel('Month')\n",
    "\n",
    "# Show the plot\n",
    "plt.show()\n"
   ]
  },
  {
   "cell_type": "code",
   "execution_count": null,
   "id": "15f83b52-4a76-44bb-825a-5542c3df6611",
   "metadata": {},
   "outputs": [],
   "source": []
  }
 ],
 "metadata": {
  "kernelspec": {
   "display_name": "Python 3 (ipykernel)",
   "language": "python",
   "name": "python3"
  },
  "language_info": {
   "codemirror_mode": {
    "name": "ipython",
    "version": 3
   },
   "file_extension": ".py",
   "mimetype": "text/x-python",
   "name": "python",
   "nbconvert_exporter": "python",
   "pygments_lexer": "ipython3",
   "version": "3.10.8"
  }
 },
 "nbformat": 4,
 "nbformat_minor": 5
}
