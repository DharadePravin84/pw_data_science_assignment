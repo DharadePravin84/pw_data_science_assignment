{
  "nbformat": 4,
  "nbformat_minor": 0,
  "metadata": {
    "colab": {
      "provenance": []
    },
    "kernelspec": {
      "name": "python3",
      "display_name": "Python 3"
    },
    "language_info": {
      "name": "python"
    }
  },
  "cells": [
    {
      "cell_type": "markdown",
      "source": [
        "Q1. What is the difference between Ordinal Encoding and Label Encoding? Provide an example of when you might choose one over the other.\n",
        "\n",
        "Label Encoding assigns a unique integer to each category in a categorical variable without considering any order. This method is suitable for nominal (unordered) categorical variables.\n",
        "\n",
        "Ordinal Encoding also assigns unique integers to categories but considers the order of the categories. This method is suitable for ordinal (ordered) categorical variables.\n",
        "\n",
        "Example:\n",
        "\n",
        "Label Encoding:\n",
        "Variable: Color (red, green, blue)\n",
        "Encoded: red -> 0, green -> 1, blue -> 2\n",
        "\n",
        "Ordinal Encoding:\n",
        "Variable: Size (small, medium, large)\n",
        "Encoded: small -> 0, medium -> 1, large -> 2\n",
        "\n",
        "When to Choose:\n",
        "\n",
        "Label Encoding: When the categorical variable is nominal, e.g., color of a car (red, green, blue).\n",
        "\n",
        "Ordinal Encoding: When the categorical variable is ordinal, e.g., rating of a product (poor, average, excellent)."
      ],
      "metadata": {
        "id": "YcYcfocwt8sC"
      }
    },
    {
      "cell_type": "markdown",
      "source": [
        "Q2. Explain how Target Guided Ordinal Encoding works and provide an example of when you might use it in a machine learning project.\n",
        "\n",
        "Target Guided Ordinal Encoding assigns ordinal labels to categories based on the relationship between the category and the target variable. The categories are sorted according to the mean (or median) of the target variable, and then ordinal labels are assigned.\n",
        "\n",
        "Example:\n",
        "\n"
      ],
      "metadata": {
        "id": "UdvO7KE0uav0"
      }
    },
    {
      "cell_type": "code",
      "source": [
        "import pandas as pd\n",
        "\n",
        "# Sample data\n",
        "data = {\n",
        "    'Neighborhood': ['A', 'B', 'C', 'A', 'C', 'B', 'A', 'B', 'C'],\n",
        "    'Price': [250000, 300000, 400000, 260000, 390000, 310000, 255000, 305000, 405000]\n",
        "}\n",
        "\n",
        "df = pd.DataFrame(data)\n",
        "\n",
        "# Display the data\n",
        "print(\"Original DataFrame:\")\n",
        "print(df)\n",
        "\n",
        "# Calculate the mean price for each neighborhood\n",
        "mean_prices = df.groupby('Neighborhood')['Price'].mean()\n",
        "\n",
        "# Order neighborhoods by mean price\n",
        "mean_prices = mean_prices.sort_values()\n",
        "\n",
        "# Create a mapping of neighborhood to ordinal value based on mean price\n",
        "ordinal_mapping = {neighborhood: idx for idx, neighborhood in enumerate(mean_prices.index, 1)}\n",
        "\n",
        "# Apply the mapping to the DataFrame\n",
        "df['Neighborhood_Ordinal'] = df['Neighborhood'].map(ordinal_mapping)\n",
        "\n",
        "# Display the transformed DataFrame\n",
        "print(\"\\nTransformed DataFrame with Target Guided Ordinal Encoding:\")\n",
        "print(df)\n"
      ],
      "metadata": {
        "colab": {
          "base_uri": "https://localhost:8080/"
        },
        "id": "jTBYj1kkuZ5w",
        "outputId": "276c32a4-81c9-4e1d-e35b-5c23e9fc82a5"
      },
      "execution_count": 2,
      "outputs": [
        {
          "output_type": "stream",
          "name": "stdout",
          "text": [
            "Original DataFrame:\n",
            "  Neighborhood   Price\n",
            "0            A  250000\n",
            "1            B  300000\n",
            "2            C  400000\n",
            "3            A  260000\n",
            "4            C  390000\n",
            "5            B  310000\n",
            "6            A  255000\n",
            "7            B  305000\n",
            "8            C  405000\n",
            "\n",
            "Transformed DataFrame with Target Guided Ordinal Encoding:\n",
            "  Neighborhood   Price  Neighborhood_Ordinal\n",
            "0            A  250000                     1\n",
            "1            B  300000                     2\n",
            "2            C  400000                     3\n",
            "3            A  260000                     1\n",
            "4            C  390000                     3\n",
            "5            B  310000                     2\n",
            "6            A  255000                     1\n",
            "7            B  305000                     2\n",
            "8            C  405000                     3\n"
          ]
        }
      ]
    },
    {
      "cell_type": "markdown",
      "source": [
        "Q3. Define covariance and explain why it is important in statistical analysis. How is covariance calculated?\n",
        "\n",
        "Covariance measures the degree to which two variables change together. It indicates whether an increase in one variable tends to be associated with an increase or decrease in another variable.\n",
        "\n",
        "- Positive Covariance: Indicates that the variables increase together.\n",
        "- Negative Covariance: Indicates that one variable increases as the other decreases.\n",
        "\n",
        "Importance: Covariance is important because it helps understand the relationship between variables and is a key component in the calculation of correlation and in constructing the covariance matrix for multivariate analysis."
      ],
      "metadata": {
        "id": "6kpcJYIJwR9a"
      }
    },
    {
      "cell_type": "markdown",
      "source": [
        "Q4. For a dataset with the following categorical variables: Color (red, green, blue), Size (small, medium, large), and Material (wood, metal, plastic), perform label encoding using Python's scikit-learn library. Show your code and explain the output."
      ],
      "metadata": {
        "id": "GrFrRNP-wfF9"
      }
    },
    {
      "cell_type": "code",
      "source": [
        "import pandas as pd\n",
        "from sklearn.preprocessing import LabelEncoder\n",
        "\n",
        "# Sample dataset\n",
        "data = {\n",
        "    'Color': ['red', 'green', 'blue', 'green', 'red'],\n",
        "    'Size': ['small', 'medium', 'large', 'small', 'large'],\n",
        "    'Material': ['wood', 'metal', 'plastic', 'wood', 'metal']\n",
        "}\n",
        "df = pd.DataFrame(data)\n",
        "\n",
        "# Initialize label encoders\n",
        "le_color = LabelEncoder()\n",
        "le_size = LabelEncoder()\n",
        "le_material = LabelEncoder()\n",
        "\n",
        "# Fit and transform the data\n",
        "df['Color_encoded'] = le_color.fit_transform(df['Color'])\n",
        "df['Size_encoded'] = le_size.fit_transform(df['Size'])\n",
        "df['Material_encoded'] = le_material.fit_transform(df['Material'])\n",
        "\n",
        "print(df)\n"
      ],
      "metadata": {
        "colab": {
          "base_uri": "https://localhost:8080/"
        },
        "id": "r8wJy7FkvaVa",
        "outputId": "099d4656-c65e-44a8-a2d9-7106e6a1722d"
      },
      "execution_count": 3,
      "outputs": [
        {
          "output_type": "stream",
          "name": "stdout",
          "text": [
            "   Color    Size Material  Color_encoded  Size_encoded  Material_encoded\n",
            "0    red   small     wood              2             2                 2\n",
            "1  green  medium    metal              1             1                 0\n",
            "2   blue   large  plastic              0             0                 1\n",
            "3  green   small     wood              1             2                 2\n",
            "4    red   large    metal              2             0                 0\n"
          ]
        }
      ]
    },
    {
      "cell_type": "markdown",
      "source": [
        "Q5. Calculate the covariance matrix for the following variables in a dataset: Age, Income, and Education level. Interpret the results."
      ],
      "metadata": {
        "id": "972R0h8rwkz3"
      }
    },
    {
      "cell_type": "code",
      "source": [
        "import numpy as np\n",
        "\n",
        "# Sample data\n",
        "data = {\n",
        "    'Age': [25, 32, 47, 51, 62],\n",
        "    'Income': [50000, 60000, 120000, 100000, 110000],\n",
        "    'Education': [12, 16, 16, 18, 14]\n",
        "}\n",
        "df = pd.DataFrame(data)\n",
        "\n",
        "# Covariance matrix\n",
        "cov_matrix = df.cov()\n",
        "print(cov_matrix)\n"
      ],
      "metadata": {
        "colab": {
          "base_uri": "https://localhost:8080/"
        },
        "id": "ljnGC0GNwhue",
        "outputId": "ada44a63-6652-4404-d22c-1f156cf03709"
      },
      "execution_count": 4,
      "outputs": [
        {
          "output_type": "stream",
          "name": "stdout",
          "text": [
            "                Age       Income  Education\n",
            "Age           221.3     408500.0       12.9\n",
            "Income     408500.0  970000000.0    33000.0\n",
            "Education      12.9      33000.0        5.2\n"
          ]
        }
      ]
    },
    {
      "cell_type": "markdown",
      "source": [
        "Q6. You are working on a machine learning project with a dataset containing several categorical variables, including \"Gender\" (Male/Female), \"Education Level\" (High School/Bachelor's/Master's/PhD), and \"Employment Status\" (Unemployed/Part-Time/Full-Time). Which encoding method would you use for each variable, and why?\n",
        "\n",
        "\n",
        "Gender: Label Encoding or One-Hot Encoding\n",
        "\n",
        "Reason: Gender has only two categories, so label encoding can be efficient. One-hot encoding can be used if there is a need to avoid ordinal relationships.\n",
        "\n",
        "Education Level: Ordinal Encoding\n",
        "\n",
        "Reason: Education levels have a natural order, making ordinal encoding suitable.\n",
        "\n",
        "Employment Status: One-Hot Encoding\n",
        "\n",
        "Reason: Employment status categories have no natural order, so one-hot encoding is appropriate to avoid implying any ordinal relationship."
      ],
      "metadata": {
        "id": "BkM3MLqUwtPJ"
      }
    },
    {
      "cell_type": "markdown",
      "source": [
        "Q7. You are analyzing a dataset with two continuous variables, \"Temperature\" and \"Humidity\", and two categorical variables, \"Weather Condition\" (Sunny/Cloudy/Rainy) and \"Wind Direction\" (North/South/East/West). Calculate the covariance between each pair of variables and interpret the results."
      ],
      "metadata": {
        "id": "_9Q8zbLYw780"
      }
    },
    {
      "cell_type": "code",
      "source": [
        "# Sample data\n",
        "data = {\n",
        "    'Temperature': [20, 22, 23, 21, 19],\n",
        "    'Humidity': [30, 35, 33, 31, 29],\n",
        "    'Weather': ['Sunny', 'Cloudy', 'Rainy', 'Sunny', 'Cloudy'],\n",
        "    'Wind': ['North', 'South', 'East', 'West', 'North']\n",
        "}\n",
        "df = pd.DataFrame(data)\n",
        "\n",
        "# Covariance matrix for continuous variables\n",
        "cov_matrix = df[['Temperature', 'Humidity']].cov()\n",
        "print(cov_matrix)\n"
      ],
      "metadata": {
        "colab": {
          "base_uri": "https://localhost:8080/"
        },
        "id": "hNP7VLMTwpYx",
        "outputId": "0a7c788d-bdac-4dec-beec-f0c075b9b454"
      },
      "execution_count": 5,
      "outputs": [
        {
          "output_type": "stream",
          "name": "stdout",
          "text": [
            "             Temperature  Humidity\n",
            "Temperature         2.50      3.25\n",
            "Humidity            3.25      5.80\n"
          ]
        }
      ]
    }
  ]
}