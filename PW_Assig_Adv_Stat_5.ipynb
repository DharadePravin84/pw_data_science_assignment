{
  "nbformat": 4,
  "nbformat_minor": 0,
  "metadata": {
    "colab": {
      "provenance": []
    },
    "kernelspec": {
      "name": "python3",
      "display_name": "Python 3"
    },
    "language_info": {
      "name": "python"
    }
  },
  "cells": [
    {
      "cell_type": "markdown",
      "source": [
        "Q1: Calculate the 95% confidence interval for a sample of data with a mean of 50 and a standard deviation of 5 using Python. Interpret the results."
      ],
      "metadata": {
        "id": "UA4Pj1tdMF8A"
      }
    },
    {
      "cell_type": "code",
      "source": [
        "import scipy.stats as stats\n",
        "import math\n",
        "\n",
        "# Given values\n",
        "mean = 50\n",
        "std_dev = 5\n",
        "sample_size = 100 # Assuming\n",
        "confidence_level = 0.95\n",
        "\n",
        "# Calculate the z-score for the 95%\n",
        "z_score = stats.norm.ppf((1+confidence_level)/2)\n",
        "\n",
        "# Calculate the margine of error\n",
        "margin_of_error = z_score * (std_dev / math.sqrt(sample_size))\n",
        "\n",
        "# Calculate the confidence interval\n",
        "confidence_interval = (mean - margin_of_error, mean + margin_of_error)\n",
        "\n",
        "print(\"Confidence Interval:\", confidence_interval)"
      ],
      "metadata": {
        "colab": {
          "base_uri": "https://localhost:8080/"
        },
        "id": "Xz9XPqW8MG8R",
        "outputId": "1ae0df53-749e-4211-b2dd-a0a8ffed23b3"
      },
      "execution_count": 2,
      "outputs": [
        {
          "output_type": "stream",
          "name": "stdout",
          "text": [
            "Confidence Interval: (49.02001800772997, 50.97998199227003)\n"
          ]
        }
      ]
    },
    {
      "cell_type": "markdown",
      "source": [
        "Q2: Conduct a chi-square goodness of fit test to determine if the distribution of colors of M&Ms in a bag matches the expected distribution using Python."
      ],
      "metadata": {
        "id": "RPn8qvfUNU4M"
      }
    },
    {
      "cell_type": "code",
      "source": [
        "import scipy.stats as stats\n",
        "\n",
        "# Observed counts\n",
        "observed_counts = [25, 30, 20, 10, 15, 20]\n",
        "\n",
        "# Expected counts based on the expected distribution percentages\n",
        "total_count = sum(observed_counts)\n",
        "expected_distribution = [0.20, 0.20, 0.20, 0.10, 0.10, 0.20]\n",
        "expected_counts = [total_count * p for p in expected_distribution]\n",
        "\n",
        "# Perform the chi-square goodness of fit test\n",
        "chi2_stat, p_value = stats.chisquare(f_obs=observed_counts, f_exp=expected_counts)\n",
        "\n",
        "print(f\"Chi-square Statistic: {chi2_stat}\")\n",
        "print(f\"P-value: {p_value}\")\n",
        "\n",
        "# Determine if we reject the null hypothesis\n",
        "alpha = 0.05\n",
        "if p_value < alpha:\n",
        "    print(\"Reject the null hypothesis: The distribution of colors does not match the expected distribution.\")\n",
        "else:\n",
        "    print(\"Fail to reject the null hypothesis: The distribution of colors matches the expected distribution.\")\n"
      ],
      "metadata": {
        "colab": {
          "base_uri": "https://localhost:8080/"
        },
        "id": "5jjcgTxgNLEc",
        "outputId": "7ea6935f-b58d-4ca8-a891-6e67175b9cd2"
      },
      "execution_count": 3,
      "outputs": [
        {
          "output_type": "stream",
          "name": "stdout",
          "text": [
            "Chi-square Statistic: 3.9583333333333335\n",
            "P-value: 0.5554304329530974\n",
            "Fail to reject the null hypothesis: The distribution of colors matches the expected distribution.\n"
          ]
        }
      ]
    },
    {
      "cell_type": "markdown",
      "source": [
        "Q3: Use Python to calculate the chi-square statistic and p-value for a contingency table."
      ],
      "metadata": {
        "id": "zaREo1FzNePL"
      }
    },
    {
      "cell_type": "code",
      "source": [
        "import numpy as np\n",
        "\n",
        "# Create the contingency table\n",
        "contingency_table = np.array([[20, 15], [10, 25], [15, 20]])\n",
        "\n",
        "# Perform the chi-square test of independence\n",
        "chi2_stat, p_value, dof, expected = stats.chi2_contingency(contingency_table)\n",
        "\n",
        "print(f\"Chi-square Statistic: {chi2_stat}\")\n",
        "print(f\"P-value: {p_value}\")\n",
        "print(f\"Degrees of Freedom: {dof}\")\n",
        "print(f\"Expected Frequencies: \\n{expected}\")\n",
        "\n",
        "# Determine if we reject the null hypothesis\n",
        "alpha = 0.05\n",
        "if p_value < alpha:\n",
        "    print(\"Reject the null hypothesis: There is a significant association between the groups and outcomes.\")\n",
        "else:\n",
        "    print(\"Fail to reject the null hypothesis: There is no significant association between the groups and outcomes.\")\n"
      ],
      "metadata": {
        "colab": {
          "base_uri": "https://localhost:8080/"
        },
        "id": "DtpRhJO_NXH2",
        "outputId": "6cd9e482-b1cb-4fef-b5a4-1e45457f6ff5"
      },
      "execution_count": 4,
      "outputs": [
        {
          "output_type": "stream",
          "name": "stdout",
          "text": [
            "Chi-square Statistic: 5.833333333333334\n",
            "P-value: 0.05411376622282158\n",
            "Degrees of Freedom: 2\n",
            "Expected Frequencies: \n",
            "[[15. 20.]\n",
            " [15. 20.]\n",
            " [15. 20.]]\n",
            "Fail to reject the null hypothesis: There is no significant association between the groups and outcomes.\n"
          ]
        }
      ]
    },
    {
      "cell_type": "markdown",
      "source": [
        "Q4: Calculate the 95% confidence interval for the true proportion of individuals in the population who smoke."
      ],
      "metadata": {
        "id": "cv2g7TKMNkST"
      }
    },
    {
      "cell_type": "code",
      "source": [
        "import math\n",
        "import scipy.stats as stats\n",
        "\n",
        "# Given values\n",
        "n = 500\n",
        "smokers = 60\n",
        "p_hat = smokers / n\n",
        "confidence_level = 0.95\n",
        "\n",
        "# Calculate the z-score for the 95% confidence level\n",
        "z_score = stats.norm.ppf((1 + confidence_level) / 2)\n",
        "\n",
        "# Calculate the margin of error\n",
        "margin_of_error = z_score * math.sqrt((p_hat * (1 - p_hat)) / n)\n",
        "\n",
        "# Calculate the confidence interval\n",
        "confidence_interval = (p_hat - margin_of_error, p_hat + margin_of_error)\n",
        "\n",
        "print(f\"95% Confidence Interval: {confidence_interval}\")\n"
      ],
      "metadata": {
        "colab": {
          "base_uri": "https://localhost:8080/"
        },
        "id": "JC_PO-JdNhj4",
        "outputId": "afdce768-57c2-4be1-97db-84fda3951aa9"
      },
      "execution_count": 5,
      "outputs": [
        {
          "output_type": "stream",
          "name": "stdout",
          "text": [
            "95% Confidence Interval: (0.09151638887130707, 0.1484836111286929)\n"
          ]
        }
      ]
    },
    {
      "cell_type": "markdown",
      "source": [
        "Q5: Calculate the 90% confidence interval for a sample of data with a mean of 75 and a standard deviation of 12."
      ],
      "metadata": {
        "id": "TLPLiXDdNp9G"
      }
    },
    {
      "cell_type": "code",
      "source": [
        "# Given values\n",
        "mean = 75\n",
        "std_dev = 12\n",
        "confidence_level = 0.90\n",
        "sample_size = 100\n",
        "\n",
        "# Calculate the z-score for the 90% confidence level\n",
        "z_score = stats.norm.ppf((1 + confidence_level) / 2)\n",
        "\n",
        "# Calculate the margin of error\n",
        "margin_of_error = z_score * (std_dev / math.sqrt(sample_size))\n",
        "\n",
        "# Calculate the confidence interval\n",
        "confidence_interval = (mean - margin_of_error, mean + margin_of_error)\n",
        "\n",
        "print(f\"90% Confidence Interval: {confidence_interval}\")\n"
      ],
      "metadata": {
        "colab": {
          "base_uri": "https://localhost:8080/"
        },
        "id": "9XoXEjClNmwe",
        "outputId": "c08c4fa8-d6e0-4624-ffb9-2cbae8f5b198"
      },
      "execution_count": 6,
      "outputs": [
        {
          "output_type": "stream",
          "name": "stdout",
          "text": [
            "90% Confidence Interval: (73.02617564765823, 76.97382435234177)\n"
          ]
        }
      ]
    },
    {
      "cell_type": "markdown",
      "source": [
        "Q6: Use Python to plot the chi-square distribution with 10 degrees of freedom. Label the axes and shade the area corresponding to a chi-square statistic of 15."
      ],
      "metadata": {
        "id": "LAVOx6M6NvJ5"
      }
    },
    {
      "cell_type": "code",
      "source": [
        "import numpy as np\n",
        "import matplotlib.pyplot as plt\n",
        "\n",
        "# Given values\n",
        "df = 10\n",
        "chi2_stat = 15\n",
        "\n",
        "# Generate the chi-square distribution\n",
        "x = np.linspace(0, 30, 1000)\n",
        "y = stats.chi2.pdf(x, df)\n",
        "\n",
        "# Plot the chi-square distribution\n",
        "plt.plot(x, y, label='Chi-square Distribution')\n",
        "plt.fill_between(x, y, where=(x <= chi2_stat), color='gray', alpha=0.5, label=f'Chi-square stat = {chi2_stat}')\n",
        "plt.title('Chi-square Distribution with 10 degrees of freedom')\n",
        "plt.xlabel('Chi-square value')\n",
        "plt.ylabel('Probability density')\n",
        "plt.legend()\n",
        "plt.show()\n"
      ],
      "metadata": {
        "colab": {
          "base_uri": "https://localhost:8080/",
          "height": 472
        },
        "id": "JDptIJSxNtOy",
        "outputId": "eba3bb0f-6965-49fa-8c6c-994afa464c1b"
      },
      "execution_count": 7,
      "outputs": [
        {
          "output_type": "display_data",
          "data": {
            "text/plain": [
              "<Figure size 640x480 with 1 Axes>"
            ],
            "image/png": "[encoded data removed]"
          },
          "metadata": {}
        }
      ]
    },
    {
      "cell_type": "markdown",
      "source": [
        "Q7: Calculate a 99% confidence interval for the true proportion of people in the population who prefer Coke.\n"
      ],
      "metadata": {
        "id": "NqXtLAOROgRJ"
      }
    },
    {
      "cell_type": "code",
      "source": [
        "# Given values\n",
        "n = 1000\n",
        "prefer_coke = 520\n",
        "p_hat = prefer_coke / n\n",
        "confidence_level = 0.99\n",
        "\n",
        "# Calculate the z-score for the 99% confidence level\n",
        "z_score = stats.norm.ppf((1 + confidence_level) / 2)\n",
        "\n",
        "# Calculate the margin of error\n",
        "margin_of_error = z_score * math.sqrt((p_hat * (1 - p_hat)) / n)\n",
        "\n",
        "# Calculate the confidence interval\n",
        "confidence_interval = (p_hat - margin_of_error, p_hat + margin_of_error)\n",
        "\n",
        "print(f\"99% Confidence Interval: {confidence_interval}\")\n"
      ],
      "metadata": {
        "colab": {
          "base_uri": "https://localhost:8080/"
        },
        "id": "36ONp6vdOeVf",
        "outputId": "3986e348-8ab0-4072-eea2-664f2a76833f"
      },
      "execution_count": 8,
      "outputs": [
        {
          "output_type": "stream",
          "name": "stdout",
          "text": [
            "99% Confidence Interval: (0.4793051576779699, 0.5606948423220302)\n"
          ]
        }
      ]
    },
    {
      "cell_type": "markdown",
      "source": [
        "Q8: Conduct a chi-square goodness of fit test for a coin flip biased towards tails."
      ],
      "metadata": {
        "id": "XgqM40n-OkwG"
      }
    },
    {
      "cell_type": "code",
      "source": [
        "# Given values\n",
        "observed = [45, 55]\n",
        "expected = [50, 50]\n",
        "\n",
        "# Perform the chi-square goodness of fit test\n",
        "chi2_stat, p_value = stats.chisquare(f_obs=observed, f_exp=expected)\n",
        "\n",
        "print(f\"Chi-square Statistic: {chi2_stat}\")\n",
        "print(f\"P-value: {p_value}\")\n",
        "\n",
        "# Determine if we reject the null hypothesis\n",
        "alpha = 0.05\n",
        "if p_value < alpha:\n",
        "    print(\"Reject the null hypothesis: The coin is biased towards tails.\")\n",
        "else:\n",
        "    print(\"Fail to reject the null hypothesis: The coin is not biased towards tails.\")\n"
      ],
      "metadata": {
        "colab": {
          "base_uri": "https://localhost:8080/"
        },
        "id": "MfZC-M5JOi7d",
        "outputId": "5a715745-6231-4764-cdce-61903e66c9e8"
      },
      "execution_count": 9,
      "outputs": [
        {
          "output_type": "stream",
          "name": "stdout",
          "text": [
            "Chi-square Statistic: 1.0\n",
            "P-value: 0.31731050786291115\n",
            "Fail to reject the null hypothesis: The coin is not biased towards tails.\n"
          ]
        }
      ]
    },
    {
      "cell_type": "markdown",
      "source": [
        "Q9: Conduct a chi-square test for independence between smoking status and lung cancer diagnosis."
      ],
      "metadata": {
        "id": "JWDBsxJQOpFh"
      }
    },
    {
      "cell_type": "code",
      "source": [
        "# Create the contingency table\n",
        "contingency_table = np.array([[60, 140], [30, 170]])\n",
        "\n",
        "# Perform the chi-square test of independence\n",
        "chi2_stat, p_value, dof, expected = stats.chi2_contingency(contingency_table)\n",
        "\n",
        "print(f\"Chi-square Statistic: {chi2_stat}\")\n",
        "print(f\"P-value: {p_value}\")\n",
        "print(f\"Degrees of Freedom: {dof}\")\n",
        "print(f\"Expected Frequencies: \\n{expected}\")\n",
        "\n",
        "# Determine if we reject the null hypothesis\n",
        "alpha = 0.05\n",
        "if p_value < alpha:\n",
        "    print(\"Reject the null hypothesis: There is a significant association between smoking status and lung cancer diagnosis.\")\n",
        "else:\n",
        "    print(\"Fail to reject the null hypothesis: There is no significant association between smoking status and lung cancer diagnosis.\")\n"
      ],
      "metadata": {
        "colab": {
          "base_uri": "https://localhost:8080/"
        },
        "id": "5HXhNN0bOmTG",
        "outputId": "bde695af-013e-4f9b-e915-acf2f6100596"
      },
      "execution_count": 10,
      "outputs": [
        {
          "output_type": "stream",
          "name": "stdout",
          "text": [
            "Chi-square Statistic: 12.057347670250895\n",
            "P-value: 0.0005158863863703744\n",
            "Degrees of Freedom: 1\n",
            "Expected Frequencies: \n",
            "[[ 45. 155.]\n",
            " [ 45. 155.]]\n",
            "Reject the null hypothesis: There is a significant association between smoking status and lung cancer diagnosis.\n"
          ]
        }
      ]
    },
    {
      "cell_type": "markdown",
      "source": [
        "Q10: Conduct a chi-square test for independence between chocolate preference and country of origin."
      ],
      "metadata": {
        "id": "7pv2osyNOsyG"
      }
    },
    {
      "cell_type": "code",
      "source": [
        "# Create the contingency table\n",
        "contingency_table = np.array([[200, 150, 150], [225, 175, 100]])\n",
        "\n",
        "# Perform the chi-square test of independence\n",
        "chi2_stat, p_value, dof, expected = stats.chi2_contingency(contingency_table)\n",
        "\n",
        "print(f\"Chi-square Statistic: {chi2_stat}\")\n",
        "print(f\"P-value: {p_value}\")\n",
        "print(f\"Degrees of Freedom: {dof}\")\n",
        "print(f\"Expected Frequencies: \\n{expected}\")\n",
        "\n",
        "# Determine if we reject the null hypothesis\n",
        "alpha = 0.01\n",
        "if p_value < alpha:\n",
        "    print(\"Reject the null hypothesis: There is a significant association between chocolate preference and country of origin.\")\n",
        "else:\n",
        "    print(\"Fail to reject the null hypothesis: There is no significant association between chocolate preference and country of origin.\")\n"
      ],
      "metadata": {
        "colab": {
          "base_uri": "https://localhost:8080/"
        },
        "id": "6zthzl2cOqfj",
        "outputId": "37084f52-5747-46a2-9aa6-36c6318f34a8"
      },
      "execution_count": 11,
      "outputs": [
        {
          "output_type": "stream",
          "name": "stdout",
          "text": [
            "Chi-square Statistic: 13.393665158371041\n",
            "P-value: 0.0012348168997745918\n",
            "Degrees of Freedom: 2\n",
            "Expected Frequencies: \n",
            "[[212.5 162.5 125. ]\n",
            " [212.5 162.5 125. ]]\n",
            "Reject the null hypothesis: There is a significant association between chocolate preference and country of origin.\n"
          ]
        }
      ]
    },
    {
      "cell_type": "markdown",
      "source": [
        "Q11: Conduct a hypothesis test to determine if the population mean is significantly different from 70."
      ],
      "metadata": {
        "id": "jeomt1BWOywW"
      }
    },
    {
      "cell_type": "code",
      "source": [
        "# Given values\n",
        "sample_mean = 72\n",
        "sample_std_dev = 10\n",
        "sample_size = 30\n",
        "population_mean = 70\n",
        "alpha = 0.05\n",
        "\n",
        "# Calculate the t-statistic\n",
        "t_stat = (sample_mean - population_mean) / (sample_std_dev / math.sqrt(sample_size))\n",
        "\n",
        "# Calculate the critical t-value for a two-tailed test\n",
        "critical_t_value = stats.t.ppf(1 - alpha/2, df=sample_size - 1)\n",
        "\n",
        "# Calculate the p-value\n",
        "p_value = (1 - stats.t.cdf(abs(t_stat), df=sample_size - 1)) * 2\n",
        "\n",
        "print(f\"T-statistic: {t_stat}\")\n",
        "print(f\"Critical T-value: {critical_t_value}\")\n",
        "print(f\"P-value: {p_value}\")\n",
        "\n",
        "# Determine if we reject the null hypothesis\n",
        "if abs(t_stat) > critical_t_value:\n",
        "    print(\"Reject the null hypothesis: The population mean is significantly different from 70.\")\n",
        "else:\n",
        "    print(\"Fail to reject the null hypothesis: The population mean is not significantly different from 70.\")\n"
      ],
      "metadata": {
        "colab": {
          "base_uri": "https://localhost:8080/"
        },
        "id": "X3phMyqNOuWs",
        "outputId": "4341e24e-84b7-4bca-d58e-3ee32032e470"
      },
      "execution_count": 12,
      "outputs": [
        {
          "output_type": "stream",
          "name": "stdout",
          "text": [
            "T-statistic: 1.0954451150103321\n",
            "Critical T-value: 2.045229642132703\n",
            "P-value: 0.2823362372860698\n",
            "Fail to reject the null hypothesis: The population mean is not significantly different from 70.\n"
          ]
        }
      ]
    },
    {
      "cell_type": "code",
      "source": [],
      "metadata": {
        "id": "AwwsiuytO0lu"
      },
      "execution_count": null,
      "outputs": []
    }
  ]
}