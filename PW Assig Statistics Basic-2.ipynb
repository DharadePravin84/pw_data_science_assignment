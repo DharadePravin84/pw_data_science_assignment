{
 "cells": [
  {
   "cell_type": "markdown",
   "id": "45632647-4e68-4224-b345-4f92564b0bc6",
   "metadata": {},
   "source": [
    "1. What are the three measures of central tendency?\n",
    "\n",
    "Ans:\n",
    "- The three measures of central tendency are the mean, median, and mode.\n",
    "\n",
    "2. What is the difference between the mean, median, and mode? How are they used to measure the central tendency of a dataset?\n",
    "\n",
    "Ans:\n",
    "- Mean: The mean is the average value of a dataset and is calculated by summing all the values and dividing by the number of observations.\n",
    "- Median: The median is the middle value of a dataset when it is arranged in ascending order. If there is an even number of observations, the median is the average of the two middle values.\n",
    "- Mode: The mode is the value that appears most frequently in a dataset. A dataset can have one mode, multiple modes (multimodal), or no mode (no value appears more than once).\n",
    "- These measures provide insights into the typical or central value around which the data is distributed.\n"
   ]
  },
  {
   "cell_type": "markdown",
   "id": "c485c886-f9bd-457a-8c2f-0f64926849f7",
   "metadata": {},
   "source": [
    "3. Measure the three measures of central tendency for the given height data:\n",
    "[178,177,176,177,178.2,178,175,179,180,175,178.9,176.2,177,172.5,178,176.5]"
   ]
  },
  {
   "cell_type": "code",
   "execution_count": 6,
   "id": "16b93c91-b10f-4ef8-b626-bbdbb8acdc31",
   "metadata": {},
   "outputs": [
    {
     "name": "stdout",
     "output_type": "stream",
     "text": [
      "Mean Height: 177.01875\n",
      "Median Height: 177.0\n",
      "Mode Height: 177.0\n"
     ]
    },
    {
     "name": "stderr",
     "output_type": "stream",
     "text": [
      "/tmp/ipykernel_2489/2564009285.py:8: FutureWarning: Unlike other reduction functions (e.g. `skew`, `kurtosis`), the default behavior of `mode` typically preserves the axis it acts along. In SciPy 1.11.0, this behavior will change: the default value of `keepdims` will become False, the `axis` over which the statistic is taken will be eliminated, and the value None will no longer be accepted. Set `keepdims` to True or False to avoid this warning.\n",
      "  mode_height = float(stats.mode(heights)[0])\n"
     ]
    }
   ],
   "source": [
    "import numpy as np\n",
    "from scipy import stats\n",
    "\n",
    "heights = [178,177,176,177,178.2,178,175,179,180,175,178.9,176.2,177,172.5,178,176.5]\n",
    "\n",
    "mean_height = np.mean(heights)\n",
    "median_height = np.median(heights)\n",
    "mode_height = float(stats.mode(heights)[0]) \n",
    "\n",
    "print(\"Mean Height:\", mean_height)\n",
    "print(\"Median Height:\", median_height)\n",
    "print(\"Mode Height:\", mode_height)\n"
   ]
  },
  {
   "cell_type": "markdown",
   "id": "17daeac4-0ac8-4c39-be6b-c295f9e0dd6a",
   "metadata": {},
   "source": [
    "4. Find the standard deviation for the given data:\n",
    "[178,177,176,177,178.2,178,175,179,180,175,178.9,176.2,177,172.5,178,176.5]"
   ]
  },
  {
   "cell_type": "code",
   "execution_count": 7,
   "id": "f7f2a5da-b982-43ad-b657-5a374a52a961",
   "metadata": {},
   "outputs": [
    {
     "name": "stdout",
     "output_type": "stream",
     "text": [
      "Standard Deviation: 1.7885814036548633\n"
     ]
    }
   ],
   "source": [
    "import numpy as np\n",
    "\n",
    "heights = [178,177,176,177,178.2,178,175,179,180,175,178.9,176.2,177,172.5,178,176.5]\n",
    "\n",
    "std_deviation = np.std(heights)\n",
    "\n",
    "print(\"Standard Deviation:\", std_deviation)\n"
   ]
  },
  {
   "cell_type": "markdown",
   "id": "7d55fe60-80d9-4f95-8e88-758ee62f6810",
   "metadata": {},
   "source": [
    "5. How are measures of dispersion such as range, variance, and standard deviation used to describe the spread of a dataset? Provide an example.\n",
    "\n",
    "Ans:\n",
    "- Measures of dispersion provide insights into how spread out or clustered the data points are around the central tendency. For example, a larger standard deviation indicates greater variability in the data, while a smaller standard deviation suggests that the data points are closer to the mean.\n",
    "\n",
    "6. What is a Venn diagram?\n",
    "\n",
    "Ans:\n",
    "- A Venn diagram is a graphical representation of the relationships between different sets or groups. It consists of overlapping circles or other shapes, where each circle represents a set and the overlap represents the intersection between sets.\n",
    "\n",
    "7. For the two given sets A = (2,3,4,5,6,7) & B = (0,2,6,8,10). Find:\n",
    "- (i) A ∩ B (Intersection)\n",
    "- (ii) A ⋃ B (Union)"
   ]
  },
  {
   "cell_type": "code",
   "execution_count": 8,
   "id": "b2525797-b94c-424d-a520-4d4a2620f4f1",
   "metadata": {},
   "outputs": [
    {
     "name": "stdout",
     "output_type": "stream",
     "text": [
      "Intersection: {2, 6}\n",
      "Union: {0, 2, 3, 4, 5, 6, 7, 8, 10}\n"
     ]
    }
   ],
   "source": [
    "A = set([2,3,4,5,6,7])\n",
    "B = set([0,2,6,8,10])\n",
    "\n",
    "intersection = A.intersection(B)\n",
    "union = A.union(B)\n",
    "\n",
    "print(\"Intersection:\", intersection)\n",
    "print(\"Union:\", union)\n"
   ]
  },
  {
   "cell_type": "markdown",
   "id": "ab585aa2-acf0-472a-9eab-562c3cf001aa",
   "metadata": {},
   "source": [
    "8. What do you understand about skewness in data?\n",
    "\n",
    "Ans:\n",
    "\n",
    "- Skewness measures the asymmetry of the distribution of data around its mean. A dataset can be positively skewed (tail extends to the right), negatively skewed (tail extends to the left), or approximately symmetric.\n",
    "\n",
    "9. If a data is right skewed then what will be the position of median with respect to mean?\n",
    "\n",
    "Ans:\n",
    "- In a right-skewed distribution, the mean is greater than the median because the skewness is pulling the mean in the direction of the longer tail (to the right).\n",
    "\n",
    "10. Explain the difference between covariance and correlation. How are these measures used in statistical analysis?\n",
    "\n",
    "Ans:\n",
    "- Covariance measures the degree to which two variables change together. A positive covariance indicates that the variables tend to increase or decrease together, while a negative covariance indicates an inverse relationship.\n",
    "- Correlation measures the strength and direction of the linear relationship between two variables. It is a standardized measure that ranges from -1 to 1, where 1 indicates a perfect positive correlation, -1 indicates a perfect negative correlation, and 0 indicates no correlation.\n"
   ]
  },
  {
   "cell_type": "markdown",
   "id": "cbe4c239-fae7-41ae-9765-d31a8dab3e7d",
   "metadata": {},
   "source": [
    "11. What is the formula for calculating the sample mean? Provide an example calculation for a dataset.\n",
    "\n",
    "Ans:\n",
    "- The formula for calculating the sample mean is:\n",
    "- Sample Mean = (Sum of all data points) / (Number of data points)\n"
   ]
  },
  {
   "cell_type": "code",
   "execution_count": 9,
   "id": "e7ff209b-5c0f-42e2-9026-83924413308c",
   "metadata": {},
   "outputs": [
    {
     "name": "stdout",
     "output_type": "stream",
     "text": [
      "Sample Mean: 13.4\n"
     ]
    }
   ],
   "source": [
    "# Example calculation:\n",
    "dataset = [10, 12, 14, 15, 16]\n",
    "sample_mean = sum(dataset) / len(dataset)\n",
    "print(\"Sample Mean:\", sample_mean)\n"
   ]
  },
  {
   "cell_type": "markdown",
   "id": "c93e4b59-e6f2-4853-989f-d834d91c6d8e",
   "metadata": {},
   "source": [
    "12. For a normal distribution data what is the relationship between its measures of central tendency?\n",
    "\n",
    "Ans:\n",
    "- In a normal distribution, the mean, median, and mode are all equal and located at the center of the distribution. This is a characteristic feature of symmetric distributions.\n",
    "\n",
    "13. How is covariance different from correlation?\n",
    "\n",
    "Ans:\n",
    "- Covariance measures the direction of the linear relationship between two variables and is not scaled, making it difficult to interpret. Correlation, on the other hand, standardizes covariance by dividing it by the product of the standard deviations of the two variables, providing a standardized measure of the strength and direction of the linear relationship.\n",
    "\n",
    "14. How do outliers affect measures of central tendency and dispersion? Provide an example.\n",
    "\n",
    "Q\n",
    "Outliers can significantly affect measures of central tendency, such as the mean, pulling them towards the extreme values. They can also impact measures of dispersion, such as the range and standard deviation, making them larger than they would be without the outliers. For example, in a dataset of salaries, an extremely high salary may inflate the mean, while an extremely low salary may increase the range and standard deviation.\n",
    "\n",
    "\n",
    "\n",
    "\n"
   ]
  }
 ],
 "metadata": {
  "kernelspec": {
   "display_name": "Python 3 (ipykernel)",
   "language": "python",
   "name": "python3"
  },
  "language_info": {
   "codemirror_mode": {
    "name": "ipython",
    "version": 3
   },
   "file_extension": ".py",
   "mimetype": "text/x-python",
   "name": "python",
   "nbconvert_exporter": "python",
   "pygments_lexer": "ipython3",
   "version": "3.10.8"
  }
 },
 "nbformat": 4,
 "nbformat_minor": 5
}
