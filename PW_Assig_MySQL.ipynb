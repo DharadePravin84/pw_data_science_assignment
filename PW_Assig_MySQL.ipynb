{
  "nbformat": 4,
  "nbformat_minor": 0,
  "metadata": {
    "colab": {
      "provenance": []
    },
    "kernelspec": {
      "name": "python3",
      "display_name": "Python 3"
    },
    "language_info": {
      "name": "python"
    }
  },
  "cells": [
    {
      "cell_type": "markdown",
      "source": [
        "Q1. What is a database? Differentiate between SQL and NoSQL databases.\n",
        "\n",
        "A database is an organized collection of data, generally stored and accessed electronically from a computer system. Databases allow for the storage, retrieval, updating, and management of data efficiently.\n",
        "\n",
        "SQL Databases:\n",
        "\n",
        "Relational: SQL databases are based on a table-based structure.\n",
        "Schema: Require a predefined schema to structure the data.\n",
        "Scalability: Vertical scalability (increasing the capacity of a single server).\n",
        "Transactions: Strong adherence to ACID properties (Atomicity, Consistency, Isolation, Durability).\n",
        "Query Language: Use SQL (Structured Query Language) for defining and manipulating data.\n",
        "NoSQL Databases:\n",
        "\n",
        "Non-Relational: NoSQL databases can be document-based, key-value pairs, wide-column stores, or graph databases.\n",
        "Schema: No fixed schema, flexible and dynamic schema design.\n",
        "Scalability: Horizontal scalability (distributing the load across multiple servers).\n",
        "Transactions: May not strictly follow ACID properties but often follow the BASE model (Basically Available, Soft state, Eventual consistency).\n",
        "Query Language: Each NoSQL database may have its own query language or use RESTful APIs.\n",
        "\n"
      ],
      "metadata": {
        "id": "smImSBAuporo"
      }
    },
    {
      "cell_type": "markdown",
      "source": [
        "Q2. What is DDL? Explain why CREATE, DROP, ALTER, and TRUNCATE are used with an example.\n",
        "\n",
        "DDL (Data Definition Language) is a subset of SQL that deals with defining and modifying database structures such as tables, indexes, and constraints.\n",
        "\n",
        "- CREATE TABLE Employees (\n",
        "  EmployeeID int,\n",
        "  FirstName varchar(255),\n",
        "  LastName varchar(255),\n",
        "  BirthDate date,\n",
        "  PRIMARY KEY (EmployeeID)\n",
        ");\n",
        "\n",
        "DROP: Used to delete existing tables or databases.\n",
        "\n",
        "- DROP TABLE Employees;\n",
        "\n",
        "ALTER: Used to modify the structure of an existing table.\n",
        "\n",
        "- ALTER TABLE Employees\n",
        "ADD Email varchar(255);\n",
        "\n",
        "TRUNCATE: Used to remove all records from a table, but not the table itself.\n",
        "\n",
        "- TRUNCATE TABLE Employees;\n",
        "\n"
      ],
      "metadata": {
        "id": "Z8SAOHmfp9qH"
      }
    },
    {
      "cell_type": "markdown",
      "source": [
        "Q3. What is DML? Explain INSERT, UPDATE, and DELETE with an example.\n",
        "\n",
        "DML (Data Manipulation Language) is a subset of SQL used for managing data within schema objects. It includes commands such as INSERT, UPDATE, and DELETE.\n",
        "\n",
        "INSERT: Used to insert new records into a table.\n",
        "\n",
        "- INSERT INTO Employees (EmployeeID, FirstName, LastName, BirthDate)\n",
        "VALUES (1, 'John', 'Doe', '1990-01-01');\n",
        "\n",
        "UPDATE: Used to modify existing records in a table.\n",
        "\n",
        "- UPDATE Employees\n",
        "SET Email = 'john.doe@example.com'\n",
        "WHERE EmployeeID = 1;\n",
        "\n",
        "DELETE: Used to delete existing records from a table.\n",
        "\n",
        "- DELETE FROM Employees\n",
        "WHERE EmployeeID = 1;\n",
        "\n"
      ],
      "metadata": {
        "id": "qdXPHhp4qfhk"
      }
    },
    {
      "cell_type": "markdown",
      "source": [
        "Q4. What is DQL? Explain SELECT with an example.\n",
        "\n",
        "DQL (Data Query Language) is a subset of SQL used to query the database and retrieve data. The primary command in DQL is SELECT.\n",
        "\n",
        "SELECT: Used to retrieve data from one or more tables.\n",
        "\n",
        "- SELECT FirstName, LastName, BirthDate\n",
        "FROM Employees\n",
        "WHERE EmployeeID = 1;\n"
      ],
      "metadata": {
        "id": "ngRphBagq8Lz"
      }
    },
    {
      "cell_type": "markdown",
      "source": [
        "Q5. Explain Primary Key and Foreign Key.\n",
        "\n",
        "Primary Key: A primary key is a field (or combination of fields) in a table that uniquely identifies each row/record in that table. It must contain unique values and cannot contain null values.\n",
        "\n",
        "- CREATE TABLE Employees (\n",
        "  EmployeeID int PRIMARY KEY,\n",
        "  FirstName varchar(255),\n",
        "  LastName varchar(255)\n",
        ");\n",
        "\n",
        "Foreign Key: A foreign key is a field (or combination of fields) in one table that uniquely identifies a row of another table. The foreign key is defined in a child table and references the primary key in the parent table.\n",
        "\n",
        "- CREATE TABLE Orders (\n",
        "  OrderID int,\n",
        "  OrderDate date,\n",
        "  EmployeeID int,\n",
        "  PRIMARY KEY (OrderID),\n",
        "  FOREIGN KEY (EmployeeID) REFERENCES Employees(EmployeeID)\n",
        ");\n"
      ],
      "metadata": {
        "id": "tPv27F__rC4d"
      }
    },
    {
      "cell_type": "markdown",
      "source": [
        "Q6. Write a python code to connect MySQL to python. Explain the cursor() and execute() method.\n",
        "\n",
        "To connect MySQL to Python, you can use the mysql-connector-python library.\n",
        "\n",
        "- import mysql.connector\n",
        "\n",
        "# Establish the connection\n",
        "- conn = mysql.connector.connect(\n",
        "    host='localhost',\n",
        "    user='yourusername',\n",
        "    password='yourpassword',\n",
        "    database='yourdatabase'\n",
        ")\n",
        "\n",
        "# Create a cursor object\n",
        "- cursor = conn.cursor()\n",
        "\n",
        "# Execute a SQL query\n",
        "- cursor.execute('SELECT * FROM employees')\n",
        "\n",
        "# Fetch the result\n",
        "- results = cursor.fetchall()\n",
        "\n",
        "- for row in results:\n",
        "    print(row)\n",
        "\n",
        "# Close the cursor and connection\n",
        "- cursor.close()\n",
        "- conn.close()\n"
      ],
      "metadata": {
        "id": "o6wDlMYmr-0M"
      }
    },
    {
      "cell_type": "markdown",
      "source": [
        "Q7. Give the order of execution of SQL clauses in an SQL query.\n",
        "\n",
        "The order of execution of SQL clauses in an SQL query is as follows:\n",
        "\n",
        "1. FROM: Specifies the table to query.\n",
        "2. JOIN: Joins tables.\n",
        "3. WHERE: Filters rows.\n",
        "4. GROUP BY: Groups rows based on a condition.\n",
        "5. HAVING: Filters groups.\n",
        "6. SELECT: Specifies the columns to return.\n",
        "7. DISTINCT: Removes duplicate rows from the result.\n",
        "8. ORDER BY: Sorts the result.\n",
        "9. LIMIT: Limits the number of rows returned."
      ],
      "metadata": {
        "id": "b19-bHwLsS33"
      }
    },
    {
      "cell_type": "code",
      "source": [],
      "metadata": {
        "id": "i0YaD4AJpy3w"
      },
      "execution_count": null,
      "outputs": []
    }
  ]
}